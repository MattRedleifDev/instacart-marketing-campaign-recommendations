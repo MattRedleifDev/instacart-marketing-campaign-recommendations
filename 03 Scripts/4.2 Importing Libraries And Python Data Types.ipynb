{
 "cells": [
  {
   "cell_type": "markdown",
   "id": "b93ced61",
   "metadata": {},
   "source": [
    "# 01 Importing Libraries"
   ]
  },
  {
   "cell_type": "code",
   "execution_count": 4,
   "id": "4bf12108",
   "metadata": {},
   "outputs": [],
   "source": [
    "# Import libraries\n",
    "import pandas as pd\n",
    "import numpy as np\n",
    "import os"
   ]
  },
  {
   "cell_type": "markdown",
   "id": "1bf5a7ac",
   "metadata": {},
   "source": [
    "# Data Types"
   ]
  },
  {
   "cell_type": "code",
   "execution_count": 13,
   "id": "be388bd7",
   "metadata": {},
   "outputs": [],
   "source": [
    "x = 49 + 51\n",
    "y = 300 - 275 + 75\n",
    "z = 50 + 75 - 25"
   ]
  },
  {
   "cell_type": "code",
   "execution_count": 16,
   "id": "15692f3e",
   "metadata": {},
   "outputs": [
    {
     "name": "stdout",
     "output_type": "stream",
     "text": [
      "100\n",
      "100\n",
      "100\n"
     ]
    }
   ],
   "source": [
    "print(x)\n",
    "print(y)\n",
    "print(z)"
   ]
  },
  {
   "cell_type": "code",
   "execution_count": 18,
   "id": "516f0902",
   "metadata": {},
   "outputs": [],
   "source": [
    "a = 3.1415\n",
    "b = 600.123\n",
    "c = b / a"
   ]
  },
  {
   "cell_type": "code",
   "execution_count": 19,
   "id": "25873673",
   "metadata": {},
   "outputs": [
    {
     "name": "stdout",
     "output_type": "stream",
     "text": [
      "191.0307178099634\n"
     ]
    }
   ],
   "source": [
    "print(c)"
   ]
  },
  {
   "cell_type": "code",
   "execution_count": 20,
   "id": "c828ead8",
   "metadata": {},
   "outputs": [],
   "source": [
    "d = 'Conca'\n",
    "e = 'ten'\n",
    "f = d + e + 'ate'"
   ]
  },
  {
   "cell_type": "code",
   "execution_count": 21,
   "id": "8ad30055",
   "metadata": {},
   "outputs": [
    {
     "name": "stdout",
     "output_type": "stream",
     "text": [
      "Concatenate\n"
     ]
    }
   ],
   "source": [
    "print(f)"
   ]
  },
  {
   "cell_type": "code",
   "execution_count": 22,
   "id": "38637ebb",
   "metadata": {},
   "outputs": [],
   "source": [
    "x = 'Look, I made '\n",
    "y = 'a sentence '\n",
    "z = 'from phrases.'"
   ]
  },
  {
   "cell_type": "code",
   "execution_count": 23,
   "id": "cb69a36b",
   "metadata": {},
   "outputs": [
    {
     "name": "stdout",
     "output_type": "stream",
     "text": [
      "Look, I made a sentence from phrases.\n"
     ]
    }
   ],
   "source": [
    "print(x + y + z)"
   ]
  },
  {
   "cell_type": "code",
   "execution_count": 26,
   "id": "badf2345",
   "metadata": {},
   "outputs": [],
   "source": [
    "x = 'I can make'\n",
    "y = 'more sentences,'\n",
    "z = 'but I need spaces.'"
   ]
  },
  {
   "cell_type": "code",
   "execution_count": 27,
   "id": "46357d92",
   "metadata": {},
   "outputs": [
    {
     "name": "stdout",
     "output_type": "stream",
     "text": [
      "I can make more sentences, but I need spaces.\n"
     ]
    }
   ],
   "source": [
    "print(x + ' ' + y + ' ' + z)"
   ]
  },
  {
   "cell_type": "code",
   "execution_count": 28,
   "id": "bf0e5515",
   "metadata": {},
   "outputs": [
    {
     "name": "stdout",
     "output_type": "stream",
     "text": [
      "file\n",
      "file\n",
      "file\n",
      "file\n",
      "file\n",
      "file\n",
      "file\n",
      "file\n",
      "file\n",
      "file\n",
      "file\n",
      "file\n",
      "file\n",
      "file\n",
      "file\n",
      "file\n",
      "file\n",
      "file\n",
      "file\n",
      "file\n",
      "file\n",
      "file\n",
      "file\n",
      "file\n",
      "file\n",
      "file\n",
      "file\n",
      "file\n",
      "file\n",
      "file\n",
      "file\n",
      "file\n",
      "file\n",
      "file\n",
      "file\n",
      "file\n",
      "file\n",
      "file\n",
      "file\n",
      "file\n",
      "file\n",
      "file\n",
      "file\n",
      "file\n",
      "file\n",
      "file\n",
      "file\n",
      "file\n",
      "file\n",
      "file\n",
      "file\n",
      "file\n",
      "file\n",
      "file\n",
      "file\n",
      "file\n",
      "file\n",
      "file\n",
      "file\n",
      "file\n",
      "file\n",
      "file\n",
      "file\n",
      "file\n",
      "file\n",
      "file\n",
      "file\n",
      "file\n",
      "file\n",
      "file\n",
      "file\n",
      "file\n",
      "file\n",
      "file\n",
      "file\n",
      "file\n",
      "file\n",
      "file\n",
      "file\n",
      "file\n",
      "file\n",
      "file\n",
      "file\n",
      "file\n",
      "file\n",
      "file\n",
      "file\n",
      "file\n",
      "file\n",
      "file\n",
      "file\n",
      "file\n",
      "file\n",
      "file\n",
      "file\n",
      "file\n",
      "file\n",
      "file\n",
      "file\n",
      "file\n",
      "\n"
     ]
    }
   ],
   "source": [
    "print('file\\n' * 100)"
   ]
  },
  {
   "cell_type": "code",
   "execution_count": null,
   "id": "88576a51",
   "metadata": {},
   "outputs": [],
   "source": []
  }
 ],
 "metadata": {
  "kernelspec": {
   "display_name": "Python 3 (ipykernel)",
   "language": "python",
   "name": "python3"
  },
  "language_info": {
   "codemirror_mode": {
    "name": "ipython",
    "version": 3
   },
   "file_extension": ".py",
   "mimetype": "text/x-python",
   "name": "python",
   "nbconvert_exporter": "python",
   "pygments_lexer": "ipython3",
   "version": "3.9.16"
  }
 },
 "nbformat": 4,
 "nbformat_minor": 5
}

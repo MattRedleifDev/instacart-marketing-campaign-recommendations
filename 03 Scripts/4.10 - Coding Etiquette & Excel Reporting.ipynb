{
 "cells": [
  {
   "cell_type": "markdown",
   "id": "2554bc76",
   "metadata": {},
   "source": [
    "## Contents:\n",
    "## Import libraries and set path\n",
    "## Import current data\n",
    "## Drop first_name and last_name from table - PII\n",
    "## Create region for each state; compare to spending\n",
    "### Lists to capture regions of each state\n",
    "### Compare region_of_state with spending_flag\n",
    "## Identify and remove customers with order count < 5\n",
    "### Create subsets of data for high and low activity customers\n",
    "## Create multiple customer profile variables\n",
    "### Add new field: age_category\n",
    "### Add new field: income_category\n",
    "### Add new field: marital_dependents\n",
    "## Profile visualizations\n",
    "### Visualization - age_category profile\n",
    "### Visualization - marital_dependents profile\n",
    "### Visualization - income_category\n",
    "### Visualization - region_of_state\n",
    "### Visualization - department\n",
    "## Aggregate max, mean, min variables on profile level for usage frequency and expenditure\n",
    "### Age statistics (age_category)\n",
    "### Marital dependents statistics (marital_dependents)\n",
    "### Income statistics (income_category)\n",
    "### Region statistics (region_of_state)\n",
    "### Department statistics (department_id)\n",
    "\n",
    "## Various crosstab comparisons (region and department) to identify relationships and visualizations\n",
    "### Cross - Age (age_category) vs Region (region_of_state)\n",
    "### Cross - Marital / Dependents (marital_dependent) vs Region (region_of_state)\n",
    "### Cross - Income (income_category) vs Region (region_of_state)\n",
    "### Cross - Region (region_of_state) vs Region (region_of_state)\n",
    "### Cross - Department (department_id) vs Region (region_of_state)\n",
    "### Cross - Age (age_category) vs Department (department_id)\n",
    "### Cross - Marital / Dependents (marital_dependent) vs Department (department_id)\n",
    "### Cross - Income (income_category) vs Department (department_id)\n",
    "### Cross - Department (department_id) vs Department (department_id)\n",
    "### Cross - Region (region_of_state) vs Department (department_id)\n",
    "### Cross - Loyalty (loyalty_flag) and Age category (age_category)\n",
    "### Cross - Loyalty (loyalty_flag) and Income category (income_category)\n",
    "### Cross - Loyalty (loyalty_flag) and Marital / Dependents (marital_dependent)\n",
    "### Cross - Loyalty (loyalty_flag) and Region (region_of_state)\n",
    "## Export final data set\n",
    "# -----------------------------------"
   ]
  },
  {
   "cell_type": "markdown",
   "id": "70e5e3dd",
   "metadata": {},
   "source": [
    "### Import libraries and set path"
   ]
  },
  {
   "cell_type": "code",
   "execution_count": 1,
   "id": "9e0f2e53",
   "metadata": {},
   "outputs": [],
   "source": [
    "# Import libraries\n",
    "import pandas as pd\n",
    "import numpy as np\n",
    "import os\n",
    "import matplotlib.pyplot as plt\n",
    "import seaborn as sns\n",
    "import scipy"
   ]
  },
  {
   "cell_type": "code",
   "execution_count": 2,
   "id": "09e5ca9c",
   "metadata": {},
   "outputs": [],
   "source": [
    "# Set path for use in import\n",
    "path = r'C:\\Users\\XLT2\\CFProjects\\2023-04-07 Instacart Basket Analysis'"
   ]
  },
  {
   "cell_type": "markdown",
   "id": "e62cfc2e",
   "metadata": {},
   "source": [
    "### Step 1 - Import current data"
   ]
  },
  {
   "cell_type": "code",
   "execution_count": 3,
   "id": "10861656",
   "metadata": {},
   "outputs": [],
   "source": [
    "# Import orders_products_w_full_customer_info.pkl\n",
    "df_orders_products_customers = pd.read_pickle(os.path.join(path, '02 Data', 'Prepared Data', 'orders_products_w_full_customer_info.pkl'))"
   ]
  },
  {
   "cell_type": "code",
   "execution_count": 4,
   "id": "ded3f50d",
   "metadata": {},
   "outputs": [
    {
     "data": {
      "text/html": [
       "<div>\n",
       "<style scoped>\n",
       "    .dataframe tbody tr th:only-of-type {\n",
       "        vertical-align: middle;\n",
       "    }\n",
       "\n",
       "    .dataframe tbody tr th {\n",
       "        vertical-align: top;\n",
       "    }\n",
       "\n",
       "    .dataframe thead th {\n",
       "        text-align: right;\n",
       "    }\n",
       "</style>\n",
       "<table border=\"1\" class=\"dataframe\">\n",
       "  <thead>\n",
       "    <tr style=\"text-align: right;\">\n",
       "      <th></th>\n",
       "      <th>product_id</th>\n",
       "      <th>product_name</th>\n",
       "      <th>aisle_id</th>\n",
       "      <th>department_id</th>\n",
       "      <th>prices</th>\n",
       "      <th>order_id</th>\n",
       "      <th>user_id</th>\n",
       "      <th>eval_set</th>\n",
       "      <th>order_number</th>\n",
       "      <th>order_dow</th>\n",
       "      <th>...</th>\n",
       "      <th>first_name</th>\n",
       "      <th>last_name</th>\n",
       "      <th>gender</th>\n",
       "      <th>state</th>\n",
       "      <th>age</th>\n",
       "      <th>date_joined</th>\n",
       "      <th>num_of_dependents</th>\n",
       "      <th>marital_status</th>\n",
       "      <th>income</th>\n",
       "      <th>_merge</th>\n",
       "    </tr>\n",
       "  </thead>\n",
       "  <tbody>\n",
       "    <tr>\n",
       "      <th>0</th>\n",
       "      <td>1</td>\n",
       "      <td>Chocolate Sandwich Cookies</td>\n",
       "      <td>61</td>\n",
       "      <td>19</td>\n",
       "      <td>5.8</td>\n",
       "      <td>3139998</td>\n",
       "      <td>138</td>\n",
       "      <td>prior</td>\n",
       "      <td>28</td>\n",
       "      <td>6</td>\n",
       "      <td>...</td>\n",
       "      <td>Charles</td>\n",
       "      <td>Cox</td>\n",
       "      <td>Male</td>\n",
       "      <td>Minnesota</td>\n",
       "      <td>81</td>\n",
       "      <td>8/1/2019</td>\n",
       "      <td>1</td>\n",
       "      <td>married</td>\n",
       "      <td>49620</td>\n",
       "      <td>both</td>\n",
       "    </tr>\n",
       "    <tr>\n",
       "      <th>1</th>\n",
       "      <td>1</td>\n",
       "      <td>Chocolate Sandwich Cookies</td>\n",
       "      <td>61</td>\n",
       "      <td>19</td>\n",
       "      <td>5.8</td>\n",
       "      <td>1977647</td>\n",
       "      <td>138</td>\n",
       "      <td>prior</td>\n",
       "      <td>30</td>\n",
       "      <td>6</td>\n",
       "      <td>...</td>\n",
       "      <td>Charles</td>\n",
       "      <td>Cox</td>\n",
       "      <td>Male</td>\n",
       "      <td>Minnesota</td>\n",
       "      <td>81</td>\n",
       "      <td>8/1/2019</td>\n",
       "      <td>1</td>\n",
       "      <td>married</td>\n",
       "      <td>49620</td>\n",
       "      <td>both</td>\n",
       "    </tr>\n",
       "    <tr>\n",
       "      <th>2</th>\n",
       "      <td>1</td>\n",
       "      <td>Chocolate Sandwich Cookies</td>\n",
       "      <td>61</td>\n",
       "      <td>19</td>\n",
       "      <td>5.8</td>\n",
       "      <td>389851</td>\n",
       "      <td>709</td>\n",
       "      <td>prior</td>\n",
       "      <td>2</td>\n",
       "      <td>0</td>\n",
       "      <td>...</td>\n",
       "      <td>Deborah</td>\n",
       "      <td>Glass</td>\n",
       "      <td>Female</td>\n",
       "      <td>Vermont</td>\n",
       "      <td>66</td>\n",
       "      <td>6/16/2018</td>\n",
       "      <td>2</td>\n",
       "      <td>married</td>\n",
       "      <td>158302</td>\n",
       "      <td>both</td>\n",
       "    </tr>\n",
       "    <tr>\n",
       "      <th>3</th>\n",
       "      <td>1</td>\n",
       "      <td>Chocolate Sandwich Cookies</td>\n",
       "      <td>61</td>\n",
       "      <td>19</td>\n",
       "      <td>5.8</td>\n",
       "      <td>652770</td>\n",
       "      <td>764</td>\n",
       "      <td>prior</td>\n",
       "      <td>1</td>\n",
       "      <td>3</td>\n",
       "      <td>...</td>\n",
       "      <td>Heather</td>\n",
       "      <td>Myers</td>\n",
       "      <td>Female</td>\n",
       "      <td>Wisconsin</td>\n",
       "      <td>40</td>\n",
       "      <td>2/9/2020</td>\n",
       "      <td>3</td>\n",
       "      <td>married</td>\n",
       "      <td>31308</td>\n",
       "      <td>both</td>\n",
       "    </tr>\n",
       "    <tr>\n",
       "      <th>4</th>\n",
       "      <td>1</td>\n",
       "      <td>Chocolate Sandwich Cookies</td>\n",
       "      <td>61</td>\n",
       "      <td>19</td>\n",
       "      <td>5.8</td>\n",
       "      <td>1813452</td>\n",
       "      <td>764</td>\n",
       "      <td>prior</td>\n",
       "      <td>3</td>\n",
       "      <td>4</td>\n",
       "      <td>...</td>\n",
       "      <td>Heather</td>\n",
       "      <td>Myers</td>\n",
       "      <td>Female</td>\n",
       "      <td>Wisconsin</td>\n",
       "      <td>40</td>\n",
       "      <td>2/9/2020</td>\n",
       "      <td>3</td>\n",
       "      <td>married</td>\n",
       "      <td>31308</td>\n",
       "      <td>both</td>\n",
       "    </tr>\n",
       "  </tbody>\n",
       "</table>\n",
       "<p>5 rows × 34 columns</p>\n",
       "</div>"
      ],
      "text/plain": [
       "   product_id                product_name  aisle_id  department_id  prices  \\\n",
       "0           1  Chocolate Sandwich Cookies        61             19     5.8   \n",
       "1           1  Chocolate Sandwich Cookies        61             19     5.8   \n",
       "2           1  Chocolate Sandwich Cookies        61             19     5.8   \n",
       "3           1  Chocolate Sandwich Cookies        61             19     5.8   \n",
       "4           1  Chocolate Sandwich Cookies        61             19     5.8   \n",
       "\n",
       "   order_id  user_id eval_set  order_number  order_dow  ...  first_name  \\\n",
       "0   3139998      138    prior            28          6  ...     Charles   \n",
       "1   1977647      138    prior            30          6  ...     Charles   \n",
       "2    389851      709    prior             2          0  ...     Deborah   \n",
       "3    652770      764    prior             1          3  ...     Heather   \n",
       "4   1813452      764    prior             3          4  ...     Heather   \n",
       "\n",
       "   last_name  gender      state age date_joined num_of_dependents  \\\n",
       "0        Cox    Male  Minnesota  81    8/1/2019                 1   \n",
       "1        Cox    Male  Minnesota  81    8/1/2019                 1   \n",
       "2      Glass  Female    Vermont  66   6/16/2018                 2   \n",
       "3      Myers  Female  Wisconsin  40    2/9/2020                 3   \n",
       "4      Myers  Female  Wisconsin  40    2/9/2020                 3   \n",
       "\n",
       "  marital_status  income _merge  \n",
       "0        married   49620   both  \n",
       "1        married   49620   both  \n",
       "2        married  158302   both  \n",
       "3        married   31308   both  \n",
       "4        married   31308   both  \n",
       "\n",
       "[5 rows x 34 columns]"
      ]
     },
     "execution_count": 4,
     "metadata": {},
     "output_type": "execute_result"
    }
   ],
   "source": [
    "# Confirm good import\n",
    "df_orders_products_customers.head()"
   ]
  },
  {
   "cell_type": "code",
   "execution_count": 6,
   "id": "831c09fd",
   "metadata": {},
   "outputs": [
    {
     "name": "stdout",
     "output_type": "stream",
     "text": [
      "<class 'pandas.core.frame.DataFrame'>\n",
      "Int64Index: 32404859 entries, 0 to 32404858\n",
      "Data columns (total 34 columns):\n",
      " #   Column                  Dtype   \n",
      "---  ------                  -----   \n",
      " 0   product_id              int64   \n",
      " 1   product_name            object  \n",
      " 2   aisle_id                int64   \n",
      " 3   department_id           int64   \n",
      " 4   prices                  float64 \n",
      " 5   order_id                int64   \n",
      " 6   user_id                 int64   \n",
      " 7   eval_set                object  \n",
      " 8   order_number            int64   \n",
      " 9   order_dow               int64   \n",
      " 10  order_hour_of_day       int64   \n",
      " 11  days_since_prior_order  float64 \n",
      " 12  add_to_cart_order       int64   \n",
      " 13  reordered               int64   \n",
      " 14  price_range_loc         object  \n",
      " 15  busiest_day             object  \n",
      " 16  busiest_days_2          object  \n",
      " 17  busiest_hours           object  \n",
      " 18  max_order               int64   \n",
      " 19  loyalty_flag            object  \n",
      " 20  avg_spend               float64 \n",
      " 21  spending_flag           object  \n",
      " 22  frequency_median        float64 \n",
      " 23  frequency_flag          object  \n",
      " 24  first_name              object  \n",
      " 25  last_name               object  \n",
      " 26  gender                  object  \n",
      " 27  state                   object  \n",
      " 28  age                     int64   \n",
      " 29  date_joined             object  \n",
      " 30  num_of_dependents       int64   \n",
      " 31  marital_status          object  \n",
      " 32  income                  int64   \n",
      " 33  _merge                  category\n",
      "dtypes: category(1), float64(4), int64(14), object(15)\n",
      "memory usage: 8.2+ GB\n"
     ]
    }
   ],
   "source": [
    "# Confirm columns with PII info\n",
    "df_orders_products_customers.info()"
   ]
  },
  {
   "cell_type": "markdown",
   "id": "8450a561",
   "metadata": {},
   "source": [
    "### Step 2 - Drop first_name and last_name from table - PII"
   ]
  },
  {
   "cell_type": "code",
   "execution_count": 5,
   "id": "fb19c8b5",
   "metadata": {},
   "outputs": [],
   "source": [
    "# Drop first_name and last_name from df - PII\n",
    "df_orders_products_customers = df_orders_products_customers.drop(columns = ['first_name', 'last_name'])"
   ]
  },
  {
   "cell_type": "code",
   "execution_count": 8,
   "id": "288de845",
   "metadata": {},
   "outputs": [
    {
     "name": "stdout",
     "output_type": "stream",
     "text": [
      "<class 'pandas.core.frame.DataFrame'>\n",
      "Int64Index: 32404859 entries, 0 to 32404858\n",
      "Data columns (total 32 columns):\n",
      " #   Column                  Dtype   \n",
      "---  ------                  -----   \n",
      " 0   product_id              int64   \n",
      " 1   product_name            object  \n",
      " 2   aisle_id                int64   \n",
      " 3   department_id           int64   \n",
      " 4   prices                  float64 \n",
      " 5   order_id                int64   \n",
      " 6   user_id                 int64   \n",
      " 7   eval_set                object  \n",
      " 8   order_number            int64   \n",
      " 9   order_dow               int64   \n",
      " 10  order_hour_of_day       int64   \n",
      " 11  days_since_prior_order  float64 \n",
      " 12  add_to_cart_order       int64   \n",
      " 13  reordered               int64   \n",
      " 14  price_range_loc         object  \n",
      " 15  busiest_day             object  \n",
      " 16  busiest_days_2          object  \n",
      " 17  busiest_hours           object  \n",
      " 18  max_order               int64   \n",
      " 19  loyalty_flag            object  \n",
      " 20  avg_spend               float64 \n",
      " 21  spending_flag           object  \n",
      " 22  frequency_median        float64 \n",
      " 23  frequency_flag          object  \n",
      " 24  gender                  object  \n",
      " 25  state                   object  \n",
      " 26  age                     int64   \n",
      " 27  date_joined             object  \n",
      " 28  num_of_dependents       int64   \n",
      " 29  marital_status          object  \n",
      " 30  income                  int64   \n",
      " 31  _merge                  category\n",
      "dtypes: category(1), float64(4), int64(14), object(13)\n",
      "memory usage: 7.8+ GB\n"
     ]
    }
   ],
   "source": [
    "# Confirm columns first_name and last_name dropped successfully\n",
    "df_orders_products_customers.info()"
   ]
  },
  {
   "cell_type": "markdown",
   "id": "0c186ea7",
   "metadata": {},
   "source": [
    "### Step 3 - Create region for each state; compare to spending"
   ]
  },
  {
   "cell_type": "code",
   "execution_count": 9,
   "id": "c387b78c",
   "metadata": {},
   "outputs": [
    {
     "data": {
      "text/plain": [
       "Pennsylvania            667082\n",
       "California              659783\n",
       "Rhode Island            656913\n",
       "Georgia                 656389\n",
       "New Mexico              654494\n",
       "Arizona                 653964\n",
       "North Carolina          651900\n",
       "Oklahoma                651739\n",
       "Alaska                  648495\n",
       "Minnesota               647825\n",
       "Massachusetts           646358\n",
       "Wyoming                 644255\n",
       "Virginia                641421\n",
       "Missouri                640732\n",
       "Texas                   640394\n",
       "Colorado                639280\n",
       "Maine                   638583\n",
       "North Dakota            638491\n",
       "Alabama                 638003\n",
       "Kansas                  637538\n",
       "Louisiana               637482\n",
       "Delaware                637024\n",
       "South Carolina          636754\n",
       "Oregon                  636425\n",
       "Arkansas                636144\n",
       "Nevada                  636139\n",
       "New York                635983\n",
       "Montana                 635265\n",
       "South Dakota            633772\n",
       "Illinois                633024\n",
       "Hawaii                  632901\n",
       "Washington              632852\n",
       "Mississippi             632675\n",
       "Kentucky                632490\n",
       "Michigan                630928\n",
       "Florida                 629027\n",
       "Ohio                    628319\n",
       "Wisconsin               628108\n",
       "New Jersey              627692\n",
       "Indiana                 627282\n",
       "Maryland                626579\n",
       "Nebraska                625813\n",
       "Iowa                    625493\n",
       "Connecticut             623022\n",
       "Tennessee               617873\n",
       "New Hampshire           615378\n",
       "District of Columbia    613695\n",
       "West Virginia           612296\n",
       "Utah                    611941\n",
       "Vermont                 611725\n",
       "Idaho                   607119\n",
       "Name: state, dtype: int64"
      ]
     },
     "execution_count": 9,
     "metadata": {},
     "output_type": "execute_result"
    }
   ],
   "source": [
    "# Confirm states included to assure a match with the region designations\n",
    "df_orders_products_customers['state'].value_counts(dropna = False)"
   ]
  },
  {
   "cell_type": "markdown",
   "id": "d3d7005e",
   "metadata": {},
   "source": [
    "### Lists to capture regions of each state"
   ]
  },
  {
   "cell_type": "code",
   "execution_count": 6,
   "id": "df5ac61c",
   "metadata": {},
   "outputs": [],
   "source": [
    "# Variables to capture states in a region\n",
    "# Source: https://simple.wikipedia.org/wiki/List_of_regions_of_the_United_States\n",
    "\n",
    "# Region1 (Northeast)\n",
    "region1 = [\n",
    "    'Maine',\n",
    "    'New Hampshire',\n",
    "    'Vermont',\n",
    "    'Massachusetts',\n",
    "    'Rhode Island',\n",
    "    'Connecticut',\n",
    "    'New York',\n",
    "    'Pennsylvania',\n",
    "    'New Jersey'\n",
    "]\n",
    "\n",
    "# Region2 (Midwest)\n",
    "region2 = [\n",
    "    'Wisconsin',\n",
    "    'Michigan',\n",
    "    'Illinois',\n",
    "    'Indiana',\n",
    "    'Ohio',\n",
    "    'North Dakota',\n",
    "    'South Dakota',\n",
    "    'Nebraska',\n",
    "    'Kansas',\n",
    "    'Minnesota',\n",
    "    'Iowa',\n",
    "    'Missouri'\n",
    "]\n",
    "\n",
    "# Region3 (South)\n",
    "region3 = [\n",
    "    'Delaware',\n",
    "    'Maryland',\n",
    "    'District of Columbia',\n",
    "    'Virginia',\n",
    "    'West Virginia',\n",
    "    'North Carolina',\n",
    "    'South Carolina',\n",
    "    'Georgia',\n",
    "    'Florida',\n",
    "    'Kentucky',\n",
    "    'Tennessee',\n",
    "    'Mississippi',\n",
    "    'Alabama',\n",
    "    'Oklahoma',\n",
    "    'Texas',\n",
    "    'Arkansas',\n",
    "    'Louisiana'\n",
    "]\n",
    "\n",
    "# Region4 (West)\n",
    "region4 = [\n",
    "    'Idaho',\n",
    "    'Montana',\n",
    "    'Wyoming',\n",
    "    'Nevada',\n",
    "    'Utah',\n",
    "    'Colorado',\n",
    "    'Arizona',\n",
    "    'New Mexico',\n",
    "    'Alaska',\n",
    "    'Washington',\n",
    "    'Oregon',\n",
    "    'California',\n",
    "    'Hawaii'\n",
    "]"
   ]
  },
  {
   "cell_type": "code",
   "execution_count": 7,
   "id": "ea4a2134",
   "metadata": {},
   "outputs": [],
   "source": [
    "# FUNCTION: Test for and return region to add to df\n",
    "def state_region(row):\n",
    "    if row['state'] in region1:\n",
    "        return 'Region1 (Northeast)'\n",
    "    elif row['state'] in region2:\n",
    "        return 'Region2 (Midwest)'\n",
    "    elif row['state'] in region3:\n",
    "        return 'Region3 (South)'\n",
    "    elif row['state'] in region4:\n",
    "        return 'Region4 (West)'\n",
    "    else:\n",
    "        return 'No region identified'"
   ]
  },
  {
   "cell_type": "code",
   "execution_count": 8,
   "id": "e8575bcc",
   "metadata": {},
   "outputs": [],
   "source": [
    "# Assign region values in new column 'region_of_state'\n",
    "df_orders_products_customers['region_of_state'] = df_orders_products_customers.apply(state_region, axis = 1)"
   ]
  },
  {
   "cell_type": "code",
   "execution_count": 13,
   "id": "9289b17c",
   "metadata": {},
   "outputs": [
    {
     "data": {
      "text/html": [
       "<div>\n",
       "<style scoped>\n",
       "    .dataframe tbody tr th:only-of-type {\n",
       "        vertical-align: middle;\n",
       "    }\n",
       "\n",
       "    .dataframe tbody tr th {\n",
       "        vertical-align: top;\n",
       "    }\n",
       "\n",
       "    .dataframe thead th {\n",
       "        text-align: right;\n",
       "    }\n",
       "</style>\n",
       "<table border=\"1\" class=\"dataframe\">\n",
       "  <thead>\n",
       "    <tr style=\"text-align: right;\">\n",
       "      <th></th>\n",
       "      <th>product_id</th>\n",
       "      <th>product_name</th>\n",
       "      <th>aisle_id</th>\n",
       "      <th>department_id</th>\n",
       "      <th>prices</th>\n",
       "      <th>order_id</th>\n",
       "      <th>user_id</th>\n",
       "      <th>eval_set</th>\n",
       "      <th>order_number</th>\n",
       "      <th>order_dow</th>\n",
       "      <th>...</th>\n",
       "      <th>frequency_flag</th>\n",
       "      <th>gender</th>\n",
       "      <th>state</th>\n",
       "      <th>age</th>\n",
       "      <th>date_joined</th>\n",
       "      <th>num_of_dependents</th>\n",
       "      <th>marital_status</th>\n",
       "      <th>income</th>\n",
       "      <th>_merge</th>\n",
       "      <th>region_of_state</th>\n",
       "    </tr>\n",
       "  </thead>\n",
       "  <tbody>\n",
       "    <tr>\n",
       "      <th>0</th>\n",
       "      <td>1</td>\n",
       "      <td>Chocolate Sandwich Cookies</td>\n",
       "      <td>61</td>\n",
       "      <td>19</td>\n",
       "      <td>5.8</td>\n",
       "      <td>3139998</td>\n",
       "      <td>138</td>\n",
       "      <td>prior</td>\n",
       "      <td>28</td>\n",
       "      <td>6</td>\n",
       "      <td>...</td>\n",
       "      <td>Frequent customer</td>\n",
       "      <td>Male</td>\n",
       "      <td>Minnesota</td>\n",
       "      <td>81</td>\n",
       "      <td>8/1/2019</td>\n",
       "      <td>1</td>\n",
       "      <td>married</td>\n",
       "      <td>49620</td>\n",
       "      <td>both</td>\n",
       "      <td>Region2 (Midwest)</td>\n",
       "    </tr>\n",
       "    <tr>\n",
       "      <th>1</th>\n",
       "      <td>1</td>\n",
       "      <td>Chocolate Sandwich Cookies</td>\n",
       "      <td>61</td>\n",
       "      <td>19</td>\n",
       "      <td>5.8</td>\n",
       "      <td>1977647</td>\n",
       "      <td>138</td>\n",
       "      <td>prior</td>\n",
       "      <td>30</td>\n",
       "      <td>6</td>\n",
       "      <td>...</td>\n",
       "      <td>Frequent customer</td>\n",
       "      <td>Male</td>\n",
       "      <td>Minnesota</td>\n",
       "      <td>81</td>\n",
       "      <td>8/1/2019</td>\n",
       "      <td>1</td>\n",
       "      <td>married</td>\n",
       "      <td>49620</td>\n",
       "      <td>both</td>\n",
       "      <td>Region2 (Midwest)</td>\n",
       "    </tr>\n",
       "    <tr>\n",
       "      <th>2</th>\n",
       "      <td>1</td>\n",
       "      <td>Chocolate Sandwich Cookies</td>\n",
       "      <td>61</td>\n",
       "      <td>19</td>\n",
       "      <td>5.8</td>\n",
       "      <td>389851</td>\n",
       "      <td>709</td>\n",
       "      <td>prior</td>\n",
       "      <td>2</td>\n",
       "      <td>0</td>\n",
       "      <td>...</td>\n",
       "      <td>Frequent customer</td>\n",
       "      <td>Female</td>\n",
       "      <td>Vermont</td>\n",
       "      <td>66</td>\n",
       "      <td>6/16/2018</td>\n",
       "      <td>2</td>\n",
       "      <td>married</td>\n",
       "      <td>158302</td>\n",
       "      <td>both</td>\n",
       "      <td>Region1 (Northeast)</td>\n",
       "    </tr>\n",
       "    <tr>\n",
       "      <th>3</th>\n",
       "      <td>1</td>\n",
       "      <td>Chocolate Sandwich Cookies</td>\n",
       "      <td>61</td>\n",
       "      <td>19</td>\n",
       "      <td>5.8</td>\n",
       "      <td>652770</td>\n",
       "      <td>764</td>\n",
       "      <td>prior</td>\n",
       "      <td>1</td>\n",
       "      <td>3</td>\n",
       "      <td>...</td>\n",
       "      <td>Frequent customer</td>\n",
       "      <td>Female</td>\n",
       "      <td>Wisconsin</td>\n",
       "      <td>40</td>\n",
       "      <td>2/9/2020</td>\n",
       "      <td>3</td>\n",
       "      <td>married</td>\n",
       "      <td>31308</td>\n",
       "      <td>both</td>\n",
       "      <td>Region2 (Midwest)</td>\n",
       "    </tr>\n",
       "    <tr>\n",
       "      <th>4</th>\n",
       "      <td>1</td>\n",
       "      <td>Chocolate Sandwich Cookies</td>\n",
       "      <td>61</td>\n",
       "      <td>19</td>\n",
       "      <td>5.8</td>\n",
       "      <td>1813452</td>\n",
       "      <td>764</td>\n",
       "      <td>prior</td>\n",
       "      <td>3</td>\n",
       "      <td>4</td>\n",
       "      <td>...</td>\n",
       "      <td>Frequent customer</td>\n",
       "      <td>Female</td>\n",
       "      <td>Wisconsin</td>\n",
       "      <td>40</td>\n",
       "      <td>2/9/2020</td>\n",
       "      <td>3</td>\n",
       "      <td>married</td>\n",
       "      <td>31308</td>\n",
       "      <td>both</td>\n",
       "      <td>Region2 (Midwest)</td>\n",
       "    </tr>\n",
       "  </tbody>\n",
       "</table>\n",
       "<p>5 rows × 33 columns</p>\n",
       "</div>"
      ],
      "text/plain": [
       "   product_id                product_name  aisle_id  department_id  prices  \\\n",
       "0           1  Chocolate Sandwich Cookies        61             19     5.8   \n",
       "1           1  Chocolate Sandwich Cookies        61             19     5.8   \n",
       "2           1  Chocolate Sandwich Cookies        61             19     5.8   \n",
       "3           1  Chocolate Sandwich Cookies        61             19     5.8   \n",
       "4           1  Chocolate Sandwich Cookies        61             19     5.8   \n",
       "\n",
       "   order_id  user_id eval_set  order_number  order_dow  ...  \\\n",
       "0   3139998      138    prior            28          6  ...   \n",
       "1   1977647      138    prior            30          6  ...   \n",
       "2    389851      709    prior             2          0  ...   \n",
       "3    652770      764    prior             1          3  ...   \n",
       "4   1813452      764    prior             3          4  ...   \n",
       "\n",
       "      frequency_flag  gender      state  age date_joined num_of_dependents  \\\n",
       "0  Frequent customer    Male  Minnesota   81    8/1/2019                 1   \n",
       "1  Frequent customer    Male  Minnesota   81    8/1/2019                 1   \n",
       "2  Frequent customer  Female    Vermont   66   6/16/2018                 2   \n",
       "3  Frequent customer  Female  Wisconsin   40    2/9/2020                 3   \n",
       "4  Frequent customer  Female  Wisconsin   40    2/9/2020                 3   \n",
       "\n",
       "  marital_status  income  _merge      region_of_state  \n",
       "0        married   49620    both    Region2 (Midwest)  \n",
       "1        married   49620    both    Region2 (Midwest)  \n",
       "2        married  158302    both  Region1 (Northeast)  \n",
       "3        married   31308    both    Region2 (Midwest)  \n",
       "4        married   31308    both    Region2 (Midwest)  \n",
       "\n",
       "[5 rows x 33 columns]"
      ]
     },
     "execution_count": 13,
     "metadata": {},
     "output_type": "execute_result"
    }
   ],
   "source": [
    "# Confirm add of column\n",
    "df_orders_products_customers.head()"
   ]
  },
  {
   "cell_type": "code",
   "execution_count": 14,
   "id": "0e60466c",
   "metadata": {},
   "outputs": [
    {
     "data": {
      "text/plain": [
       "Region3 (South)        10791885\n",
       "Region4 (West)          8292913\n",
       "Region2 (Midwest)       7597325\n",
       "Region1 (Northeast)     5722736\n",
       "Name: region_of_state, dtype: int64"
      ]
     },
     "execution_count": 14,
     "metadata": {},
     "output_type": "execute_result"
    }
   ],
   "source": [
    "# Confirm region values added\n",
    "df_orders_products_customers['region_of_state'].value_counts(dropna = False)"
   ]
  },
  {
   "cell_type": "code",
   "execution_count": 15,
   "id": "c0957646",
   "metadata": {},
   "outputs": [
    {
     "data": {
      "text/plain": [
       "(32404859, 33)"
      ]
     },
     "execution_count": 15,
     "metadata": {},
     "output_type": "execute_result"
    }
   ],
   "source": [
    "# Confirm no rows added/dropped\n",
    "df_orders_products_customers.shape"
   ]
  },
  {
   "cell_type": "markdown",
   "id": "4e00bb08",
   "metadata": {},
   "source": [
    "### Compare region_of_state with spending_flag"
   ]
  },
  {
   "cell_type": "code",
   "execution_count": 16,
   "id": "ba47c113",
   "metadata": {},
   "outputs": [],
   "source": [
    "# Create crosstab between 'region_of_state' and 'spending_flag'\n",
    "region_spending_cross = pd.crosstab(df_orders_products_customers['region_of_state'], df_orders_products_customers['spending_flag'], dropna = False)"
   ]
  },
  {
   "cell_type": "code",
   "execution_count": 17,
   "id": "7a8ce933",
   "metadata": {},
   "outputs": [
    {
     "data": {
      "text/html": [
       "<div>\n",
       "<style scoped>\n",
       "    .dataframe tbody tr th:only-of-type {\n",
       "        vertical-align: middle;\n",
       "    }\n",
       "\n",
       "    .dataframe tbody tr th {\n",
       "        vertical-align: top;\n",
       "    }\n",
       "\n",
       "    .dataframe thead th {\n",
       "        text-align: right;\n",
       "    }\n",
       "</style>\n",
       "<table border=\"1\" class=\"dataframe\">\n",
       "  <thead>\n",
       "    <tr style=\"text-align: right;\">\n",
       "      <th>spending_flag</th>\n",
       "      <th>High spender</th>\n",
       "      <th>Low spender</th>\n",
       "    </tr>\n",
       "    <tr>\n",
       "      <th>region_of_state</th>\n",
       "      <th></th>\n",
       "      <th></th>\n",
       "    </tr>\n",
       "  </thead>\n",
       "  <tbody>\n",
       "    <tr>\n",
       "      <th>Region1 (Northeast)</th>\n",
       "      <td>108225</td>\n",
       "      <td>5614511</td>\n",
       "    </tr>\n",
       "    <tr>\n",
       "      <th>Region2 (Midwest)</th>\n",
       "      <td>155975</td>\n",
       "      <td>7441350</td>\n",
       "    </tr>\n",
       "    <tr>\n",
       "      <th>Region3 (South)</th>\n",
       "      <td>209691</td>\n",
       "      <td>10582194</td>\n",
       "    </tr>\n",
       "    <tr>\n",
       "      <th>Region4 (West)</th>\n",
       "      <td>160354</td>\n",
       "      <td>8132559</td>\n",
       "    </tr>\n",
       "  </tbody>\n",
       "</table>\n",
       "</div>"
      ],
      "text/plain": [
       "spending_flag        High spender  Low spender\n",
       "region_of_state                               \n",
       "Region1 (Northeast)        108225      5614511\n",
       "Region2 (Midwest)          155975      7441350\n",
       "Region3 (South)            209691     10582194\n",
       "Region4 (West)             160354      8132559"
      ]
     },
     "execution_count": 17,
     "metadata": {},
     "output_type": "execute_result"
    }
   ],
   "source": [
    "region_spending_cross"
   ]
  },
  {
   "cell_type": "code",
   "execution_count": 18,
   "id": "8a166cd0",
   "metadata": {},
   "outputs": [],
   "source": [
    "# Copy region_spending to clipboard to paste to Excel\n",
    "region_spending_cross.to_clipboard()"
   ]
  },
  {
   "cell_type": "markdown",
   "id": "751a2cbf",
   "metadata": {},
   "source": [
    "### Step 4 - Identify and remove customers with order count < 5"
   ]
  },
  {
   "cell_type": "code",
   "execution_count": 9,
   "id": "4427c5da",
   "metadata": {},
   "outputs": [],
   "source": [
    "# FUNCTION: Test for and return customer activity to add to df\n",
    "def cust_activity(row):\n",
    "    if row['max_order'] >= 5:\n",
    "        return 'High-activity customer'\n",
    "    elif row['max_order'] < 5:\n",
    "        return 'Low-activity customer'\n",
    "    else:\n",
    "        return 'No activity'"
   ]
  },
  {
   "cell_type": "code",
   "execution_count": 10,
   "id": "31e05309",
   "metadata": {},
   "outputs": [],
   "source": [
    "# Assign activity values in new column 'cust_activity'\n",
    "df_orders_products_customers['cust_activity'] = df_orders_products_customers.apply(cust_activity, axis = 1)"
   ]
  },
  {
   "cell_type": "code",
   "execution_count": 21,
   "id": "aebc015d",
   "metadata": {},
   "outputs": [
    {
     "data": {
      "text/plain": [
       "High-activity customer    30964564\n",
       "Low-activity customer      1440295\n",
       "Name: cust_activity, dtype: int64"
      ]
     },
     "execution_count": 21,
     "metadata": {},
     "output_type": "execute_result"
    }
   ],
   "source": [
    "df_orders_products_customers['cust_activity'].value_counts(dropna = False)"
   ]
  },
  {
   "cell_type": "code",
   "execution_count": 22,
   "id": "0036576e",
   "metadata": {},
   "outputs": [
    {
     "data": {
      "text/html": [
       "<div>\n",
       "<style scoped>\n",
       "    .dataframe tbody tr th:only-of-type {\n",
       "        vertical-align: middle;\n",
       "    }\n",
       "\n",
       "    .dataframe tbody tr th {\n",
       "        vertical-align: top;\n",
       "    }\n",
       "\n",
       "    .dataframe thead th {\n",
       "        text-align: right;\n",
       "    }\n",
       "</style>\n",
       "<table border=\"1\" class=\"dataframe\">\n",
       "  <thead>\n",
       "    <tr style=\"text-align: right;\">\n",
       "      <th></th>\n",
       "      <th>product_id</th>\n",
       "      <th>product_name</th>\n",
       "      <th>aisle_id</th>\n",
       "      <th>department_id</th>\n",
       "      <th>prices</th>\n",
       "      <th>order_id</th>\n",
       "      <th>user_id</th>\n",
       "      <th>eval_set</th>\n",
       "      <th>order_number</th>\n",
       "      <th>order_dow</th>\n",
       "      <th>...</th>\n",
       "      <th>gender</th>\n",
       "      <th>state</th>\n",
       "      <th>age</th>\n",
       "      <th>date_joined</th>\n",
       "      <th>num_of_dependents</th>\n",
       "      <th>marital_status</th>\n",
       "      <th>income</th>\n",
       "      <th>_merge</th>\n",
       "      <th>region_of_state</th>\n",
       "      <th>cust_activity</th>\n",
       "    </tr>\n",
       "  </thead>\n",
       "  <tbody>\n",
       "    <tr>\n",
       "      <th>0</th>\n",
       "      <td>1</td>\n",
       "      <td>Chocolate Sandwich Cookies</td>\n",
       "      <td>61</td>\n",
       "      <td>19</td>\n",
       "      <td>5.8</td>\n",
       "      <td>3139998</td>\n",
       "      <td>138</td>\n",
       "      <td>prior</td>\n",
       "      <td>28</td>\n",
       "      <td>6</td>\n",
       "      <td>...</td>\n",
       "      <td>Male</td>\n",
       "      <td>Minnesota</td>\n",
       "      <td>81</td>\n",
       "      <td>8/1/2019</td>\n",
       "      <td>1</td>\n",
       "      <td>married</td>\n",
       "      <td>49620</td>\n",
       "      <td>both</td>\n",
       "      <td>Region2 (Midwest)</td>\n",
       "      <td>High-activity customer</td>\n",
       "    </tr>\n",
       "    <tr>\n",
       "      <th>1</th>\n",
       "      <td>1</td>\n",
       "      <td>Chocolate Sandwich Cookies</td>\n",
       "      <td>61</td>\n",
       "      <td>19</td>\n",
       "      <td>5.8</td>\n",
       "      <td>1977647</td>\n",
       "      <td>138</td>\n",
       "      <td>prior</td>\n",
       "      <td>30</td>\n",
       "      <td>6</td>\n",
       "      <td>...</td>\n",
       "      <td>Male</td>\n",
       "      <td>Minnesota</td>\n",
       "      <td>81</td>\n",
       "      <td>8/1/2019</td>\n",
       "      <td>1</td>\n",
       "      <td>married</td>\n",
       "      <td>49620</td>\n",
       "      <td>both</td>\n",
       "      <td>Region2 (Midwest)</td>\n",
       "      <td>High-activity customer</td>\n",
       "    </tr>\n",
       "    <tr>\n",
       "      <th>2</th>\n",
       "      <td>1</td>\n",
       "      <td>Chocolate Sandwich Cookies</td>\n",
       "      <td>61</td>\n",
       "      <td>19</td>\n",
       "      <td>5.8</td>\n",
       "      <td>389851</td>\n",
       "      <td>709</td>\n",
       "      <td>prior</td>\n",
       "      <td>2</td>\n",
       "      <td>0</td>\n",
       "      <td>...</td>\n",
       "      <td>Female</td>\n",
       "      <td>Vermont</td>\n",
       "      <td>66</td>\n",
       "      <td>6/16/2018</td>\n",
       "      <td>2</td>\n",
       "      <td>married</td>\n",
       "      <td>158302</td>\n",
       "      <td>both</td>\n",
       "      <td>Region1 (Northeast)</td>\n",
       "      <td>High-activity customer</td>\n",
       "    </tr>\n",
       "    <tr>\n",
       "      <th>3</th>\n",
       "      <td>1</td>\n",
       "      <td>Chocolate Sandwich Cookies</td>\n",
       "      <td>61</td>\n",
       "      <td>19</td>\n",
       "      <td>5.8</td>\n",
       "      <td>652770</td>\n",
       "      <td>764</td>\n",
       "      <td>prior</td>\n",
       "      <td>1</td>\n",
       "      <td>3</td>\n",
       "      <td>...</td>\n",
       "      <td>Female</td>\n",
       "      <td>Wisconsin</td>\n",
       "      <td>40</td>\n",
       "      <td>2/9/2020</td>\n",
       "      <td>3</td>\n",
       "      <td>married</td>\n",
       "      <td>31308</td>\n",
       "      <td>both</td>\n",
       "      <td>Region2 (Midwest)</td>\n",
       "      <td>Low-activity customer</td>\n",
       "    </tr>\n",
       "    <tr>\n",
       "      <th>4</th>\n",
       "      <td>1</td>\n",
       "      <td>Chocolate Sandwich Cookies</td>\n",
       "      <td>61</td>\n",
       "      <td>19</td>\n",
       "      <td>5.8</td>\n",
       "      <td>1813452</td>\n",
       "      <td>764</td>\n",
       "      <td>prior</td>\n",
       "      <td>3</td>\n",
       "      <td>4</td>\n",
       "      <td>...</td>\n",
       "      <td>Female</td>\n",
       "      <td>Wisconsin</td>\n",
       "      <td>40</td>\n",
       "      <td>2/9/2020</td>\n",
       "      <td>3</td>\n",
       "      <td>married</td>\n",
       "      <td>31308</td>\n",
       "      <td>both</td>\n",
       "      <td>Region2 (Midwest)</td>\n",
       "      <td>Low-activity customer</td>\n",
       "    </tr>\n",
       "  </tbody>\n",
       "</table>\n",
       "<p>5 rows × 34 columns</p>\n",
       "</div>"
      ],
      "text/plain": [
       "   product_id                product_name  aisle_id  department_id  prices  \\\n",
       "0           1  Chocolate Sandwich Cookies        61             19     5.8   \n",
       "1           1  Chocolate Sandwich Cookies        61             19     5.8   \n",
       "2           1  Chocolate Sandwich Cookies        61             19     5.8   \n",
       "3           1  Chocolate Sandwich Cookies        61             19     5.8   \n",
       "4           1  Chocolate Sandwich Cookies        61             19     5.8   \n",
       "\n",
       "   order_id  user_id eval_set  order_number  order_dow  ...  gender  \\\n",
       "0   3139998      138    prior            28          6  ...    Male   \n",
       "1   1977647      138    prior            30          6  ...    Male   \n",
       "2    389851      709    prior             2          0  ...  Female   \n",
       "3    652770      764    prior             1          3  ...  Female   \n",
       "4   1813452      764    prior             3          4  ...  Female   \n",
       "\n",
       "       state  age  date_joined num_of_dependents marital_status  income  \\\n",
       "0  Minnesota   81     8/1/2019                 1        married   49620   \n",
       "1  Minnesota   81     8/1/2019                 1        married   49620   \n",
       "2    Vermont   66    6/16/2018                 2        married  158302   \n",
       "3  Wisconsin   40     2/9/2020                 3        married   31308   \n",
       "4  Wisconsin   40     2/9/2020                 3        married   31308   \n",
       "\n",
       "  _merge      region_of_state           cust_activity  \n",
       "0   both    Region2 (Midwest)  High-activity customer  \n",
       "1   both    Region2 (Midwest)  High-activity customer  \n",
       "2   both  Region1 (Northeast)  High-activity customer  \n",
       "3   both    Region2 (Midwest)   Low-activity customer  \n",
       "4   both    Region2 (Midwest)   Low-activity customer  \n",
       "\n",
       "[5 rows x 34 columns]"
      ]
     },
     "execution_count": 22,
     "metadata": {},
     "output_type": "execute_result"
    }
   ],
   "source": [
    "df_orders_products_customers.head()"
   ]
  },
  {
   "cell_type": "markdown",
   "id": "ed5cb424",
   "metadata": {},
   "source": [
    "#### Export full df for archive"
   ]
  },
  {
   "cell_type": "code",
   "execution_count": 23,
   "id": "7caa454e",
   "metadata": {},
   "outputs": [],
   "source": [
    "# Export FULL orders_products_customer.pkl\n",
    "df_orders_products_customers.to_pickle(os.path.join(path, '02 Data', 'Prepared Data', 'orders_products_customer_info_FULL_4_10_4.pkl'))"
   ]
  },
  {
   "cell_type": "markdown",
   "id": "db676e97",
   "metadata": {},
   "source": [
    "### Create subsets of data for high and low activity customers"
   ]
  },
  {
   "cell_type": "code",
   "execution_count": 24,
   "id": "4d45cc62",
   "metadata": {},
   "outputs": [],
   "source": [
    "# Create subset - low activity customers\n",
    "df_ords_prods_low_act_cust = df_orders_products_customers[df_orders_products_customers['cust_activity'] == 'Low-activity customer']"
   ]
  },
  {
   "cell_type": "code",
   "execution_count": 11,
   "id": "ed1cf04e",
   "metadata": {},
   "outputs": [],
   "source": [
    "# Create subset - high activity customers\n",
    "df_ords_prods_high_act_cust = df_orders_products_customers[df_orders_products_customers['cust_activity'] == 'High-activity customer']"
   ]
  },
  {
   "cell_type": "markdown",
   "id": "6fb4b215",
   "metadata": {},
   "source": [
    "#### Verify all rows accounted for"
   ]
  },
  {
   "cell_type": "code",
   "execution_count": 26,
   "id": "b060d4e2",
   "metadata": {},
   "outputs": [
    {
     "data": {
      "text/plain": [
       "(32404859, 34)"
      ]
     },
     "execution_count": 26,
     "metadata": {},
     "output_type": "execute_result"
    }
   ],
   "source": [
    "# Confirm shape of full df\n",
    "df_orders_products_customers.shape"
   ]
  },
  {
   "cell_type": "code",
   "execution_count": 27,
   "id": "00d625b9",
   "metadata": {},
   "outputs": [
    {
     "data": {
      "text/plain": [
       "(30964564, 34)"
      ]
     },
     "execution_count": 27,
     "metadata": {},
     "output_type": "execute_result"
    }
   ],
   "source": [
    "# Confirm shape of high activity cust df\n",
    "df_ords_prods_high_act_cust.shape"
   ]
  },
  {
   "cell_type": "code",
   "execution_count": 28,
   "id": "cc070f54",
   "metadata": {},
   "outputs": [
    {
     "data": {
      "text/plain": [
       "(1440295, 34)"
      ]
     },
     "execution_count": 28,
     "metadata": {},
     "output_type": "execute_result"
    }
   ],
   "source": [
    "# Confirm shape of low activity cust df\n",
    "df_ords_prods_low_act_cust.shape"
   ]
  },
  {
   "cell_type": "markdown",
   "id": "ef21a044",
   "metadata": {},
   "source": [
    "#### Export low activity customer df for archive"
   ]
  },
  {
   "cell_type": "code",
   "execution_count": 29,
   "id": "0d0987d6",
   "metadata": {},
   "outputs": [],
   "source": [
    "# Export low activity customers df.pkl\n",
    "df_ords_prods_low_act_cust.to_pickle(os.path.join(path, '02 Data', 'Prepared Data', 'orders_products_low_activity_customers_only.pkl'))"
   ]
  },
  {
   "cell_type": "markdown",
   "id": "ab804415",
   "metadata": {},
   "source": [
    "### Step 5 - Create multiple customer profile variables"
   ]
  },
  {
   "cell_type": "markdown",
   "id": "84f370fb",
   "metadata": {},
   "source": [
    "### Add new field: age_category"
   ]
  },
  {
   "cell_type": "code",
   "execution_count": 30,
   "id": "d854e497",
   "metadata": {},
   "outputs": [],
   "source": [
    "# Adjust view to permit more rows to display\n",
    "pd.set_option('display.max_rows', 500)"
   ]
  },
  {
   "cell_type": "code",
   "execution_count": 31,
   "id": "f9214d81",
   "metadata": {},
   "outputs": [
    {
     "data": {
      "text/plain": [
       "18    478457\n",
       "19    496077\n",
       "20    480194\n",
       "21    489116\n",
       "22    490811\n",
       "23    492931\n",
       "24    487608\n",
       "25    449324\n",
       "26    489892\n",
       "27    501071\n",
       "28    464831\n",
       "29    497291\n",
       "30    486637\n",
       "31    506218\n",
       "32    474676\n",
       "33    472331\n",
       "34    484830\n",
       "35    496510\n",
       "36    460649\n",
       "37    487618\n",
       "38    492790\n",
       "39    485248\n",
       "40    483323\n",
       "41    451269\n",
       "42    485081\n",
       "43    499729\n",
       "44    494457\n",
       "45    488088\n",
       "46    472571\n",
       "47    494052\n",
       "48    506730\n",
       "49    507879\n",
       "50    468776\n",
       "51    492218\n",
       "52    480429\n",
       "53    479004\n",
       "54    497817\n",
       "55    489733\n",
       "56    499580\n",
       "57    473657\n",
       "58    479842\n",
       "59    480715\n",
       "60    461897\n",
       "61    463615\n",
       "62    473859\n",
       "63    474757\n",
       "64    504832\n",
       "65    464710\n",
       "66    454604\n",
       "67    472533\n",
       "68    501319\n",
       "69    489495\n",
       "70    480234\n",
       "71    463515\n",
       "72    479884\n",
       "73    499453\n",
       "74    477168\n",
       "75    499229\n",
       "76    477348\n",
       "77    477999\n",
       "78    471119\n",
       "79    508337\n",
       "80    492750\n",
       "81    485847\n",
       "Name: age, dtype: int64"
      ]
     },
     "execution_count": 31,
     "metadata": {},
     "output_type": "execute_result"
    }
   ],
   "source": [
    "# Confirm age ranges of customers included\n",
    "df_ords_prods_high_act_cust['age'].value_counts(dropna = False).sort_index(ascending = True)"
   ]
  },
  {
   "cell_type": "code",
   "execution_count": 32,
   "id": "12042494",
   "metadata": {},
   "outputs": [],
   "source": [
    "# Adjust view to permit more rows to display\n",
    "pd.set_option('display.max_rows', 10)"
   ]
  },
  {
   "cell_type": "code",
   "execution_count": 13,
   "id": "4b3109df",
   "metadata": {},
   "outputs": [],
   "source": [
    "# Create new column as age_category\n",
    "df_ords_prods_high_act_cust.loc[df_ords_prods_high_act_cust['age'] < 18, 'age_category'] = 'Child'\n",
    "df_ords_prods_high_act_cust.loc[((df_ords_prods_high_act_cust['age'] >= 18) & (df_ords_prods_high_act_cust['age'] < 40)), 'age_category'] = 'Younger adult'\n",
    "df_ords_prods_high_act_cust.loc[((df_ords_prods_high_act_cust['age'] >= 40) & (df_ords_prods_high_act_cust['age'] < 65)), 'age_category'] = 'Older adult'\n",
    "df_ords_prods_high_act_cust.loc[df_ords_prods_high_act_cust['age'] >= 65, 'age_category'] = 'Retired adult'"
   ]
  },
  {
   "cell_type": "code",
   "execution_count": 35,
   "id": "435747e5",
   "metadata": {},
   "outputs": [
    {
     "data": {
      "text/html": [
       "<div>\n",
       "<style scoped>\n",
       "    .dataframe tbody tr th:only-of-type {\n",
       "        vertical-align: middle;\n",
       "    }\n",
       "\n",
       "    .dataframe tbody tr th {\n",
       "        vertical-align: top;\n",
       "    }\n",
       "\n",
       "    .dataframe thead th {\n",
       "        text-align: right;\n",
       "    }\n",
       "</style>\n",
       "<table border=\"1\" class=\"dataframe\">\n",
       "  <thead>\n",
       "    <tr style=\"text-align: right;\">\n",
       "      <th></th>\n",
       "      <th>product_id</th>\n",
       "      <th>product_name</th>\n",
       "      <th>aisle_id</th>\n",
       "      <th>department_id</th>\n",
       "      <th>prices</th>\n",
       "      <th>order_id</th>\n",
       "      <th>user_id</th>\n",
       "      <th>eval_set</th>\n",
       "      <th>order_number</th>\n",
       "      <th>order_dow</th>\n",
       "      <th>...</th>\n",
       "      <th>state</th>\n",
       "      <th>age</th>\n",
       "      <th>date_joined</th>\n",
       "      <th>num_of_dependents</th>\n",
       "      <th>marital_status</th>\n",
       "      <th>income</th>\n",
       "      <th>_merge</th>\n",
       "      <th>region_of_state</th>\n",
       "      <th>cust_activity</th>\n",
       "      <th>age_category</th>\n",
       "    </tr>\n",
       "  </thead>\n",
       "  <tbody>\n",
       "    <tr>\n",
       "      <th>0</th>\n",
       "      <td>1</td>\n",
       "      <td>Chocolate Sandwich Cookies</td>\n",
       "      <td>61</td>\n",
       "      <td>19</td>\n",
       "      <td>5.8</td>\n",
       "      <td>3139998</td>\n",
       "      <td>138</td>\n",
       "      <td>prior</td>\n",
       "      <td>28</td>\n",
       "      <td>6</td>\n",
       "      <td>...</td>\n",
       "      <td>Minnesota</td>\n",
       "      <td>81</td>\n",
       "      <td>8/1/2019</td>\n",
       "      <td>1</td>\n",
       "      <td>married</td>\n",
       "      <td>49620</td>\n",
       "      <td>both</td>\n",
       "      <td>Region2 (Midwest)</td>\n",
       "      <td>High-activity customer</td>\n",
       "      <td>Retired adult</td>\n",
       "    </tr>\n",
       "    <tr>\n",
       "      <th>1</th>\n",
       "      <td>1</td>\n",
       "      <td>Chocolate Sandwich Cookies</td>\n",
       "      <td>61</td>\n",
       "      <td>19</td>\n",
       "      <td>5.8</td>\n",
       "      <td>1977647</td>\n",
       "      <td>138</td>\n",
       "      <td>prior</td>\n",
       "      <td>30</td>\n",
       "      <td>6</td>\n",
       "      <td>...</td>\n",
       "      <td>Minnesota</td>\n",
       "      <td>81</td>\n",
       "      <td>8/1/2019</td>\n",
       "      <td>1</td>\n",
       "      <td>married</td>\n",
       "      <td>49620</td>\n",
       "      <td>both</td>\n",
       "      <td>Region2 (Midwest)</td>\n",
       "      <td>High-activity customer</td>\n",
       "      <td>Retired adult</td>\n",
       "    </tr>\n",
       "    <tr>\n",
       "      <th>2</th>\n",
       "      <td>1</td>\n",
       "      <td>Chocolate Sandwich Cookies</td>\n",
       "      <td>61</td>\n",
       "      <td>19</td>\n",
       "      <td>5.8</td>\n",
       "      <td>389851</td>\n",
       "      <td>709</td>\n",
       "      <td>prior</td>\n",
       "      <td>2</td>\n",
       "      <td>0</td>\n",
       "      <td>...</td>\n",
       "      <td>Vermont</td>\n",
       "      <td>66</td>\n",
       "      <td>6/16/2018</td>\n",
       "      <td>2</td>\n",
       "      <td>married</td>\n",
       "      <td>158302</td>\n",
       "      <td>both</td>\n",
       "      <td>Region1 (Northeast)</td>\n",
       "      <td>High-activity customer</td>\n",
       "      <td>Retired adult</td>\n",
       "    </tr>\n",
       "    <tr>\n",
       "      <th>5</th>\n",
       "      <td>1</td>\n",
       "      <td>Chocolate Sandwich Cookies</td>\n",
       "      <td>61</td>\n",
       "      <td>19</td>\n",
       "      <td>5.8</td>\n",
       "      <td>1701441</td>\n",
       "      <td>777</td>\n",
       "      <td>prior</td>\n",
       "      <td>16</td>\n",
       "      <td>1</td>\n",
       "      <td>...</td>\n",
       "      <td>Hawaii</td>\n",
       "      <td>51</td>\n",
       "      <td>1/4/2019</td>\n",
       "      <td>2</td>\n",
       "      <td>married</td>\n",
       "      <td>57797</td>\n",
       "      <td>both</td>\n",
       "      <td>Region4 (West)</td>\n",
       "      <td>High-activity customer</td>\n",
       "      <td>Older adult</td>\n",
       "    </tr>\n",
       "    <tr>\n",
       "      <th>6</th>\n",
       "      <td>1</td>\n",
       "      <td>Chocolate Sandwich Cookies</td>\n",
       "      <td>61</td>\n",
       "      <td>19</td>\n",
       "      <td>5.8</td>\n",
       "      <td>1871483</td>\n",
       "      <td>825</td>\n",
       "      <td>prior</td>\n",
       "      <td>3</td>\n",
       "      <td>2</td>\n",
       "      <td>...</td>\n",
       "      <td>District of Columbia</td>\n",
       "      <td>20</td>\n",
       "      <td>5/8/2019</td>\n",
       "      <td>3</td>\n",
       "      <td>living with parents and siblings</td>\n",
       "      <td>34171</td>\n",
       "      <td>both</td>\n",
       "      <td>Region3 (South)</td>\n",
       "      <td>High-activity customer</td>\n",
       "      <td>Younger adult</td>\n",
       "    </tr>\n",
       "  </tbody>\n",
       "</table>\n",
       "<p>5 rows × 35 columns</p>\n",
       "</div>"
      ],
      "text/plain": [
       "   product_id                product_name  aisle_id  department_id  prices  \\\n",
       "0           1  Chocolate Sandwich Cookies        61             19     5.8   \n",
       "1           1  Chocolate Sandwich Cookies        61             19     5.8   \n",
       "2           1  Chocolate Sandwich Cookies        61             19     5.8   \n",
       "5           1  Chocolate Sandwich Cookies        61             19     5.8   \n",
       "6           1  Chocolate Sandwich Cookies        61             19     5.8   \n",
       "\n",
       "   order_id  user_id eval_set  order_number  order_dow  ...  \\\n",
       "0   3139998      138    prior            28          6  ...   \n",
       "1   1977647      138    prior            30          6  ...   \n",
       "2    389851      709    prior             2          0  ...   \n",
       "5   1701441      777    prior            16          1  ...   \n",
       "6   1871483      825    prior             3          2  ...   \n",
       "\n",
       "                  state  age  date_joined  num_of_dependents  \\\n",
       "0             Minnesota   81     8/1/2019                  1   \n",
       "1             Minnesota   81     8/1/2019                  1   \n",
       "2               Vermont   66    6/16/2018                  2   \n",
       "5                Hawaii   51     1/4/2019                  2   \n",
       "6  District of Columbia   20     5/8/2019                  3   \n",
       "\n",
       "                     marital_status  income _merge      region_of_state  \\\n",
       "0                           married   49620   both    Region2 (Midwest)   \n",
       "1                           married   49620   both    Region2 (Midwest)   \n",
       "2                           married  158302   both  Region1 (Northeast)   \n",
       "5                           married   57797   both       Region4 (West)   \n",
       "6  living with parents and siblings   34171   both      Region3 (South)   \n",
       "\n",
       "            cust_activity   age_category  \n",
       "0  High-activity customer  Retired adult  \n",
       "1  High-activity customer  Retired adult  \n",
       "2  High-activity customer  Retired adult  \n",
       "5  High-activity customer    Older adult  \n",
       "6  High-activity customer  Younger adult  \n",
       "\n",
       "[5 rows x 35 columns]"
      ]
     },
     "execution_count": 35,
     "metadata": {},
     "output_type": "execute_result"
    }
   ],
   "source": [
    "# Check that age_category was added\n",
    "df_ords_prods_high_act_cust.head()"
   ]
  },
  {
   "cell_type": "code",
   "execution_count": 36,
   "id": "1850cd80",
   "metadata": {},
   "outputs": [
    {
     "data": {
      "text/plain": [
       "Older adult      12103910\n",
       "Younger adult    10665110\n",
       "Retired adult     8195544\n",
       "Name: age_category, dtype: int64"
      ]
     },
     "execution_count": 36,
     "metadata": {},
     "output_type": "execute_result"
    }
   ],
   "source": [
    "# Confirm no null values created\n",
    "df_ords_prods_high_act_cust['age_category'].value_counts(dropna = False)"
   ]
  },
  {
   "cell_type": "markdown",
   "id": "01e96466",
   "metadata": {},
   "source": [
    "### Add new field: income_category"
   ]
  },
  {
   "cell_type": "code",
   "execution_count": 37,
   "id": "efb35ed8",
   "metadata": {},
   "outputs": [
    {
     "data": {
      "text/plain": [
       "25903      20\n",
       "25911      28\n",
       "25937      39\n",
       "25941      31\n",
       "25955     392\n",
       "         ... \n",
       "584097    826\n",
       "590790     54\n",
       "591089    176\n",
       "592409    318\n",
       "593901    640\n",
       "Name: income, Length: 96069, dtype: int64"
      ]
     },
     "execution_count": 37,
     "metadata": {},
     "output_type": "execute_result"
    }
   ],
   "source": [
    "# Confirm income ranges in df\n",
    "df_ords_prods_high_act_cust['income'].value_counts(dropna = False).sort_index()"
   ]
  },
  {
   "cell_type": "code",
   "execution_count": 15,
   "id": "6968712b",
   "metadata": {},
   "outputs": [],
   "source": [
    "# Create new column as income_category\n",
    "df_ords_prods_high_act_cust.loc[df_ords_prods_high_act_cust['income'] < 75000, 'income_category'] = 'Lower income'\n",
    "df_ords_prods_high_act_cust.loc[((df_ords_prods_high_act_cust['income'] >= 75000) & (df_ords_prods_high_act_cust['income'] < 200000)), 'income_category'] = 'Low Medium income'\n",
    "df_ords_prods_high_act_cust.loc[((df_ords_prods_high_act_cust['income'] >= 200000) & (df_ords_prods_high_act_cust['income'] < 400000)), 'income_category'] = 'High Medium income'\n",
    "df_ords_prods_high_act_cust.loc[df_ords_prods_high_act_cust['income'] >= 400000, 'income_category'] = 'High income'"
   ]
  },
  {
   "cell_type": "code",
   "execution_count": 16,
   "id": "176ddc13",
   "metadata": {},
   "outputs": [
    {
     "data": {
      "text/html": [
       "<div>\n",
       "<style scoped>\n",
       "    .dataframe tbody tr th:only-of-type {\n",
       "        vertical-align: middle;\n",
       "    }\n",
       "\n",
       "    .dataframe tbody tr th {\n",
       "        vertical-align: top;\n",
       "    }\n",
       "\n",
       "    .dataframe thead th {\n",
       "        text-align: right;\n",
       "    }\n",
       "</style>\n",
       "<table border=\"1\" class=\"dataframe\">\n",
       "  <thead>\n",
       "    <tr style=\"text-align: right;\">\n",
       "      <th></th>\n",
       "      <th>product_id</th>\n",
       "      <th>product_name</th>\n",
       "      <th>aisle_id</th>\n",
       "      <th>department_id</th>\n",
       "      <th>prices</th>\n",
       "      <th>order_id</th>\n",
       "      <th>user_id</th>\n",
       "      <th>eval_set</th>\n",
       "      <th>order_number</th>\n",
       "      <th>order_dow</th>\n",
       "      <th>...</th>\n",
       "      <th>age</th>\n",
       "      <th>date_joined</th>\n",
       "      <th>num_of_dependents</th>\n",
       "      <th>marital_status</th>\n",
       "      <th>income</th>\n",
       "      <th>_merge</th>\n",
       "      <th>region_of_state</th>\n",
       "      <th>cust_activity</th>\n",
       "      <th>age_category</th>\n",
       "      <th>income_category</th>\n",
       "    </tr>\n",
       "  </thead>\n",
       "  <tbody>\n",
       "    <tr>\n",
       "      <th>0</th>\n",
       "      <td>1</td>\n",
       "      <td>Chocolate Sandwich Cookies</td>\n",
       "      <td>61</td>\n",
       "      <td>19</td>\n",
       "      <td>5.8</td>\n",
       "      <td>3139998</td>\n",
       "      <td>138</td>\n",
       "      <td>prior</td>\n",
       "      <td>28</td>\n",
       "      <td>6</td>\n",
       "      <td>...</td>\n",
       "      <td>81</td>\n",
       "      <td>8/1/2019</td>\n",
       "      <td>1</td>\n",
       "      <td>married</td>\n",
       "      <td>49620</td>\n",
       "      <td>both</td>\n",
       "      <td>Region2 (Midwest)</td>\n",
       "      <td>High-activity customer</td>\n",
       "      <td>Retired adult</td>\n",
       "      <td>Lower income</td>\n",
       "    </tr>\n",
       "    <tr>\n",
       "      <th>1</th>\n",
       "      <td>1</td>\n",
       "      <td>Chocolate Sandwich Cookies</td>\n",
       "      <td>61</td>\n",
       "      <td>19</td>\n",
       "      <td>5.8</td>\n",
       "      <td>1977647</td>\n",
       "      <td>138</td>\n",
       "      <td>prior</td>\n",
       "      <td>30</td>\n",
       "      <td>6</td>\n",
       "      <td>...</td>\n",
       "      <td>81</td>\n",
       "      <td>8/1/2019</td>\n",
       "      <td>1</td>\n",
       "      <td>married</td>\n",
       "      <td>49620</td>\n",
       "      <td>both</td>\n",
       "      <td>Region2 (Midwest)</td>\n",
       "      <td>High-activity customer</td>\n",
       "      <td>Retired adult</td>\n",
       "      <td>Lower income</td>\n",
       "    </tr>\n",
       "    <tr>\n",
       "      <th>2</th>\n",
       "      <td>1</td>\n",
       "      <td>Chocolate Sandwich Cookies</td>\n",
       "      <td>61</td>\n",
       "      <td>19</td>\n",
       "      <td>5.8</td>\n",
       "      <td>389851</td>\n",
       "      <td>709</td>\n",
       "      <td>prior</td>\n",
       "      <td>2</td>\n",
       "      <td>0</td>\n",
       "      <td>...</td>\n",
       "      <td>66</td>\n",
       "      <td>6/16/2018</td>\n",
       "      <td>2</td>\n",
       "      <td>married</td>\n",
       "      <td>158302</td>\n",
       "      <td>both</td>\n",
       "      <td>Region1 (Northeast)</td>\n",
       "      <td>High-activity customer</td>\n",
       "      <td>Retired adult</td>\n",
       "      <td>Low Medium income</td>\n",
       "    </tr>\n",
       "    <tr>\n",
       "      <th>5</th>\n",
       "      <td>1</td>\n",
       "      <td>Chocolate Sandwich Cookies</td>\n",
       "      <td>61</td>\n",
       "      <td>19</td>\n",
       "      <td>5.8</td>\n",
       "      <td>1701441</td>\n",
       "      <td>777</td>\n",
       "      <td>prior</td>\n",
       "      <td>16</td>\n",
       "      <td>1</td>\n",
       "      <td>...</td>\n",
       "      <td>51</td>\n",
       "      <td>1/4/2019</td>\n",
       "      <td>2</td>\n",
       "      <td>married</td>\n",
       "      <td>57797</td>\n",
       "      <td>both</td>\n",
       "      <td>Region4 (West)</td>\n",
       "      <td>High-activity customer</td>\n",
       "      <td>Older adult</td>\n",
       "      <td>Lower income</td>\n",
       "    </tr>\n",
       "    <tr>\n",
       "      <th>6</th>\n",
       "      <td>1</td>\n",
       "      <td>Chocolate Sandwich Cookies</td>\n",
       "      <td>61</td>\n",
       "      <td>19</td>\n",
       "      <td>5.8</td>\n",
       "      <td>1871483</td>\n",
       "      <td>825</td>\n",
       "      <td>prior</td>\n",
       "      <td>3</td>\n",
       "      <td>2</td>\n",
       "      <td>...</td>\n",
       "      <td>20</td>\n",
       "      <td>5/8/2019</td>\n",
       "      <td>3</td>\n",
       "      <td>living with parents and siblings</td>\n",
       "      <td>34171</td>\n",
       "      <td>both</td>\n",
       "      <td>Region3 (South)</td>\n",
       "      <td>High-activity customer</td>\n",
       "      <td>Younger adult</td>\n",
       "      <td>Lower income</td>\n",
       "    </tr>\n",
       "  </tbody>\n",
       "</table>\n",
       "<p>5 rows × 36 columns</p>\n",
       "</div>"
      ],
      "text/plain": [
       "   product_id                product_name  aisle_id  department_id  prices  \\\n",
       "0           1  Chocolate Sandwich Cookies        61             19     5.8   \n",
       "1           1  Chocolate Sandwich Cookies        61             19     5.8   \n",
       "2           1  Chocolate Sandwich Cookies        61             19     5.8   \n",
       "5           1  Chocolate Sandwich Cookies        61             19     5.8   \n",
       "6           1  Chocolate Sandwich Cookies        61             19     5.8   \n",
       "\n",
       "   order_id  user_id eval_set  order_number  order_dow  ...  age  date_joined  \\\n",
       "0   3139998      138    prior            28          6  ...   81     8/1/2019   \n",
       "1   1977647      138    prior            30          6  ...   81     8/1/2019   \n",
       "2    389851      709    prior             2          0  ...   66    6/16/2018   \n",
       "5   1701441      777    prior            16          1  ...   51     1/4/2019   \n",
       "6   1871483      825    prior             3          2  ...   20     5/8/2019   \n",
       "\n",
       "   num_of_dependents                    marital_status  income _merge  \\\n",
       "0                  1                           married   49620   both   \n",
       "1                  1                           married   49620   both   \n",
       "2                  2                           married  158302   both   \n",
       "5                  2                           married   57797   both   \n",
       "6                  3  living with parents and siblings   34171   both   \n",
       "\n",
       "       region_of_state           cust_activity   age_category  \\\n",
       "0    Region2 (Midwest)  High-activity customer  Retired adult   \n",
       "1    Region2 (Midwest)  High-activity customer  Retired adult   \n",
       "2  Region1 (Northeast)  High-activity customer  Retired adult   \n",
       "5       Region4 (West)  High-activity customer    Older adult   \n",
       "6      Region3 (South)  High-activity customer  Younger adult   \n",
       "\n",
       "     income_category  \n",
       "0       Lower income  \n",
       "1       Lower income  \n",
       "2  Low Medium income  \n",
       "5       Lower income  \n",
       "6       Lower income  \n",
       "\n",
       "[5 rows x 36 columns]"
      ]
     },
     "execution_count": 16,
     "metadata": {},
     "output_type": "execute_result"
    }
   ],
   "source": [
    "# Check that income_category was added\n",
    "df_ords_prods_high_act_cust.head()"
   ]
  },
  {
   "cell_type": "code",
   "execution_count": 41,
   "id": "c7f4c473",
   "metadata": {},
   "outputs": [
    {
     "data": {
      "text/plain": [
       "Low Medium income     20803742\n",
       "Lower income           9906680\n",
       "High Medium income      207146\n",
       "High income              46996\n",
       "Name: income_category, dtype: int64"
      ]
     },
     "execution_count": 41,
     "metadata": {},
     "output_type": "execute_result"
    }
   ],
   "source": [
    "# Confirm no null values created\n",
    "df_ords_prods_high_act_cust['income_category'].value_counts(dropna = False)"
   ]
  },
  {
   "cell_type": "code",
   "execution_count": 42,
   "id": "483d99e2",
   "metadata": {},
   "outputs": [
    {
     "name": "stdout",
     "output_type": "stream",
     "text": [
      "<class 'pandas.core.frame.DataFrame'>\n",
      "Int64Index: 30964564 entries, 0 to 32404858\n",
      "Data columns (total 36 columns):\n",
      " #   Column                  Dtype   \n",
      "---  ------                  -----   \n",
      " 0   product_id              int64   \n",
      " 1   product_name            object  \n",
      " 2   aisle_id                int64   \n",
      " 3   department_id           int64   \n",
      " 4   prices                  float64 \n",
      " 5   order_id                int64   \n",
      " 6   user_id                 int64   \n",
      " 7   eval_set                object  \n",
      " 8   order_number            int64   \n",
      " 9   order_dow               int64   \n",
      " 10  order_hour_of_day       int64   \n",
      " 11  days_since_prior_order  float64 \n",
      " 12  add_to_cart_order       int64   \n",
      " 13  reordered               int64   \n",
      " 14  price_range_loc         object  \n",
      " 15  busiest_day             object  \n",
      " 16  busiest_days_2          object  \n",
      " 17  busiest_hours           object  \n",
      " 18  max_order               int64   \n",
      " 19  loyalty_flag            object  \n",
      " 20  avg_spend               float64 \n",
      " 21  spending_flag           object  \n",
      " 22  frequency_median        float64 \n",
      " 23  frequency_flag          object  \n",
      " 24  gender                  object  \n",
      " 25  state                   object  \n",
      " 26  age                     int64   \n",
      " 27  date_joined             object  \n",
      " 28  num_of_dependents       int64   \n",
      " 29  marital_status          object  \n",
      " 30  income                  int64   \n",
      " 31  _merge                  category\n",
      " 32  region_of_state         object  \n",
      " 33  cust_activity           object  \n",
      " 34  age_category            object  \n",
      " 35  income_category         object  \n",
      "dtypes: category(1), float64(4), int64(14), object(17)\n",
      "memory usage: 8.3+ GB\n"
     ]
    }
   ],
   "source": [
    "# Assess existing fields for additional flags needed\n",
    "df_ords_prods_high_act_cust.info()"
   ]
  },
  {
   "cell_type": "code",
   "execution_count": 43,
   "id": "e7e824b6",
   "metadata": {},
   "outputs": [
    {
     "data": {
      "text/plain": [
       "married                             21743711\n",
       "single                               5094410\n",
       "divorced/widowed                     2645271\n",
       "living with parents and siblings     1481172\n",
       "Name: marital_status, dtype: int64"
      ]
     },
     "execution_count": 43,
     "metadata": {},
     "output_type": "execute_result"
    }
   ],
   "source": [
    "# Confirm marital_status values for new flag\n",
    "df_ords_prods_high_act_cust['marital_status'].value_counts(dropna = False)"
   ]
  },
  {
   "cell_type": "markdown",
   "id": "e2dbfb35",
   "metadata": {},
   "source": [
    "### Add new field: marital_dependents"
   ]
  },
  {
   "cell_type": "code",
   "execution_count": 18,
   "id": "0a0c466b",
   "metadata": {},
   "outputs": [],
   "source": [
    "# Create new column as marital_dependents\n",
    "df_ords_prods_high_act_cust.loc[((df_ords_prods_high_act_cust['marital_status'] == 'married') & (df_ords_prods_high_act_cust['num_of_dependents'] == 0)), 'marital_dependents'] = 'Married no dependents'\n",
    "df_ords_prods_high_act_cust.loc[((df_ords_prods_high_act_cust['marital_status'] == 'married') & (df_ords_prods_high_act_cust['num_of_dependents'] > 0)), 'marital_dependents'] = 'Married with dependents'\n",
    "df_ords_prods_high_act_cust.loc[((df_ords_prods_high_act_cust['marital_status'] == 'single') & (df_ords_prods_high_act_cust['num_of_dependents'] == 0)), 'marital_dependents'] = 'Single no dependents'\n",
    "df_ords_prods_high_act_cust.loc[((df_ords_prods_high_act_cust['marital_status'] == 'single') & (df_ords_prods_high_act_cust['num_of_dependents'] > 0)), 'marital_dependents'] = 'Single with dependents'\n",
    "df_ords_prods_high_act_cust.loc[((df_ords_prods_high_act_cust['marital_status'] == 'divorced/widowed') & (df_ords_prods_high_act_cust['num_of_dependents'] == 0)), 'marital_dependents'] = 'Divorced/Widow no dependents'\n",
    "df_ords_prods_high_act_cust.loc[((df_ords_prods_high_act_cust['marital_status'] == 'divorced/widowed') & (df_ords_prods_high_act_cust['num_of_dependents'] > 0)), 'marital_dependents'] = 'Divorced/Widow with dependents'\n",
    "df_ords_prods_high_act_cust.loc[((df_ords_prods_high_act_cust['marital_status'] == 'living with parents and siblings') & (df_ords_prods_high_act_cust['num_of_dependents'] == 0)), 'marital_dependents'] = 'Friends/Siblings no dependents'\n",
    "df_ords_prods_high_act_cust.loc[((df_ords_prods_high_act_cust['marital_status'] == 'living with parents and siblings') & (df_ords_prods_high_act_cust['num_of_dependents'] > 0)), 'marital_dependents'] = 'Friends/Siblings with dependents'"
   ]
  },
  {
   "cell_type": "code",
   "execution_count": 46,
   "id": "97056cd2",
   "metadata": {},
   "outputs": [
    {
     "data": {
      "text/html": [
       "<div>\n",
       "<style scoped>\n",
       "    .dataframe tbody tr th:only-of-type {\n",
       "        vertical-align: middle;\n",
       "    }\n",
       "\n",
       "    .dataframe tbody tr th {\n",
       "        vertical-align: top;\n",
       "    }\n",
       "\n",
       "    .dataframe thead th {\n",
       "        text-align: right;\n",
       "    }\n",
       "</style>\n",
       "<table border=\"1\" class=\"dataframe\">\n",
       "  <thead>\n",
       "    <tr style=\"text-align: right;\">\n",
       "      <th></th>\n",
       "      <th>product_id</th>\n",
       "      <th>product_name</th>\n",
       "      <th>aisle_id</th>\n",
       "      <th>department_id</th>\n",
       "      <th>prices</th>\n",
       "      <th>order_id</th>\n",
       "      <th>user_id</th>\n",
       "      <th>eval_set</th>\n",
       "      <th>order_number</th>\n",
       "      <th>order_dow</th>\n",
       "      <th>...</th>\n",
       "      <th>date_joined</th>\n",
       "      <th>num_of_dependents</th>\n",
       "      <th>marital_status</th>\n",
       "      <th>income</th>\n",
       "      <th>_merge</th>\n",
       "      <th>region_of_state</th>\n",
       "      <th>cust_activity</th>\n",
       "      <th>age_category</th>\n",
       "      <th>income_category</th>\n",
       "      <th>marital_dependents</th>\n",
       "    </tr>\n",
       "  </thead>\n",
       "  <tbody>\n",
       "    <tr>\n",
       "      <th>0</th>\n",
       "      <td>1</td>\n",
       "      <td>Chocolate Sandwich Cookies</td>\n",
       "      <td>61</td>\n",
       "      <td>19</td>\n",
       "      <td>5.8</td>\n",
       "      <td>3139998</td>\n",
       "      <td>138</td>\n",
       "      <td>prior</td>\n",
       "      <td>28</td>\n",
       "      <td>6</td>\n",
       "      <td>...</td>\n",
       "      <td>8/1/2019</td>\n",
       "      <td>1</td>\n",
       "      <td>married</td>\n",
       "      <td>49620</td>\n",
       "      <td>both</td>\n",
       "      <td>Region2 (Midwest)</td>\n",
       "      <td>High-activity customer</td>\n",
       "      <td>Retired adult</td>\n",
       "      <td>Lower income</td>\n",
       "      <td>Married with dependents</td>\n",
       "    </tr>\n",
       "    <tr>\n",
       "      <th>1</th>\n",
       "      <td>1</td>\n",
       "      <td>Chocolate Sandwich Cookies</td>\n",
       "      <td>61</td>\n",
       "      <td>19</td>\n",
       "      <td>5.8</td>\n",
       "      <td>1977647</td>\n",
       "      <td>138</td>\n",
       "      <td>prior</td>\n",
       "      <td>30</td>\n",
       "      <td>6</td>\n",
       "      <td>...</td>\n",
       "      <td>8/1/2019</td>\n",
       "      <td>1</td>\n",
       "      <td>married</td>\n",
       "      <td>49620</td>\n",
       "      <td>both</td>\n",
       "      <td>Region2 (Midwest)</td>\n",
       "      <td>High-activity customer</td>\n",
       "      <td>Retired adult</td>\n",
       "      <td>Lower income</td>\n",
       "      <td>Married with dependents</td>\n",
       "    </tr>\n",
       "    <tr>\n",
       "      <th>2</th>\n",
       "      <td>1</td>\n",
       "      <td>Chocolate Sandwich Cookies</td>\n",
       "      <td>61</td>\n",
       "      <td>19</td>\n",
       "      <td>5.8</td>\n",
       "      <td>389851</td>\n",
       "      <td>709</td>\n",
       "      <td>prior</td>\n",
       "      <td>2</td>\n",
       "      <td>0</td>\n",
       "      <td>...</td>\n",
       "      <td>6/16/2018</td>\n",
       "      <td>2</td>\n",
       "      <td>married</td>\n",
       "      <td>158302</td>\n",
       "      <td>both</td>\n",
       "      <td>Region1 (Northeast)</td>\n",
       "      <td>High-activity customer</td>\n",
       "      <td>Retired adult</td>\n",
       "      <td>Low Medium income</td>\n",
       "      <td>Married with dependents</td>\n",
       "    </tr>\n",
       "    <tr>\n",
       "      <th>5</th>\n",
       "      <td>1</td>\n",
       "      <td>Chocolate Sandwich Cookies</td>\n",
       "      <td>61</td>\n",
       "      <td>19</td>\n",
       "      <td>5.8</td>\n",
       "      <td>1701441</td>\n",
       "      <td>777</td>\n",
       "      <td>prior</td>\n",
       "      <td>16</td>\n",
       "      <td>1</td>\n",
       "      <td>...</td>\n",
       "      <td>1/4/2019</td>\n",
       "      <td>2</td>\n",
       "      <td>married</td>\n",
       "      <td>57797</td>\n",
       "      <td>both</td>\n",
       "      <td>Region4 (West)</td>\n",
       "      <td>High-activity customer</td>\n",
       "      <td>Older adult</td>\n",
       "      <td>Lower income</td>\n",
       "      <td>Married with dependents</td>\n",
       "    </tr>\n",
       "    <tr>\n",
       "      <th>6</th>\n",
       "      <td>1</td>\n",
       "      <td>Chocolate Sandwich Cookies</td>\n",
       "      <td>61</td>\n",
       "      <td>19</td>\n",
       "      <td>5.8</td>\n",
       "      <td>1871483</td>\n",
       "      <td>825</td>\n",
       "      <td>prior</td>\n",
       "      <td>3</td>\n",
       "      <td>2</td>\n",
       "      <td>...</td>\n",
       "      <td>5/8/2019</td>\n",
       "      <td>3</td>\n",
       "      <td>living with parents and siblings</td>\n",
       "      <td>34171</td>\n",
       "      <td>both</td>\n",
       "      <td>Region3 (South)</td>\n",
       "      <td>High-activity customer</td>\n",
       "      <td>Younger adult</td>\n",
       "      <td>Lower income</td>\n",
       "      <td>Friends/Siblings with dependents</td>\n",
       "    </tr>\n",
       "  </tbody>\n",
       "</table>\n",
       "<p>5 rows × 37 columns</p>\n",
       "</div>"
      ],
      "text/plain": [
       "   product_id                product_name  aisle_id  department_id  prices  \\\n",
       "0           1  Chocolate Sandwich Cookies        61             19     5.8   \n",
       "1           1  Chocolate Sandwich Cookies        61             19     5.8   \n",
       "2           1  Chocolate Sandwich Cookies        61             19     5.8   \n",
       "5           1  Chocolate Sandwich Cookies        61             19     5.8   \n",
       "6           1  Chocolate Sandwich Cookies        61             19     5.8   \n",
       "\n",
       "   order_id  user_id eval_set  order_number  order_dow  ...  date_joined  \\\n",
       "0   3139998      138    prior            28          6  ...     8/1/2019   \n",
       "1   1977647      138    prior            30          6  ...     8/1/2019   \n",
       "2    389851      709    prior             2          0  ...    6/16/2018   \n",
       "5   1701441      777    prior            16          1  ...     1/4/2019   \n",
       "6   1871483      825    prior             3          2  ...     5/8/2019   \n",
       "\n",
       "   num_of_dependents                    marital_status  income _merge  \\\n",
       "0                  1                           married   49620   both   \n",
       "1                  1                           married   49620   both   \n",
       "2                  2                           married  158302   both   \n",
       "5                  2                           married   57797   both   \n",
       "6                  3  living with parents and siblings   34171   both   \n",
       "\n",
       "       region_of_state           cust_activity   age_category  \\\n",
       "0    Region2 (Midwest)  High-activity customer  Retired adult   \n",
       "1    Region2 (Midwest)  High-activity customer  Retired adult   \n",
       "2  Region1 (Northeast)  High-activity customer  Retired adult   \n",
       "5       Region4 (West)  High-activity customer    Older adult   \n",
       "6      Region3 (South)  High-activity customer  Younger adult   \n",
       "\n",
       "     income_category                marital_dependents  \n",
       "0       Lower income           Married with dependents  \n",
       "1       Lower income           Married with dependents  \n",
       "2  Low Medium income           Married with dependents  \n",
       "5       Lower income           Married with dependents  \n",
       "6       Lower income  Friends/Siblings with dependents  \n",
       "\n",
       "[5 rows x 37 columns]"
      ]
     },
     "execution_count": 46,
     "metadata": {},
     "output_type": "execute_result"
    }
   ],
   "source": [
    "# Check that marital_dependents was added\n",
    "df_ords_prods_high_act_cust.head()"
   ]
  },
  {
   "cell_type": "code",
   "execution_count": 47,
   "id": "2e460254",
   "metadata": {
    "scrolled": true
   },
   "outputs": [
    {
     "data": {
      "text/plain": [
       "Married with dependents             21743711\n",
       "Single no dependents                 5094410\n",
       "Divorced/Widow no dependents         2645271\n",
       "Friends/Siblings with dependents     1481172\n",
       "Name: marital_dependents, dtype: int64"
      ]
     },
     "execution_count": 47,
     "metadata": {},
     "output_type": "execute_result"
    }
   ],
   "source": [
    "# Confirm marital_dependents values for new flag\n",
    "df_ords_prods_high_act_cust['marital_dependents'].value_counts(dropna = False)"
   ]
  },
  {
   "cell_type": "markdown",
   "id": "37953955",
   "metadata": {},
   "source": [
    "### Step 6 - Profile visualizations"
   ]
  },
  {
   "cell_type": "markdown",
   "id": "f43ff5f2",
   "metadata": {},
   "source": [
    "#### Visualization - age_category profile"
   ]
  },
  {
   "cell_type": "code",
   "execution_count": 102,
   "id": "8786a95b",
   "metadata": {},
   "outputs": [
    {
     "data": {
      "image/png": "[encoded data removed]",
      "text/plain": [
       "<Figure size 640x480 with 1 Axes>"
      ]
     },
     "metadata": {},
     "output_type": "display_data"
    }
   ],
   "source": [
    "# Create bar chart\n",
    "age_group_bar = df_ords_prods_high_act_cust['age_category'].value_counts(dropna = False).plot.barh(rot=0)"
   ]
  },
  {
   "cell_type": "code",
   "execution_count": 83,
   "id": "88b2d5c9",
   "metadata": {},
   "outputs": [],
   "source": [
    "# Save bar chart as png\n",
    "age_group_bar.figure.savefig(os.path.join(path, '04 Analysis', 'Visualizations', 'age_group_bar.png'))"
   ]
  },
  {
   "cell_type": "markdown",
   "id": "1f771350",
   "metadata": {},
   "source": [
    "#### Visualization - marital_dependents profile"
   ]
  },
  {
   "cell_type": "code",
   "execution_count": 104,
   "id": "1fcce752",
   "metadata": {},
   "outputs": [
    {
     "data": {
      "image/png": "[encoded data removed]",
      "text/plain": [
       "<Figure size 640x480 with 1 Axes>"
      ]
     },
     "metadata": {},
     "output_type": "display_data"
    }
   ],
   "source": [
    "# Create bar chart\n",
    "marital_dependents_bar = df_ords_prods_high_act_cust['marital_dependents'].value_counts(dropna = False).plot.barh()"
   ]
  },
  {
   "cell_type": "code",
   "execution_count": 52,
   "id": "25068ee3",
   "metadata": {},
   "outputs": [],
   "source": [
    "# Save bar chart as png\n",
    "marital_dependents_bar.figure.savefig(os.path.join(path, '04 Analysis', 'Visualizations', 'marital_dependents_bar.png'))"
   ]
  },
  {
   "cell_type": "markdown",
   "id": "53db1238",
   "metadata": {},
   "source": [
    "#### Visualization - income_category"
   ]
  },
  {
   "cell_type": "code",
   "execution_count": 100,
   "id": "94f78d47",
   "metadata": {},
   "outputs": [
    {
     "data": {
      "image/png": "[encoded data removed]",
      "text/plain": [
       "<Figure size 640x480 with 1 Axes>"
      ]
     },
     "metadata": {},
     "output_type": "display_data"
    }
   ],
   "source": [
    "# Create bar chart\n",
    "income_category_bar = df_ords_prods_high_act_cust['income_category'].value_counts(dropna = False).plot.barh(rot=0)"
   ]
  },
  {
   "cell_type": "code",
   "execution_count": 54,
   "id": "7449d384",
   "metadata": {},
   "outputs": [],
   "source": [
    "# Save bar chart as png\n",
    "income_category_bar.figure.savefig(os.path.join(path, '04 Analysis', 'Visualizations', 'income_category_bar.png'))"
   ]
  },
  {
   "cell_type": "markdown",
   "id": "5da4eaa1",
   "metadata": {},
   "source": [
    "#### Visualization - region_of_state"
   ]
  },
  {
   "cell_type": "code",
   "execution_count": 98,
   "id": "d6aa274c",
   "metadata": {},
   "outputs": [
    {
     "data": {
      "image/png": "[encoded data removed]",
      "text/plain": [
       "<Figure size 640x480 with 1 Axes>"
      ]
     },
     "metadata": {},
     "output_type": "display_data"
    }
   ],
   "source": [
    "# Create bar chart\n",
    "region_of_state_bar = df_ords_prods_high_act_cust['region_of_state'].value_counts(dropna = False).plot.barh(rot=0)"
   ]
  },
  {
   "cell_type": "code",
   "execution_count": 56,
   "id": "e7741333",
   "metadata": {},
   "outputs": [],
   "source": [
    "# Save bar chart as png\n",
    "region_of_state_bar.figure.savefig(os.path.join(path, '04 Analysis', 'Visualizations', 'region_of_state_bar.png'))"
   ]
  },
  {
   "cell_type": "markdown",
   "id": "7bbb16e8",
   "metadata": {},
   "source": [
    "#### Visualization - department"
   ]
  },
  {
   "cell_type": "code",
   "execution_count": 99,
   "id": "3e32c978",
   "metadata": {},
   "outputs": [
    {
     "data": {
      "image/png": "[encoded data removed]",
      "text/plain": [
       "<Figure size 640x480 with 1 Axes>"
      ]
     },
     "metadata": {},
     "output_type": "display_data"
    }
   ],
   "source": [
    "# Create bar chart\n",
    "department_id_bar = df_ords_prods_high_act_cust['department_id'].value_counts(dropna = False).plot.bar(rot=0)"
   ]
  },
  {
   "cell_type": "code",
   "execution_count": 58,
   "id": "f3aa1eeb",
   "metadata": {},
   "outputs": [],
   "source": [
    "# Save bar chart as png\n",
    "department_id_bar.figure.savefig(os.path.join(path, '04 Analysis', 'Visualizations', 'department_id_bar.png'))"
   ]
  },
  {
   "cell_type": "markdown",
   "id": "fc957f2f",
   "metadata": {},
   "source": [
    "### Step 7 - Aggregate max, mean, min variables on profile level for usage frequency and expenditure"
   ]
  },
  {
   "cell_type": "markdown",
   "id": "96a86e6b",
   "metadata": {},
   "source": [
    "### Age statistics (age_category)"
   ]
  },
  {
   "cell_type": "code",
   "execution_count": 59,
   "id": "380331a5",
   "metadata": {},
   "outputs": [],
   "source": [
    "# Age profile stats\n",
    "age_profile_statistics = df_ords_prods_high_act_cust.groupby('age_category').agg({'days_since_prior_order': ['mean', 'max', 'min'], 'prices': ['mean', 'max', 'min']})"
   ]
  },
  {
   "cell_type": "code",
   "execution_count": 60,
   "id": "c5c740d6",
   "metadata": {},
   "outputs": [
    {
     "data": {
      "text/html": [
       "<div>\n",
       "<style scoped>\n",
       "    .dataframe tbody tr th:only-of-type {\n",
       "        vertical-align: middle;\n",
       "    }\n",
       "\n",
       "    .dataframe tbody tr th {\n",
       "        vertical-align: top;\n",
       "    }\n",
       "\n",
       "    .dataframe thead tr th {\n",
       "        text-align: left;\n",
       "    }\n",
       "\n",
       "    .dataframe thead tr:last-of-type th {\n",
       "        text-align: right;\n",
       "    }\n",
       "</style>\n",
       "<table border=\"1\" class=\"dataframe\">\n",
       "  <thead>\n",
       "    <tr>\n",
       "      <th></th>\n",
       "      <th colspan=\"3\" halign=\"left\">days_since_prior_order</th>\n",
       "      <th colspan=\"3\" halign=\"left\">prices</th>\n",
       "    </tr>\n",
       "    <tr>\n",
       "      <th></th>\n",
       "      <th>mean</th>\n",
       "      <th>max</th>\n",
       "      <th>min</th>\n",
       "      <th>mean</th>\n",
       "      <th>max</th>\n",
       "      <th>min</th>\n",
       "    </tr>\n",
       "    <tr>\n",
       "      <th>age_category</th>\n",
       "      <th></th>\n",
       "      <th></th>\n",
       "      <th></th>\n",
       "      <th></th>\n",
       "      <th></th>\n",
       "      <th></th>\n",
       "    </tr>\n",
       "  </thead>\n",
       "  <tbody>\n",
       "    <tr>\n",
       "      <th>Older adult</th>\n",
       "      <td>10.240627</td>\n",
       "      <td>30.0</td>\n",
       "      <td>0.0</td>\n",
       "      <td>11.944899</td>\n",
       "      <td>99999.0</td>\n",
       "      <td>1.0</td>\n",
       "    </tr>\n",
       "    <tr>\n",
       "      <th>Retired adult</th>\n",
       "      <td>10.211106</td>\n",
       "      <td>30.0</td>\n",
       "      <td>0.0</td>\n",
       "      <td>11.757768</td>\n",
       "      <td>99999.0</td>\n",
       "      <td>1.0</td>\n",
       "    </tr>\n",
       "    <tr>\n",
       "      <th>Younger adult</th>\n",
       "      <td>10.233375</td>\n",
       "      <td>30.0</td>\n",
       "      <td>0.0</td>\n",
       "      <td>12.055665</td>\n",
       "      <td>99999.0</td>\n",
       "      <td>1.0</td>\n",
       "    </tr>\n",
       "  </tbody>\n",
       "</table>\n",
       "</div>"
      ],
      "text/plain": [
       "              days_since_prior_order                prices              \n",
       "                                mean   max  min       mean      max  min\n",
       "age_category                                                            \n",
       "Older adult                10.240627  30.0  0.0  11.944899  99999.0  1.0\n",
       "Retired adult              10.211106  30.0  0.0  11.757768  99999.0  1.0\n",
       "Younger adult              10.233375  30.0  0.0  12.055665  99999.0  1.0"
      ]
     },
     "execution_count": 60,
     "metadata": {},
     "output_type": "execute_result"
    }
   ],
   "source": [
    "age_profile_statistics"
   ]
  },
  {
   "cell_type": "code",
   "execution_count": 99,
   "id": "0df20e2e",
   "metadata": {},
   "outputs": [],
   "source": [
    "# Copy age_profile_statistics to clipboard to paste to Excel\n",
    "age_profile_statistics.to_clipboard()"
   ]
  },
  {
   "cell_type": "markdown",
   "id": "f3fd4431",
   "metadata": {},
   "source": [
    "### Marital dependents statistics (marital_dependents)"
   ]
  },
  {
   "cell_type": "code",
   "execution_count": 61,
   "id": "301d2e5b",
   "metadata": {},
   "outputs": [],
   "source": [
    "# Marital / dependents profile stats\n",
    "marital_dependents_statistics = df_ords_prods_high_act_cust.groupby('marital_dependents').agg({'days_since_prior_order': ['mean', 'max', 'min'], 'prices': ['mean', 'max', 'min']})"
   ]
  },
  {
   "cell_type": "code",
   "execution_count": 62,
   "id": "f168cb04",
   "metadata": {},
   "outputs": [
    {
     "data": {
      "text/html": [
       "<div>\n",
       "<style scoped>\n",
       "    .dataframe tbody tr th:only-of-type {\n",
       "        vertical-align: middle;\n",
       "    }\n",
       "\n",
       "    .dataframe tbody tr th {\n",
       "        vertical-align: top;\n",
       "    }\n",
       "\n",
       "    .dataframe thead tr th {\n",
       "        text-align: left;\n",
       "    }\n",
       "\n",
       "    .dataframe thead tr:last-of-type th {\n",
       "        text-align: right;\n",
       "    }\n",
       "</style>\n",
       "<table border=\"1\" class=\"dataframe\">\n",
       "  <thead>\n",
       "    <tr>\n",
       "      <th></th>\n",
       "      <th colspan=\"3\" halign=\"left\">days_since_prior_order</th>\n",
       "      <th colspan=\"3\" halign=\"left\">prices</th>\n",
       "    </tr>\n",
       "    <tr>\n",
       "      <th></th>\n",
       "      <th>mean</th>\n",
       "      <th>max</th>\n",
       "      <th>min</th>\n",
       "      <th>mean</th>\n",
       "      <th>max</th>\n",
       "      <th>min</th>\n",
       "    </tr>\n",
       "    <tr>\n",
       "      <th>marital_dependents</th>\n",
       "      <th></th>\n",
       "      <th></th>\n",
       "      <th></th>\n",
       "      <th></th>\n",
       "      <th></th>\n",
       "      <th></th>\n",
       "    </tr>\n",
       "  </thead>\n",
       "  <tbody>\n",
       "    <tr>\n",
       "      <th>Divorced/Widow no dependents</th>\n",
       "      <td>10.176669</td>\n",
       "      <td>30.0</td>\n",
       "      <td>0.0</td>\n",
       "      <td>11.532741</td>\n",
       "      <td>99999.0</td>\n",
       "      <td>1.0</td>\n",
       "    </tr>\n",
       "    <tr>\n",
       "      <th>Friends/Siblings with dependents</th>\n",
       "      <td>10.181062</td>\n",
       "      <td>30.0</td>\n",
       "      <td>0.0</td>\n",
       "      <td>10.890167</td>\n",
       "      <td>99999.0</td>\n",
       "      <td>1.0</td>\n",
       "    </tr>\n",
       "    <tr>\n",
       "      <th>Married with dependents</th>\n",
       "      <td>10.239629</td>\n",
       "      <td>30.0</td>\n",
       "      <td>0.0</td>\n",
       "      <td>11.944390</td>\n",
       "      <td>99999.0</td>\n",
       "      <td>1.0</td>\n",
       "    </tr>\n",
       "    <tr>\n",
       "      <th>Single no dependents</th>\n",
       "      <td>10.232740</td>\n",
       "      <td>30.0</td>\n",
       "      <td>0.0</td>\n",
       "      <td>12.398586</td>\n",
       "      <td>99999.0</td>\n",
       "      <td>1.0</td>\n",
       "    </tr>\n",
       "  </tbody>\n",
       "</table>\n",
       "</div>"
      ],
      "text/plain": [
       "                                 days_since_prior_order                prices  \\\n",
       "                                                   mean   max  min       mean   \n",
       "marital_dependents                                                              \n",
       "Divorced/Widow no dependents                  10.176669  30.0  0.0  11.532741   \n",
       "Friends/Siblings with dependents              10.181062  30.0  0.0  10.890167   \n",
       "Married with dependents                       10.239629  30.0  0.0  11.944390   \n",
       "Single no dependents                          10.232740  30.0  0.0  12.398586   \n",
       "\n",
       "                                                \n",
       "                                      max  min  \n",
       "marital_dependents                              \n",
       "Divorced/Widow no dependents      99999.0  1.0  \n",
       "Friends/Siblings with dependents  99999.0  1.0  \n",
       "Married with dependents           99999.0  1.0  \n",
       "Single no dependents              99999.0  1.0  "
      ]
     },
     "execution_count": 62,
     "metadata": {},
     "output_type": "execute_result"
    }
   ],
   "source": [
    "marital_dependents_statistics"
   ]
  },
  {
   "cell_type": "code",
   "execution_count": 101,
   "id": "4b8dd195",
   "metadata": {},
   "outputs": [],
   "source": [
    "# Copy marital_dependents_statistics to clipboard to paste to Excel\n",
    "marital_dependents_statistics.to_clipboard()"
   ]
  },
  {
   "cell_type": "markdown",
   "id": "eaf76cdc",
   "metadata": {},
   "source": [
    "### Income statistics (income_category)"
   ]
  },
  {
   "cell_type": "code",
   "execution_count": 63,
   "id": "95f15efd",
   "metadata": {},
   "outputs": [],
   "source": [
    "# Income profile stats\n",
    "income_statistics = df_ords_prods_high_act_cust.groupby('income_category').agg({'days_since_prior_order': ['mean', 'max', 'min'], 'prices': ['mean', 'max', 'min']})"
   ]
  },
  {
   "cell_type": "code",
   "execution_count": 64,
   "id": "5b935555",
   "metadata": {},
   "outputs": [
    {
     "data": {
      "text/html": [
       "<div>\n",
       "<style scoped>\n",
       "    .dataframe tbody tr th:only-of-type {\n",
       "        vertical-align: middle;\n",
       "    }\n",
       "\n",
       "    .dataframe tbody tr th {\n",
       "        vertical-align: top;\n",
       "    }\n",
       "\n",
       "    .dataframe thead tr th {\n",
       "        text-align: left;\n",
       "    }\n",
       "\n",
       "    .dataframe thead tr:last-of-type th {\n",
       "        text-align: right;\n",
       "    }\n",
       "</style>\n",
       "<table border=\"1\" class=\"dataframe\">\n",
       "  <thead>\n",
       "    <tr>\n",
       "      <th></th>\n",
       "      <th colspan=\"3\" halign=\"left\">days_since_prior_order</th>\n",
       "      <th colspan=\"3\" halign=\"left\">prices</th>\n",
       "    </tr>\n",
       "    <tr>\n",
       "      <th></th>\n",
       "      <th>mean</th>\n",
       "      <th>max</th>\n",
       "      <th>min</th>\n",
       "      <th>mean</th>\n",
       "      <th>max</th>\n",
       "      <th>min</th>\n",
       "    </tr>\n",
       "    <tr>\n",
       "      <th>income_category</th>\n",
       "      <th></th>\n",
       "      <th></th>\n",
       "      <th></th>\n",
       "      <th></th>\n",
       "      <th></th>\n",
       "      <th></th>\n",
       "    </tr>\n",
       "  </thead>\n",
       "  <tbody>\n",
       "    <tr>\n",
       "      <th>High Medium income</th>\n",
       "      <td>9.621624</td>\n",
       "      <td>30.0</td>\n",
       "      <td>0.0</td>\n",
       "      <td>261.895763</td>\n",
       "      <td>99999.0</td>\n",
       "      <td>1.0</td>\n",
       "    </tr>\n",
       "    <tr>\n",
       "      <th>High income</th>\n",
       "      <td>9.821985</td>\n",
       "      <td>30.0</td>\n",
       "      <td>0.0</td>\n",
       "      <td>222.992836</td>\n",
       "      <td>99999.0</td>\n",
       "      <td>1.0</td>\n",
       "    </tr>\n",
       "    <tr>\n",
       "      <th>Low Medium income</th>\n",
       "      <td>10.201766</td>\n",
       "      <td>30.0</td>\n",
       "      <td>0.0</td>\n",
       "      <td>11.102297</td>\n",
       "      <td>99999.0</td>\n",
       "      <td>1.0</td>\n",
       "    </tr>\n",
       "    <tr>\n",
       "      <th>Lower income</th>\n",
       "      <td>10.304933</td>\n",
       "      <td>30.0</td>\n",
       "      <td>0.0</td>\n",
       "      <td>7.451187</td>\n",
       "      <td>14900.0</td>\n",
       "      <td>1.0</td>\n",
       "    </tr>\n",
       "  </tbody>\n",
       "</table>\n",
       "</div>"
      ],
      "text/plain": [
       "                   days_since_prior_order                 prices              \n",
       "                                     mean   max  min        mean      max  min\n",
       "income_category                                                               \n",
       "High Medium income               9.621624  30.0  0.0  261.895763  99999.0  1.0\n",
       "High income                      9.821985  30.0  0.0  222.992836  99999.0  1.0\n",
       "Low Medium income               10.201766  30.0  0.0   11.102297  99999.0  1.0\n",
       "Lower income                    10.304933  30.0  0.0    7.451187  14900.0  1.0"
      ]
     },
     "execution_count": 64,
     "metadata": {},
     "output_type": "execute_result"
    }
   ],
   "source": [
    "income_statistics"
   ]
  },
  {
   "cell_type": "code",
   "execution_count": 103,
   "id": "cc9efe0e",
   "metadata": {},
   "outputs": [],
   "source": [
    "# Copy income_statistics to clipboard to paste to Excel\n",
    "income_statistics.to_clipboard()"
   ]
  },
  {
   "cell_type": "markdown",
   "id": "2e7b80af",
   "metadata": {},
   "source": [
    "### Region statistics (region_of_state)"
   ]
  },
  {
   "cell_type": "code",
   "execution_count": 65,
   "id": "28169844",
   "metadata": {},
   "outputs": [],
   "source": [
    "# Region profile stats\n",
    "region_statistics = df_ords_prods_high_act_cust.groupby('region_of_state').agg({'days_since_prior_order': ['mean', 'max', 'min'], 'prices': ['mean', 'max', 'min']})"
   ]
  },
  {
   "cell_type": "code",
   "execution_count": 66,
   "id": "b6c8f308",
   "metadata": {},
   "outputs": [
    {
     "data": {
      "text/html": [
       "<div>\n",
       "<style scoped>\n",
       "    .dataframe tbody tr th:only-of-type {\n",
       "        vertical-align: middle;\n",
       "    }\n",
       "\n",
       "    .dataframe tbody tr th {\n",
       "        vertical-align: top;\n",
       "    }\n",
       "\n",
       "    .dataframe thead tr th {\n",
       "        text-align: left;\n",
       "    }\n",
       "\n",
       "    .dataframe thead tr:last-of-type th {\n",
       "        text-align: right;\n",
       "    }\n",
       "</style>\n",
       "<table border=\"1\" class=\"dataframe\">\n",
       "  <thead>\n",
       "    <tr>\n",
       "      <th></th>\n",
       "      <th colspan=\"3\" halign=\"left\">days_since_prior_order</th>\n",
       "      <th colspan=\"3\" halign=\"left\">prices</th>\n",
       "    </tr>\n",
       "    <tr>\n",
       "      <th></th>\n",
       "      <th>mean</th>\n",
       "      <th>max</th>\n",
       "      <th>min</th>\n",
       "      <th>mean</th>\n",
       "      <th>max</th>\n",
       "      <th>min</th>\n",
       "    </tr>\n",
       "    <tr>\n",
       "      <th>region_of_state</th>\n",
       "      <th></th>\n",
       "      <th></th>\n",
       "      <th></th>\n",
       "      <th></th>\n",
       "      <th></th>\n",
       "      <th></th>\n",
       "    </tr>\n",
       "  </thead>\n",
       "  <tbody>\n",
       "    <tr>\n",
       "      <th>Region1 (Northeast)</th>\n",
       "      <td>10.198858</td>\n",
       "      <td>30.0</td>\n",
       "      <td>0.0</td>\n",
       "      <td>11.542582</td>\n",
       "      <td>99999.0</td>\n",
       "      <td>1.0</td>\n",
       "    </tr>\n",
       "    <tr>\n",
       "      <th>Region2 (Midwest)</th>\n",
       "      <td>10.303069</td>\n",
       "      <td>30.0</td>\n",
       "      <td>0.0</td>\n",
       "      <td>12.681835</td>\n",
       "      <td>99999.0</td>\n",
       "      <td>1.0</td>\n",
       "    </tr>\n",
       "    <tr>\n",
       "      <th>Region3 (South)</th>\n",
       "      <td>10.232918</td>\n",
       "      <td>30.0</td>\n",
       "      <td>0.0</td>\n",
       "      <td>12.118845</td>\n",
       "      <td>99999.0</td>\n",
       "      <td>1.0</td>\n",
       "    </tr>\n",
       "    <tr>\n",
       "      <th>Region4 (West)</th>\n",
       "      <td>10.181973</td>\n",
       "      <td>30.0</td>\n",
       "      <td>0.0</td>\n",
       "      <td>11.276491</td>\n",
       "      <td>99999.0</td>\n",
       "      <td>1.0</td>\n",
       "    </tr>\n",
       "  </tbody>\n",
       "</table>\n",
       "</div>"
      ],
      "text/plain": [
       "                    days_since_prior_order                prices              \n",
       "                                      mean   max  min       mean      max  min\n",
       "region_of_state                                                               \n",
       "Region1 (Northeast)              10.198858  30.0  0.0  11.542582  99999.0  1.0\n",
       "Region2 (Midwest)                10.303069  30.0  0.0  12.681835  99999.0  1.0\n",
       "Region3 (South)                  10.232918  30.0  0.0  12.118845  99999.0  1.0\n",
       "Region4 (West)                   10.181973  30.0  0.0  11.276491  99999.0  1.0"
      ]
     },
     "execution_count": 66,
     "metadata": {},
     "output_type": "execute_result"
    }
   ],
   "source": [
    "region_statistics"
   ]
  },
  {
   "cell_type": "code",
   "execution_count": 107,
   "id": "ace09c47",
   "metadata": {},
   "outputs": [],
   "source": [
    "# Copy region_statistics to clipboard to paste to Excel\n",
    "region_statistics.to_clipboard()"
   ]
  },
  {
   "cell_type": "markdown",
   "id": "3ec08a07",
   "metadata": {},
   "source": [
    "### Department statistics (department_id)"
   ]
  },
  {
   "cell_type": "code",
   "execution_count": 67,
   "id": "bdf15093",
   "metadata": {},
   "outputs": [],
   "source": [
    "# Department profile stats\n",
    "department_statistics = df_ords_prods_high_act_cust.groupby('department_id').agg({'days_since_prior_order': ['mean', 'max', 'min'], 'prices': ['mean', 'max', 'min']})"
   ]
  },
  {
   "cell_type": "code",
   "execution_count": 68,
   "id": "f0be4001",
   "metadata": {},
   "outputs": [
    {
     "data": {
      "text/html": [
       "<div>\n",
       "<style scoped>\n",
       "    .dataframe tbody tr th:only-of-type {\n",
       "        vertical-align: middle;\n",
       "    }\n",
       "\n",
       "    .dataframe tbody tr th {\n",
       "        vertical-align: top;\n",
       "    }\n",
       "\n",
       "    .dataframe thead tr th {\n",
       "        text-align: left;\n",
       "    }\n",
       "\n",
       "    .dataframe thead tr:last-of-type th {\n",
       "        text-align: right;\n",
       "    }\n",
       "</style>\n",
       "<table border=\"1\" class=\"dataframe\">\n",
       "  <thead>\n",
       "    <tr>\n",
       "      <th></th>\n",
       "      <th colspan=\"3\" halign=\"left\">days_since_prior_order</th>\n",
       "      <th colspan=\"3\" halign=\"left\">prices</th>\n",
       "    </tr>\n",
       "    <tr>\n",
       "      <th></th>\n",
       "      <th>mean</th>\n",
       "      <th>max</th>\n",
       "      <th>min</th>\n",
       "      <th>mean</th>\n",
       "      <th>max</th>\n",
       "      <th>min</th>\n",
       "    </tr>\n",
       "    <tr>\n",
       "      <th>department_id</th>\n",
       "      <th></th>\n",
       "      <th></th>\n",
       "      <th></th>\n",
       "      <th></th>\n",
       "      <th></th>\n",
       "      <th></th>\n",
       "    </tr>\n",
       "  </thead>\n",
       "  <tbody>\n",
       "    <tr>\n",
       "      <th>1</th>\n",
       "      <td>10.739897</td>\n",
       "      <td>30.0</td>\n",
       "      <td>0.0</td>\n",
       "      <td>7.733725</td>\n",
       "      <td>15.0</td>\n",
       "      <td>1.0</td>\n",
       "    </tr>\n",
       "    <tr>\n",
       "      <th>2</th>\n",
       "      <td>10.056842</td>\n",
       "      <td>30.0</td>\n",
       "      <td>0.0</td>\n",
       "      <td>6.961995</td>\n",
       "      <td>15.0</td>\n",
       "      <td>1.1</td>\n",
       "    </tr>\n",
       "    <tr>\n",
       "      <th>3</th>\n",
       "      <td>10.227725</td>\n",
       "      <td>30.0</td>\n",
       "      <td>0.0</td>\n",
       "      <td>7.857482</td>\n",
       "      <td>15.0</td>\n",
       "      <td>1.0</td>\n",
       "    </tr>\n",
       "    <tr>\n",
       "      <th>4</th>\n",
       "      <td>10.026070</td>\n",
       "      <td>30.0</td>\n",
       "      <td>0.0</td>\n",
       "      <td>7.980348</td>\n",
       "      <td>15.0</td>\n",
       "      <td>1.0</td>\n",
       "    </tr>\n",
       "    <tr>\n",
       "      <th>5</th>\n",
       "      <td>9.331370</td>\n",
       "      <td>30.0</td>\n",
       "      <td>0.0</td>\n",
       "      <td>8.150699</td>\n",
       "      <td>15.0</td>\n",
       "      <td>1.0</td>\n",
       "    </tr>\n",
       "    <tr>\n",
       "      <th>...</th>\n",
       "      <td>...</td>\n",
       "      <td>...</td>\n",
       "      <td>...</td>\n",
       "      <td>...</td>\n",
       "      <td>...</td>\n",
       "      <td>...</td>\n",
       "    </tr>\n",
       "    <tr>\n",
       "      <th>17</th>\n",
       "      <td>10.968814</td>\n",
       "      <td>30.0</td>\n",
       "      <td>0.0</td>\n",
       "      <td>7.379951</td>\n",
       "      <td>15.0</td>\n",
       "      <td>1.0</td>\n",
       "    </tr>\n",
       "    <tr>\n",
       "      <th>18</th>\n",
       "      <td>9.335526</td>\n",
       "      <td>30.0</td>\n",
       "      <td>0.0</td>\n",
       "      <td>7.634399</td>\n",
       "      <td>15.0</td>\n",
       "      <td>1.0</td>\n",
       "    </tr>\n",
       "    <tr>\n",
       "      <th>19</th>\n",
       "      <td>10.108421</td>\n",
       "      <td>30.0</td>\n",
       "      <td>0.0</td>\n",
       "      <td>4.275555</td>\n",
       "      <td>7.0</td>\n",
       "      <td>1.6</td>\n",
       "    </tr>\n",
       "    <tr>\n",
       "      <th>20</th>\n",
       "      <td>10.431782</td>\n",
       "      <td>30.0</td>\n",
       "      <td>0.0</td>\n",
       "      <td>7.783347</td>\n",
       "      <td>15.0</td>\n",
       "      <td>1.0</td>\n",
       "    </tr>\n",
       "    <tr>\n",
       "      <th>21</th>\n",
       "      <td>9.659415</td>\n",
       "      <td>30.0</td>\n",
       "      <td>0.0</td>\n",
       "      <td>8.660655</td>\n",
       "      <td>15.0</td>\n",
       "      <td>1.0</td>\n",
       "    </tr>\n",
       "  </tbody>\n",
       "</table>\n",
       "<p>21 rows × 6 columns</p>\n",
       "</div>"
      ],
      "text/plain": [
       "              days_since_prior_order               prices           \n",
       "                                mean   max  min      mean   max  min\n",
       "department_id                                                       \n",
       "1                          10.739897  30.0  0.0  7.733725  15.0  1.0\n",
       "2                          10.056842  30.0  0.0  6.961995  15.0  1.1\n",
       "3                          10.227725  30.0  0.0  7.857482  15.0  1.0\n",
       "4                          10.026070  30.0  0.0  7.980348  15.0  1.0\n",
       "5                           9.331370  30.0  0.0  8.150699  15.0  1.0\n",
       "...                              ...   ...  ...       ...   ...  ...\n",
       "17                         10.968814  30.0  0.0  7.379951  15.0  1.0\n",
       "18                          9.335526  30.0  0.0  7.634399  15.0  1.0\n",
       "19                         10.108421  30.0  0.0  4.275555   7.0  1.6\n",
       "20                         10.431782  30.0  0.0  7.783347  15.0  1.0\n",
       "21                          9.659415  30.0  0.0  8.660655  15.0  1.0\n",
       "\n",
       "[21 rows x 6 columns]"
      ]
     },
     "execution_count": 68,
     "metadata": {},
     "output_type": "execute_result"
    }
   ],
   "source": [
    "department_statistics"
   ]
  },
  {
   "cell_type": "code",
   "execution_count": 109,
   "id": "e9671d7c",
   "metadata": {},
   "outputs": [],
   "source": [
    "# Copy department_statistics to clipboard to paste to Excel\n",
    "department_statistics.to_clipboard()"
   ]
  },
  {
   "cell_type": "markdown",
   "id": "f0da5e4f",
   "metadata": {},
   "source": [
    "# ---------------------------------------"
   ]
  },
  {
   "cell_type": "markdown",
   "id": "36a4c814",
   "metadata": {},
   "source": [
    "## Step 8 and 9 - Various crosstab comparisons (region and department) to identify relationships and visualizations"
   ]
  },
  {
   "cell_type": "markdown",
   "id": "adf9fa0d",
   "metadata": {},
   "source": [
    "### Cross - Age (age_category) vs Region (region_of_state)"
   ]
  },
  {
   "cell_type": "code",
   "execution_count": 76,
   "id": "0edf4348",
   "metadata": {},
   "outputs": [],
   "source": [
    "# Create a crosstab - 'age_category' and 'region', with column percentages\n",
    "age_region_cross = pd.crosstab(df_ords_prods_high_act_cust['age_category'], df_ords_prods_high_act_cust['region_of_state'], normalize = 'columns')"
   ]
  },
  {
   "cell_type": "code",
   "execution_count": 70,
   "id": "1d0d4295",
   "metadata": {},
   "outputs": [
    {
     "data": {
      "text/html": [
       "<div>\n",
       "<style scoped>\n",
       "    .dataframe tbody tr th:only-of-type {\n",
       "        vertical-align: middle;\n",
       "    }\n",
       "\n",
       "    .dataframe tbody tr th {\n",
       "        vertical-align: top;\n",
       "    }\n",
       "\n",
       "    .dataframe thead th {\n",
       "        text-align: right;\n",
       "    }\n",
       "</style>\n",
       "<table border=\"1\" class=\"dataframe\">\n",
       "  <thead>\n",
       "    <tr style=\"text-align: right;\">\n",
       "      <th>region_of_state</th>\n",
       "      <th>Region1 (Northeast)</th>\n",
       "      <th>Region2 (Midwest)</th>\n",
       "      <th>Region3 (South)</th>\n",
       "      <th>Region4 (West)</th>\n",
       "    </tr>\n",
       "    <tr>\n",
       "      <th>age_category</th>\n",
       "      <th></th>\n",
       "      <th></th>\n",
       "      <th></th>\n",
       "      <th></th>\n",
       "    </tr>\n",
       "  </thead>\n",
       "  <tbody>\n",
       "    <tr>\n",
       "      <th>Older adult</th>\n",
       "      <td>0.385775</td>\n",
       "      <td>0.395849</td>\n",
       "      <td>0.387390</td>\n",
       "      <td>0.394447</td>\n",
       "    </tr>\n",
       "    <tr>\n",
       "      <th>Retired adult</th>\n",
       "      <td>0.271710</td>\n",
       "      <td>0.262211</td>\n",
       "      <td>0.262673</td>\n",
       "      <td>0.264687</td>\n",
       "    </tr>\n",
       "    <tr>\n",
       "      <th>Younger adult</th>\n",
       "      <td>0.342515</td>\n",
       "      <td>0.341940</td>\n",
       "      <td>0.349937</td>\n",
       "      <td>0.340866</td>\n",
       "    </tr>\n",
       "  </tbody>\n",
       "</table>\n",
       "</div>"
      ],
      "text/plain": [
       "region_of_state  Region1 (Northeast)  Region2 (Midwest)  Region3 (South)  \\\n",
       "age_category                                                               \n",
       "Older adult                 0.385775           0.395849         0.387390   \n",
       "Retired adult               0.271710           0.262211         0.262673   \n",
       "Younger adult               0.342515           0.341940         0.349937   \n",
       "\n",
       "region_of_state  Region4 (West)  \n",
       "age_category                     \n",
       "Older adult            0.394447  \n",
       "Retired adult          0.264687  \n",
       "Younger adult          0.340866  "
      ]
     },
     "execution_count": 70,
     "metadata": {},
     "output_type": "execute_result"
    }
   ],
   "source": [
    "age_region_cross"
   ]
  },
  {
   "cell_type": "markdown",
   "id": "3a6e3324",
   "metadata": {},
   "source": [
    "#### We can see spending by 'Retired adult' is lagging behind 'Older adult' (lagging by about 12%) and 'Younger adult' (lagging by about 8%) by a significant amount.\n",
    "#### 'Younger adult' trails behind 'Older adult' by only about 4%."
   ]
  },
  {
   "cell_type": "code",
   "execution_count": 112,
   "id": "3fd34584",
   "metadata": {},
   "outputs": [],
   "source": [
    "# Copy age_region_cross to clipboard to paste to Excel\n",
    "age_region_cross.to_clipboard()"
   ]
  },
  {
   "cell_type": "markdown",
   "id": "0d098327",
   "metadata": {},
   "source": [
    "### Age (age_category) vs Region (region_of_state) plot"
   ]
  },
  {
   "cell_type": "code",
   "execution_count": 91,
   "id": "e4ca0af3",
   "metadata": {},
   "outputs": [
    {
     "data": {
      "text/plain": [
       "<matplotlib.legend.Legend at 0x1cca6e99d90>"
      ]
     },
     "execution_count": 91,
     "metadata": {},
     "output_type": "execute_result"
    },
    {
     "data": {
      "image/png": "[encoded data removed]",
      "text/plain": [
       "<Figure size 640x480 with 1 Axes>"
      ]
     },
     "metadata": {},
     "output_type": "display_data"
    }
   ],
   "source": [
    "# age_profile by region\n",
    "age_region_cross_bar = age_region_cross.plot.barh(rot=0)\n",
    "plt.legend(bbox_to_anchor=(.7, .65), loc='upper left')"
   ]
  },
  {
   "cell_type": "code",
   "execution_count": 102,
   "id": "2ff6e4df",
   "metadata": {},
   "outputs": [],
   "source": [
    "# Save bar chart as png\n",
    "age_region_cross_bar.figure.savefig(os.path.join(path, '04 Analysis', 'Visualizations', 'age_region_cross_bar.png'))"
   ]
  },
  {
   "cell_type": "markdown",
   "id": "ae37afc4",
   "metadata": {},
   "source": [
    "### Cross - Marital / Dependents (marital_dependent) vs Region (region_of_state)"
   ]
  },
  {
   "cell_type": "code",
   "execution_count": 96,
   "id": "a4bbea07",
   "metadata": {},
   "outputs": [],
   "source": [
    "# Create a crosstab - 'marital_dependents' and 'region', with column percentages\n",
    "marital_dependent_region_cross = pd.crosstab(df_ords_prods_high_act_cust['marital_dependents'], df_ords_prods_high_act_cust['region_of_state'], normalize = 'columns')"
   ]
  },
  {
   "cell_type": "code",
   "execution_count": 97,
   "id": "b2c164c2",
   "metadata": {},
   "outputs": [
    {
     "data": {
      "text/html": [
       "<div>\n",
       "<style scoped>\n",
       "    .dataframe tbody tr th:only-of-type {\n",
       "        vertical-align: middle;\n",
       "    }\n",
       "\n",
       "    .dataframe tbody tr th {\n",
       "        vertical-align: top;\n",
       "    }\n",
       "\n",
       "    .dataframe thead th {\n",
       "        text-align: right;\n",
       "    }\n",
       "</style>\n",
       "<table border=\"1\" class=\"dataframe\">\n",
       "  <thead>\n",
       "    <tr style=\"text-align: right;\">\n",
       "      <th>region_of_state</th>\n",
       "      <th>Region1 (Northeast)</th>\n",
       "      <th>Region2 (Midwest)</th>\n",
       "      <th>Region3 (South)</th>\n",
       "      <th>Region4 (West)</th>\n",
       "    </tr>\n",
       "    <tr>\n",
       "      <th>marital_dependents</th>\n",
       "      <th></th>\n",
       "      <th></th>\n",
       "      <th></th>\n",
       "      <th></th>\n",
       "    </tr>\n",
       "  </thead>\n",
       "  <tbody>\n",
       "    <tr>\n",
       "      <th>Divorced/Widow no dependents</th>\n",
       "      <td>0.087611</td>\n",
       "      <td>0.084996</td>\n",
       "      <td>0.085084</td>\n",
       "      <td>0.084770</td>\n",
       "    </tr>\n",
       "    <tr>\n",
       "      <th>Friends/Siblings with dependents</th>\n",
       "      <td>0.046925</td>\n",
       "      <td>0.048397</td>\n",
       "      <td>0.049020</td>\n",
       "      <td>0.046403</td>\n",
       "    </tr>\n",
       "    <tr>\n",
       "      <th>Married with dependents</th>\n",
       "      <td>0.705214</td>\n",
       "      <td>0.700579</td>\n",
       "      <td>0.700577</td>\n",
       "      <td>0.703768</td>\n",
       "    </tr>\n",
       "    <tr>\n",
       "      <th>Single no dependents</th>\n",
       "      <td>0.160250</td>\n",
       "      <td>0.166028</td>\n",
       "      <td>0.165318</td>\n",
       "      <td>0.165059</td>\n",
       "    </tr>\n",
       "  </tbody>\n",
       "</table>\n",
       "</div>"
      ],
      "text/plain": [
       "region_of_state                   Region1 (Northeast)  Region2 (Midwest)  \\\n",
       "marital_dependents                                                         \n",
       "Divorced/Widow no dependents                 0.087611           0.084996   \n",
       "Friends/Siblings with dependents             0.046925           0.048397   \n",
       "Married with dependents                      0.705214           0.700579   \n",
       "Single no dependents                         0.160250           0.166028   \n",
       "\n",
       "region_of_state                   Region3 (South)  Region4 (West)  \n",
       "marital_dependents                                                 \n",
       "Divorced/Widow no dependents             0.085084        0.084770  \n",
       "Friends/Siblings with dependents         0.049020        0.046403  \n",
       "Married with dependents                  0.700577        0.703768  \n",
       "Single no dependents                     0.165318        0.165059  "
      ]
     },
     "execution_count": 97,
     "metadata": {},
     "output_type": "execute_result"
    }
   ],
   "source": [
    "marital_dependent_region_cross"
   ]
  },
  {
   "cell_type": "markdown",
   "id": "3e53003c",
   "metadata": {},
   "source": [
    "#### 'Married with dependents' dominates by region at 70% followed by 'Single no dependents' with 16% of sales\n",
    "#### Across regions, each category shows very little variance for each marital_dependents group."
   ]
  },
  {
   "cell_type": "code",
   "execution_count": 131,
   "id": "e372ff97",
   "metadata": {},
   "outputs": [],
   "source": [
    "# Copy marital_dependent_cross to clipboard to paste to Excel\n",
    "marital_dependent_region_cross.to_clipboard()"
   ]
  },
  {
   "cell_type": "markdown",
   "id": "8094c3e2",
   "metadata": {},
   "source": [
    "### Marital / Dependents (marital_dependent) vs Region (region_of_state) plot"
   ]
  },
  {
   "cell_type": "code",
   "execution_count": 107,
   "id": "6a2f0b14",
   "metadata": {},
   "outputs": [
    {
     "data": {
      "image/png": "[encoded data removed]",
      "text/plain": [
       "<Figure size 640x480 with 1 Axes>"
      ]
     },
     "metadata": {},
     "output_type": "display_data"
    }
   ],
   "source": [
    "# Marital status / Dependents by region\n",
    "marital_dependent_region_cross_bar = marital_dependent_region_cross.plot.barh(rot=0)"
   ]
  },
  {
   "cell_type": "code",
   "execution_count": 108,
   "id": "30afece3",
   "metadata": {},
   "outputs": [],
   "source": [
    "# Save bar chart as png\n",
    "marital_dependent_region_cross_bar.figure.savefig(os.path.join(path, '04 Analysis', 'Visualizations', 'marital_dependent_region_cross_bar.png'))"
   ]
  },
  {
   "cell_type": "markdown",
   "id": "9c3b4c25",
   "metadata": {},
   "source": [
    "### Cross - Income (income_category) vs Region (region_of_state)"
   ]
  },
  {
   "cell_type": "code",
   "execution_count": 98,
   "id": "5a873948",
   "metadata": {},
   "outputs": [],
   "source": [
    "# Create a crosstab - 'marital_dependents' and 'region', with column percentages\n",
    "income_region_cross = pd.crosstab(df_ords_prods_high_act_cust['income_category'], df_ords_prods_high_act_cust['region_of_state'], normalize = 'columns')"
   ]
  },
  {
   "cell_type": "code",
   "execution_count": 99,
   "id": "39b27a89",
   "metadata": {},
   "outputs": [
    {
     "data": {
      "text/html": [
       "<div>\n",
       "<style scoped>\n",
       "    .dataframe tbody tr th:only-of-type {\n",
       "        vertical-align: middle;\n",
       "    }\n",
       "\n",
       "    .dataframe tbody tr th {\n",
       "        vertical-align: top;\n",
       "    }\n",
       "\n",
       "    .dataframe thead th {\n",
       "        text-align: right;\n",
       "    }\n",
       "</style>\n",
       "<table border=\"1\" class=\"dataframe\">\n",
       "  <thead>\n",
       "    <tr style=\"text-align: right;\">\n",
       "      <th>region_of_state</th>\n",
       "      <th>Region1 (Northeast)</th>\n",
       "      <th>Region2 (Midwest)</th>\n",
       "      <th>Region3 (South)</th>\n",
       "      <th>Region4 (West)</th>\n",
       "    </tr>\n",
       "    <tr>\n",
       "      <th>income_category</th>\n",
       "      <th></th>\n",
       "      <th></th>\n",
       "      <th></th>\n",
       "      <th></th>\n",
       "    </tr>\n",
       "  </thead>\n",
       "  <tbody>\n",
       "    <tr>\n",
       "      <th>High Medium income</th>\n",
       "      <td>0.006117</td>\n",
       "      <td>0.006570</td>\n",
       "      <td>0.006906</td>\n",
       "      <td>0.006913</td>\n",
       "    </tr>\n",
       "    <tr>\n",
       "      <th>High income</th>\n",
       "      <td>0.001222</td>\n",
       "      <td>0.002257</td>\n",
       "      <td>0.001187</td>\n",
       "      <td>0.001475</td>\n",
       "    </tr>\n",
       "    <tr>\n",
       "      <th>Low Medium income</th>\n",
       "      <td>0.676082</td>\n",
       "      <td>0.674362</td>\n",
       "      <td>0.670544</td>\n",
       "      <td>0.668355</td>\n",
       "    </tr>\n",
       "    <tr>\n",
       "      <th>Lower income</th>\n",
       "      <td>0.316579</td>\n",
       "      <td>0.316811</td>\n",
       "      <td>0.321363</td>\n",
       "      <td>0.323257</td>\n",
       "    </tr>\n",
       "  </tbody>\n",
       "</table>\n",
       "</div>"
      ],
      "text/plain": [
       "region_of_state     Region1 (Northeast)  Region2 (Midwest)  Region3 (South)  \\\n",
       "income_category                                                               \n",
       "High Medium income             0.006117           0.006570         0.006906   \n",
       "High income                    0.001222           0.002257         0.001187   \n",
       "Low Medium income              0.676082           0.674362         0.670544   \n",
       "Lower income                   0.316579           0.316811         0.321363   \n",
       "\n",
       "region_of_state     Region4 (West)  \n",
       "income_category                     \n",
       "High Medium income        0.006913  \n",
       "High income               0.001475  \n",
       "Low Medium income         0.668355  \n",
       "Lower income              0.323257  "
      ]
     },
     "execution_count": 99,
     "metadata": {},
     "output_type": "execute_result"
    }
   ],
   "source": [
    "income_region_cross"
   ]
  },
  {
   "cell_type": "markdown",
   "id": "6ea987f7",
   "metadata": {},
   "source": [
    "#### 'Low Medium income' (75k-200k) dominates our customer with 67% followed by 'Lower income' (<75k) with 32% of our customers\n",
    "#### 'High income' (>400k) and 'High Medium income' (200k-400k) are not strongly represented in our customers"
   ]
  },
  {
   "cell_type": "code",
   "execution_count": 134,
   "id": "07279722",
   "metadata": {},
   "outputs": [],
   "source": [
    "# Copy income_category_cross to clipboard to paste to Excel\n",
    "income_region_cross.to_clipboard()"
   ]
  },
  {
   "cell_type": "markdown",
   "id": "f862f190",
   "metadata": {},
   "source": [
    "### Income (income_category) vs Region (region_of_state) plot"
   ]
  },
  {
   "cell_type": "code",
   "execution_count": 118,
   "id": "c033def4",
   "metadata": {},
   "outputs": [
    {
     "data": {
      "text/plain": [
       "<matplotlib.legend.Legend at 0x1f313fa21c0>"
      ]
     },
     "execution_count": 118,
     "metadata": {},
     "output_type": "execute_result"
    },
    {
     "data": {
      "image/png": "[encoded data removed]",
      "text/plain": [
       "<Figure size 640x480 with 1 Axes>"
      ]
     },
     "metadata": {},
     "output_type": "display_data"
    }
   ],
   "source": [
    "# Income by region\n",
    "income_region_cross_bar = income_region_cross.plot.barh(rot=0)\n",
    "plt.legend(loc=(0.5, 0.7))"
   ]
  },
  {
   "cell_type": "code",
   "execution_count": 119,
   "id": "586ec11e",
   "metadata": {},
   "outputs": [],
   "source": [
    "# Save bar chart as png\n",
    "income_region_cross_bar.figure.savefig(os.path.join(path, '04 Analysis', 'Visualizations', 'income_region_cross_bar.png'))"
   ]
  },
  {
   "cell_type": "markdown",
   "id": "a5f3fcba",
   "metadata": {},
   "source": [
    "### Cross - Region (region_of_state) vs Region (region_of_state)"
   ]
  },
  {
   "cell_type": "markdown",
   "id": "4db51152",
   "metadata": {},
   "source": [
    "#### Although region was a profile listed above, a cross with itself will yield no usable statistics so it will be omitted."
   ]
  },
  {
   "cell_type": "markdown",
   "id": "d7232e3a",
   "metadata": {},
   "source": [
    "### Cross - Department (department_id) vs Region (region_of_state)"
   ]
  },
  {
   "cell_type": "code",
   "execution_count": 19,
   "id": "b7660f6a",
   "metadata": {},
   "outputs": [],
   "source": [
    "# Create a crosstab - 'department_id' and 'region', with column percentages\n",
    "department_region_cross = pd.crosstab(df_ords_prods_high_act_cust['department_id'], df_ords_prods_high_act_cust['region_of_state'], normalize = 'columns')"
   ]
  },
  {
   "cell_type": "code",
   "execution_count": 93,
   "id": "a1760f66",
   "metadata": {},
   "outputs": [],
   "source": [
    "# Adjust view to permit more rows to display\n",
    "pd.set_option('display.max_rows', 500)"
   ]
  },
  {
   "cell_type": "code",
   "execution_count": 20,
   "id": "82ae92cf",
   "metadata": {},
   "outputs": [
    {
     "data": {
      "text/html": [
       "<div>\n",
       "<style scoped>\n",
       "    .dataframe tbody tr th:only-of-type {\n",
       "        vertical-align: middle;\n",
       "    }\n",
       "\n",
       "    .dataframe tbody tr th {\n",
       "        vertical-align: top;\n",
       "    }\n",
       "\n",
       "    .dataframe thead th {\n",
       "        text-align: right;\n",
       "    }\n",
       "</style>\n",
       "<table border=\"1\" class=\"dataframe\">\n",
       "  <thead>\n",
       "    <tr style=\"text-align: right;\">\n",
       "      <th>region_of_state</th>\n",
       "      <th>Region1 (Northeast)</th>\n",
       "      <th>Region2 (Midwest)</th>\n",
       "      <th>Region3 (South)</th>\n",
       "      <th>Region4 (West)</th>\n",
       "    </tr>\n",
       "    <tr>\n",
       "      <th>department_id</th>\n",
       "      <th></th>\n",
       "      <th></th>\n",
       "      <th></th>\n",
       "      <th></th>\n",
       "    </tr>\n",
       "  </thead>\n",
       "  <tbody>\n",
       "    <tr>\n",
       "      <th>1</th>\n",
       "      <td>0.067787</td>\n",
       "      <td>0.068612</td>\n",
       "      <td>0.068848</td>\n",
       "      <td>0.068519</td>\n",
       "    </tr>\n",
       "    <tr>\n",
       "      <th>2</th>\n",
       "      <td>0.001147</td>\n",
       "      <td>0.001099</td>\n",
       "      <td>0.001123</td>\n",
       "      <td>0.001082</td>\n",
       "    </tr>\n",
       "    <tr>\n",
       "      <th>3</th>\n",
       "      <td>0.036471</td>\n",
       "      <td>0.036047</td>\n",
       "      <td>0.036041</td>\n",
       "      <td>0.036350</td>\n",
       "    </tr>\n",
       "    <tr>\n",
       "      <th>4</th>\n",
       "      <td>0.291509</td>\n",
       "      <td>0.293894</td>\n",
       "      <td>0.293612</td>\n",
       "      <td>0.293252</td>\n",
       "    </tr>\n",
       "    <tr>\n",
       "      <th>5</th>\n",
       "      <td>0.004578</td>\n",
       "      <td>0.004688</td>\n",
       "      <td>0.004734</td>\n",
       "      <td>0.004636</td>\n",
       "    </tr>\n",
       "    <tr>\n",
       "      <th>6</th>\n",
       "      <td>0.008176</td>\n",
       "      <td>0.008354</td>\n",
       "      <td>0.008209</td>\n",
       "      <td>0.008325</td>\n",
       "    </tr>\n",
       "    <tr>\n",
       "      <th>7</th>\n",
       "      <td>0.084713</td>\n",
       "      <td>0.082487</td>\n",
       "      <td>0.083349</td>\n",
       "      <td>0.082068</td>\n",
       "    </tr>\n",
       "    <tr>\n",
       "      <th>8</th>\n",
       "      <td>0.003245</td>\n",
       "      <td>0.002941</td>\n",
       "      <td>0.002901</td>\n",
       "      <td>0.003035</td>\n",
       "    </tr>\n",
       "    <tr>\n",
       "      <th>9</th>\n",
       "      <td>0.026318</td>\n",
       "      <td>0.026642</td>\n",
       "      <td>0.026458</td>\n",
       "      <td>0.026749</td>\n",
       "    </tr>\n",
       "    <tr>\n",
       "      <th>10</th>\n",
       "      <td>0.001025</td>\n",
       "      <td>0.001092</td>\n",
       "      <td>0.001084</td>\n",
       "      <td>0.001103</td>\n",
       "    </tr>\n",
       "    <tr>\n",
       "      <th>11</th>\n",
       "      <td>0.013681</td>\n",
       "      <td>0.013826</td>\n",
       "      <td>0.013820</td>\n",
       "      <td>0.013453</td>\n",
       "    </tr>\n",
       "    <tr>\n",
       "      <th>12</th>\n",
       "      <td>0.021698</td>\n",
       "      <td>0.021794</td>\n",
       "      <td>0.021736</td>\n",
       "      <td>0.021928</td>\n",
       "    </tr>\n",
       "    <tr>\n",
       "      <th>13</th>\n",
       "      <td>0.057228</td>\n",
       "      <td>0.057885</td>\n",
       "      <td>0.057390</td>\n",
       "      <td>0.057761</td>\n",
       "    </tr>\n",
       "    <tr>\n",
       "      <th>14</th>\n",
       "      <td>0.021576</td>\n",
       "      <td>0.021504</td>\n",
       "      <td>0.021644</td>\n",
       "      <td>0.021902</td>\n",
       "    </tr>\n",
       "    <tr>\n",
       "      <th>15</th>\n",
       "      <td>0.032378</td>\n",
       "      <td>0.032701</td>\n",
       "      <td>0.032728</td>\n",
       "      <td>0.032826</td>\n",
       "    </tr>\n",
       "    <tr>\n",
       "      <th>16</th>\n",
       "      <td>0.167368</td>\n",
       "      <td>0.166975</td>\n",
       "      <td>0.167102</td>\n",
       "      <td>0.167405</td>\n",
       "    </tr>\n",
       "    <tr>\n",
       "      <th>17</th>\n",
       "      <td>0.022802</td>\n",
       "      <td>0.022997</td>\n",
       "      <td>0.022312</td>\n",
       "      <td>0.022479</td>\n",
       "    </tr>\n",
       "    <tr>\n",
       "      <th>18</th>\n",
       "      <td>0.013306</td>\n",
       "      <td>0.013185</td>\n",
       "      <td>0.013530</td>\n",
       "      <td>0.012921</td>\n",
       "    </tr>\n",
       "    <tr>\n",
       "      <th>19</th>\n",
       "      <td>0.090244</td>\n",
       "      <td>0.088844</td>\n",
       "      <td>0.088912</td>\n",
       "      <td>0.089732</td>\n",
       "    </tr>\n",
       "    <tr>\n",
       "      <th>20</th>\n",
       "      <td>0.032646</td>\n",
       "      <td>0.032289</td>\n",
       "      <td>0.032355</td>\n",
       "      <td>0.032464</td>\n",
       "    </tr>\n",
       "    <tr>\n",
       "      <th>21</th>\n",
       "      <td>0.002107</td>\n",
       "      <td>0.002143</td>\n",
       "      <td>0.002113</td>\n",
       "      <td>0.002007</td>\n",
       "    </tr>\n",
       "  </tbody>\n",
       "</table>\n",
       "</div>"
      ],
      "text/plain": [
       "region_of_state  Region1 (Northeast)  Region2 (Midwest)  Region3 (South)  \\\n",
       "department_id                                                              \n",
       "1                           0.067787           0.068612         0.068848   \n",
       "2                           0.001147           0.001099         0.001123   \n",
       "3                           0.036471           0.036047         0.036041   \n",
       "4                           0.291509           0.293894         0.293612   \n",
       "5                           0.004578           0.004688         0.004734   \n",
       "6                           0.008176           0.008354         0.008209   \n",
       "7                           0.084713           0.082487         0.083349   \n",
       "8                           0.003245           0.002941         0.002901   \n",
       "9                           0.026318           0.026642         0.026458   \n",
       "10                          0.001025           0.001092         0.001084   \n",
       "11                          0.013681           0.013826         0.013820   \n",
       "12                          0.021698           0.021794         0.021736   \n",
       "13                          0.057228           0.057885         0.057390   \n",
       "14                          0.021576           0.021504         0.021644   \n",
       "15                          0.032378           0.032701         0.032728   \n",
       "16                          0.167368           0.166975         0.167102   \n",
       "17                          0.022802           0.022997         0.022312   \n",
       "18                          0.013306           0.013185         0.013530   \n",
       "19                          0.090244           0.088844         0.088912   \n",
       "20                          0.032646           0.032289         0.032355   \n",
       "21                          0.002107           0.002143         0.002113   \n",
       "\n",
       "region_of_state  Region4 (West)  \n",
       "department_id                    \n",
       "1                      0.068519  \n",
       "2                      0.001082  \n",
       "3                      0.036350  \n",
       "4                      0.293252  \n",
       "5                      0.004636  \n",
       "6                      0.008325  \n",
       "7                      0.082068  \n",
       "8                      0.003035  \n",
       "9                      0.026749  \n",
       "10                     0.001103  \n",
       "11                     0.013453  \n",
       "12                     0.021928  \n",
       "13                     0.057761  \n",
       "14                     0.021902  \n",
       "15                     0.032826  \n",
       "16                     0.167405  \n",
       "17                     0.022479  \n",
       "18                     0.012921  \n",
       "19                     0.089732  \n",
       "20                     0.032464  \n",
       "21                     0.002007  "
      ]
     },
     "execution_count": 20,
     "metadata": {},
     "output_type": "execute_result"
    }
   ],
   "source": [
    "department_region_cross"
   ]
  },
  {
   "cell_type": "markdown",
   "id": "e4984279",
   "metadata": {},
   "source": [
    "#### We see a relatively similar values across departments as well as across regions.\n",
    "#### We have two products that deviate with a significant increase in volume over the other departments: Dept 4 (Product) @ 29% and Dept 16 (Dairy eggs) @ 17% are significantly higher than other products.\n",
    "\n",
    "department_id -- department\n",
    "\n",
    "1 \tfrozen\n",
    "\n",
    "2 \tother\n",
    "\n",
    "3 \tbakery\n",
    "\n",
    "4 \tproduce\n",
    "\n",
    "5 \talcohol\n",
    "\n",
    "6 \tinternational\n",
    "\n",
    "7 \tbeverages\n",
    "\n",
    "8 \tpets\n",
    "\n",
    "9 \tdry goods pasta\n",
    "\n",
    "10 \tbulk\n",
    "\n",
    "11 \tpersonal care\n",
    "\n",
    "12 \tmeat seafood\n",
    "\n",
    "13 \tpantry\n",
    "\n",
    "14 \tbreakfast\n",
    "\n",
    "15 \tcanned goods\n",
    "\n",
    "16 \tdairy eggs\n",
    "\n",
    "17 \thousehold\n",
    "\n",
    "18 \tbabies\n",
    "\n",
    "19 \tsnacks\n",
    "\n",
    "20 \tdeli\n",
    "\n",
    "21 \tmissing"
   ]
  },
  {
   "cell_type": "code",
   "execution_count": 141,
   "id": "3a047d6c",
   "metadata": {},
   "outputs": [],
   "source": [
    "# Copy department_cross to clipboard to paste to Excel\n",
    "department_region_cross.to_clipboard()"
   ]
  },
  {
   "cell_type": "markdown",
   "id": "168ac047",
   "metadata": {},
   "source": [
    "### Department (department_id) vs Region (region_of_state) plot"
   ]
  },
  {
   "cell_type": "code",
   "execution_count": 120,
   "id": "062864c6",
   "metadata": {},
   "outputs": [
    {
     "data": {
      "image/png": "[encoded data removed]",
      "text/plain": [
       "<Figure size 640x480 with 1 Axes>"
      ]
     },
     "metadata": {},
     "output_type": "display_data"
    }
   ],
   "source": [
    "# Income by region\n",
    "department_region_cross_bar = department_region_cross.plot.barh(rot=0)"
   ]
  },
  {
   "cell_type": "code",
   "execution_count": 121,
   "id": "05e13f5d",
   "metadata": {},
   "outputs": [],
   "source": [
    "# Save bar chart as png\n",
    "department_region_cross_bar.figure.savefig(os.path.join(path, '04 Analysis', 'Visualizations', 'department_region_cross_bar.png'))"
   ]
  },
  {
   "cell_type": "code",
   "execution_count": 95,
   "id": "9b440a3f",
   "metadata": {},
   "outputs": [],
   "source": [
    "# Adjust view to permit less rows to display\n",
    "pd.set_option('display.max_rows', 10)"
   ]
  },
  {
   "cell_type": "markdown",
   "id": "d009023a",
   "metadata": {},
   "source": [
    "### Cross - Age (age_category) vs Department (department_id)"
   ]
  },
  {
   "cell_type": "code",
   "execution_count": 79,
   "id": "0d9d29e4",
   "metadata": {},
   "outputs": [],
   "source": [
    "# Create a crosstab - 'age_category' and 'department_id', with column percentages\n",
    "age_dept_cross = pd.crosstab(df_ords_prods_high_act_cust['age_category'], df_ords_prods_high_act_cust['department_id'], normalize = 'columns')"
   ]
  },
  {
   "cell_type": "code",
   "execution_count": 80,
   "id": "95c2ae6c",
   "metadata": {},
   "outputs": [
    {
     "data": {
      "text/html": [
       "<div>\n",
       "<style scoped>\n",
       "    .dataframe tbody tr th:only-of-type {\n",
       "        vertical-align: middle;\n",
       "    }\n",
       "\n",
       "    .dataframe tbody tr th {\n",
       "        vertical-align: top;\n",
       "    }\n",
       "\n",
       "    .dataframe thead th {\n",
       "        text-align: right;\n",
       "    }\n",
       "</style>\n",
       "<table border=\"1\" class=\"dataframe\">\n",
       "  <thead>\n",
       "    <tr style=\"text-align: right;\">\n",
       "      <th>department_id</th>\n",
       "      <th>1</th>\n",
       "      <th>2</th>\n",
       "      <th>3</th>\n",
       "      <th>4</th>\n",
       "      <th>5</th>\n",
       "      <th>6</th>\n",
       "      <th>7</th>\n",
       "      <th>8</th>\n",
       "      <th>9</th>\n",
       "      <th>10</th>\n",
       "      <th>...</th>\n",
       "      <th>12</th>\n",
       "      <th>13</th>\n",
       "      <th>14</th>\n",
       "      <th>15</th>\n",
       "      <th>16</th>\n",
       "      <th>17</th>\n",
       "      <th>18</th>\n",
       "      <th>19</th>\n",
       "      <th>20</th>\n",
       "      <th>21</th>\n",
       "    </tr>\n",
       "    <tr>\n",
       "      <th>age_category</th>\n",
       "      <th></th>\n",
       "      <th></th>\n",
       "      <th></th>\n",
       "      <th></th>\n",
       "      <th></th>\n",
       "      <th></th>\n",
       "      <th></th>\n",
       "      <th></th>\n",
       "      <th></th>\n",
       "      <th></th>\n",
       "      <th></th>\n",
       "      <th></th>\n",
       "      <th></th>\n",
       "      <th></th>\n",
       "      <th></th>\n",
       "      <th></th>\n",
       "      <th></th>\n",
       "      <th></th>\n",
       "      <th></th>\n",
       "      <th></th>\n",
       "      <th></th>\n",
       "    </tr>\n",
       "  </thead>\n",
       "  <tbody>\n",
       "    <tr>\n",
       "      <th>Older adult</th>\n",
       "      <td>0.391510</td>\n",
       "      <td>0.387870</td>\n",
       "      <td>0.391522</td>\n",
       "      <td>0.390154</td>\n",
       "      <td>0.389125</td>\n",
       "      <td>0.390428</td>\n",
       "      <td>0.394147</td>\n",
       "      <td>0.387137</td>\n",
       "      <td>0.390837</td>\n",
       "      <td>0.385101</td>\n",
       "      <td>...</td>\n",
       "      <td>0.389952</td>\n",
       "      <td>0.391630</td>\n",
       "      <td>0.392957</td>\n",
       "      <td>0.390138</td>\n",
       "      <td>0.389364</td>\n",
       "      <td>0.391683</td>\n",
       "      <td>0.396528</td>\n",
       "      <td>0.390243</td>\n",
       "      <td>0.391290</td>\n",
       "      <td>0.391459</td>\n",
       "    </tr>\n",
       "    <tr>\n",
       "      <th>Retired adult</th>\n",
       "      <td>0.265939</td>\n",
       "      <td>0.259975</td>\n",
       "      <td>0.264088</td>\n",
       "      <td>0.265231</td>\n",
       "      <td>0.253708</td>\n",
       "      <td>0.262505</td>\n",
       "      <td>0.265959</td>\n",
       "      <td>0.269880</td>\n",
       "      <td>0.264331</td>\n",
       "      <td>0.267406</td>\n",
       "      <td>...</td>\n",
       "      <td>0.268457</td>\n",
       "      <td>0.264981</td>\n",
       "      <td>0.261304</td>\n",
       "      <td>0.264318</td>\n",
       "      <td>0.264250</td>\n",
       "      <td>0.266669</td>\n",
       "      <td>0.258787</td>\n",
       "      <td>0.263356</td>\n",
       "      <td>0.264186</td>\n",
       "      <td>0.261163</td>\n",
       "    </tr>\n",
       "    <tr>\n",
       "      <th>Younger adult</th>\n",
       "      <td>0.342552</td>\n",
       "      <td>0.352155</td>\n",
       "      <td>0.344390</td>\n",
       "      <td>0.344615</td>\n",
       "      <td>0.357167</td>\n",
       "      <td>0.347067</td>\n",
       "      <td>0.339894</td>\n",
       "      <td>0.342983</td>\n",
       "      <td>0.344832</td>\n",
       "      <td>0.347493</td>\n",
       "      <td>...</td>\n",
       "      <td>0.341591</td>\n",
       "      <td>0.343389</td>\n",
       "      <td>0.345739</td>\n",
       "      <td>0.345544</td>\n",
       "      <td>0.346386</td>\n",
       "      <td>0.341648</td>\n",
       "      <td>0.344685</td>\n",
       "      <td>0.346401</td>\n",
       "      <td>0.344524</td>\n",
       "      <td>0.347378</td>\n",
       "    </tr>\n",
       "  </tbody>\n",
       "</table>\n",
       "<p>3 rows × 21 columns</p>\n",
       "</div>"
      ],
      "text/plain": [
       "department_id        1         2         3         4         5         6   \\\n",
       "age_category                                                                \n",
       "Older adult    0.391510  0.387870  0.391522  0.390154  0.389125  0.390428   \n",
       "Retired adult  0.265939  0.259975  0.264088  0.265231  0.253708  0.262505   \n",
       "Younger adult  0.342552  0.352155  0.344390  0.344615  0.357167  0.347067   \n",
       "\n",
       "department_id        7         8         9         10  ...        12  \\\n",
       "age_category                                           ...             \n",
       "Older adult    0.394147  0.387137  0.390837  0.385101  ...  0.389952   \n",
       "Retired adult  0.265959  0.269880  0.264331  0.267406  ...  0.268457   \n",
       "Younger adult  0.339894  0.342983  0.344832  0.347493  ...  0.341591   \n",
       "\n",
       "department_id        13        14        15        16        17        18  \\\n",
       "age_category                                                                \n",
       "Older adult    0.391630  0.392957  0.390138  0.389364  0.391683  0.396528   \n",
       "Retired adult  0.264981  0.261304  0.264318  0.264250  0.266669  0.258787   \n",
       "Younger adult  0.343389  0.345739  0.345544  0.346386  0.341648  0.344685   \n",
       "\n",
       "department_id        19        20        21  \n",
       "age_category                                 \n",
       "Older adult    0.390243  0.391290  0.391459  \n",
       "Retired adult  0.263356  0.264186  0.261163  \n",
       "Younger adult  0.346401  0.344524  0.347378  \n",
       "\n",
       "[3 rows x 21 columns]"
      ]
     },
     "execution_count": 80,
     "metadata": {},
     "output_type": "execute_result"
    }
   ],
   "source": [
    "age_dept_cross"
   ]
  },
  {
   "cell_type": "markdown",
   "id": "1d0b9f0c",
   "metadata": {},
   "source": [
    "#### We can see spending by 'Retired adult' is lagging behind 'Older adult' (lagging by about 12%) and 'Younger adult' (lagging by about 8%) by a significant amount.\n",
    "#### 'Younger adult' trails behind 'Older adult' by only about 4%."
   ]
  },
  {
   "cell_type": "code",
   "execution_count": 81,
   "id": "98b44156",
   "metadata": {},
   "outputs": [],
   "source": [
    "# Copy age_region_cross to clipboard to paste to Excel\n",
    "age_dept_cross.to_clipboard()"
   ]
  },
  {
   "cell_type": "markdown",
   "id": "0937e134",
   "metadata": {},
   "source": [
    "### Age (age_category) vs Department (department_id) plot"
   ]
  },
  {
   "cell_type": "code",
   "execution_count": 129,
   "id": "cc19b5fb",
   "metadata": {},
   "outputs": [
    {
     "data": {
      "image/png": "[encoded data removed]",
      "text/plain": [
       "<Figure size 640x480 with 1 Axes>"
      ]
     },
     "metadata": {},
     "output_type": "display_data"
    }
   ],
   "source": [
    "# age_profile by department\n",
    "age_dept_cross_bar = age_dept_cross.plot.bar(rot=0, legend=None)"
   ]
  },
  {
   "cell_type": "code",
   "execution_count": 130,
   "id": "711fd0d5",
   "metadata": {},
   "outputs": [],
   "source": [
    "# Save bar chart as png\n",
    "age_dept_cross_bar.figure.savefig(os.path.join(path, '04 Analysis', 'Visualizations', 'age_dept_cross_bar.png'))"
   ]
  },
  {
   "cell_type": "markdown",
   "id": "ff478391",
   "metadata": {},
   "source": [
    "### Cross - Marital / Dependents (marital_dependent) vs Department (department_id)"
   ]
  },
  {
   "cell_type": "code",
   "execution_count": 82,
   "id": "32259df4",
   "metadata": {},
   "outputs": [],
   "source": [
    "# Create a crosstab - 'marital_dependents' and 'region', with column percentages\n",
    "marital_dependent_dept_cross = pd.crosstab(df_ords_prods_high_act_cust['marital_dependents'], df_ords_prods_high_act_cust['department_id'], normalize = 'columns')"
   ]
  },
  {
   "cell_type": "code",
   "execution_count": 83,
   "id": "e22cfe3a",
   "metadata": {},
   "outputs": [
    {
     "data": {
      "text/html": [
       "<div>\n",
       "<style scoped>\n",
       "    .dataframe tbody tr th:only-of-type {\n",
       "        vertical-align: middle;\n",
       "    }\n",
       "\n",
       "    .dataframe tbody tr th {\n",
       "        vertical-align: top;\n",
       "    }\n",
       "\n",
       "    .dataframe thead th {\n",
       "        text-align: right;\n",
       "    }\n",
       "</style>\n",
       "<table border=\"1\" class=\"dataframe\">\n",
       "  <thead>\n",
       "    <tr style=\"text-align: right;\">\n",
       "      <th>department_id</th>\n",
       "      <th>1</th>\n",
       "      <th>2</th>\n",
       "      <th>3</th>\n",
       "      <th>4</th>\n",
       "      <th>5</th>\n",
       "      <th>6</th>\n",
       "      <th>7</th>\n",
       "      <th>8</th>\n",
       "      <th>9</th>\n",
       "      <th>10</th>\n",
       "      <th>...</th>\n",
       "      <th>12</th>\n",
       "      <th>13</th>\n",
       "      <th>14</th>\n",
       "      <th>15</th>\n",
       "      <th>16</th>\n",
       "      <th>17</th>\n",
       "      <th>18</th>\n",
       "      <th>19</th>\n",
       "      <th>20</th>\n",
       "      <th>21</th>\n",
       "    </tr>\n",
       "    <tr>\n",
       "      <th>marital_dependents</th>\n",
       "      <th></th>\n",
       "      <th></th>\n",
       "      <th></th>\n",
       "      <th></th>\n",
       "      <th></th>\n",
       "      <th></th>\n",
       "      <th></th>\n",
       "      <th></th>\n",
       "      <th></th>\n",
       "      <th></th>\n",
       "      <th></th>\n",
       "      <th></th>\n",
       "      <th></th>\n",
       "      <th></th>\n",
       "      <th></th>\n",
       "      <th></th>\n",
       "      <th></th>\n",
       "      <th></th>\n",
       "      <th></th>\n",
       "      <th></th>\n",
       "      <th></th>\n",
       "    </tr>\n",
       "  </thead>\n",
       "  <tbody>\n",
       "    <tr>\n",
       "      <th>Divorced/Widow no dependents</th>\n",
       "      <td>0.086701</td>\n",
       "      <td>0.082590</td>\n",
       "      <td>0.085415</td>\n",
       "      <td>0.085590</td>\n",
       "      <td>0.081997</td>\n",
       "      <td>0.085214</td>\n",
       "      <td>0.085882</td>\n",
       "      <td>0.086235</td>\n",
       "      <td>0.085449</td>\n",
       "      <td>0.079998</td>\n",
       "      <td>...</td>\n",
       "      <td>0.085392</td>\n",
       "      <td>0.085203</td>\n",
       "      <td>0.084356</td>\n",
       "      <td>0.083263</td>\n",
       "      <td>0.085491</td>\n",
       "      <td>0.083511</td>\n",
       "      <td>0.083703</td>\n",
       "      <td>0.085397</td>\n",
       "      <td>0.086418</td>\n",
       "      <td>0.078187</td>\n",
       "    </tr>\n",
       "    <tr>\n",
       "      <th>Friends/Siblings with dependents</th>\n",
       "      <td>0.048542</td>\n",
       "      <td>0.052745</td>\n",
       "      <td>0.047897</td>\n",
       "      <td>0.047420</td>\n",
       "      <td>0.057935</td>\n",
       "      <td>0.048416</td>\n",
       "      <td>0.046311</td>\n",
       "      <td>0.057361</td>\n",
       "      <td>0.048097</td>\n",
       "      <td>0.048818</td>\n",
       "      <td>...</td>\n",
       "      <td>0.047933</td>\n",
       "      <td>0.048154</td>\n",
       "      <td>0.049486</td>\n",
       "      <td>0.047899</td>\n",
       "      <td>0.048329</td>\n",
       "      <td>0.047651</td>\n",
       "      <td>0.047226</td>\n",
       "      <td>0.047466</td>\n",
       "      <td>0.047935</td>\n",
       "      <td>0.051214</td>\n",
       "    </tr>\n",
       "    <tr>\n",
       "      <th>Married with dependents</th>\n",
       "      <td>0.701969</td>\n",
       "      <td>0.694022</td>\n",
       "      <td>0.701043</td>\n",
       "      <td>0.701961</td>\n",
       "      <td>0.687430</td>\n",
       "      <td>0.699775</td>\n",
       "      <td>0.702769</td>\n",
       "      <td>0.689018</td>\n",
       "      <td>0.703409</td>\n",
       "      <td>0.712027</td>\n",
       "      <td>...</td>\n",
       "      <td>0.706242</td>\n",
       "      <td>0.702840</td>\n",
       "      <td>0.702422</td>\n",
       "      <td>0.704076</td>\n",
       "      <td>0.701656</td>\n",
       "      <td>0.707502</td>\n",
       "      <td>0.700996</td>\n",
       "      <td>0.702955</td>\n",
       "      <td>0.699651</td>\n",
       "      <td>0.702754</td>\n",
       "    </tr>\n",
       "    <tr>\n",
       "      <th>Single no dependents</th>\n",
       "      <td>0.162787</td>\n",
       "      <td>0.170643</td>\n",
       "      <td>0.165645</td>\n",
       "      <td>0.165029</td>\n",
       "      <td>0.172637</td>\n",
       "      <td>0.166596</td>\n",
       "      <td>0.165038</td>\n",
       "      <td>0.167387</td>\n",
       "      <td>0.163045</td>\n",
       "      <td>0.159158</td>\n",
       "      <td>...</td>\n",
       "      <td>0.160433</td>\n",
       "      <td>0.163803</td>\n",
       "      <td>0.163736</td>\n",
       "      <td>0.164763</td>\n",
       "      <td>0.164525</td>\n",
       "      <td>0.161336</td>\n",
       "      <td>0.168076</td>\n",
       "      <td>0.164182</td>\n",
       "      <td>0.165997</td>\n",
       "      <td>0.167845</td>\n",
       "    </tr>\n",
       "  </tbody>\n",
       "</table>\n",
       "<p>4 rows × 21 columns</p>\n",
       "</div>"
      ],
      "text/plain": [
       "department_id                           1         2         3         4   \\\n",
       "marital_dependents                                                         \n",
       "Divorced/Widow no dependents      0.086701  0.082590  0.085415  0.085590   \n",
       "Friends/Siblings with dependents  0.048542  0.052745  0.047897  0.047420   \n",
       "Married with dependents           0.701969  0.694022  0.701043  0.701961   \n",
       "Single no dependents              0.162787  0.170643  0.165645  0.165029   \n",
       "\n",
       "department_id                           5         6         7         8   \\\n",
       "marital_dependents                                                         \n",
       "Divorced/Widow no dependents      0.081997  0.085214  0.085882  0.086235   \n",
       "Friends/Siblings with dependents  0.057935  0.048416  0.046311  0.057361   \n",
       "Married with dependents           0.687430  0.699775  0.702769  0.689018   \n",
       "Single no dependents              0.172637  0.166596  0.165038  0.167387   \n",
       "\n",
       "department_id                           9         10  ...        12        13  \\\n",
       "marital_dependents                                    ...                       \n",
       "Divorced/Widow no dependents      0.085449  0.079998  ...  0.085392  0.085203   \n",
       "Friends/Siblings with dependents  0.048097  0.048818  ...  0.047933  0.048154   \n",
       "Married with dependents           0.703409  0.712027  ...  0.706242  0.702840   \n",
       "Single no dependents              0.163045  0.159158  ...  0.160433  0.163803   \n",
       "\n",
       "department_id                           14        15        16        17  \\\n",
       "marital_dependents                                                         \n",
       "Divorced/Widow no dependents      0.084356  0.083263  0.085491  0.083511   \n",
       "Friends/Siblings with dependents  0.049486  0.047899  0.048329  0.047651   \n",
       "Married with dependents           0.702422  0.704076  0.701656  0.707502   \n",
       "Single no dependents              0.163736  0.164763  0.164525  0.161336   \n",
       "\n",
       "department_id                           18        19        20        21  \n",
       "marital_dependents                                                        \n",
       "Divorced/Widow no dependents      0.083703  0.085397  0.086418  0.078187  \n",
       "Friends/Siblings with dependents  0.047226  0.047466  0.047935  0.051214  \n",
       "Married with dependents           0.700996  0.702955  0.699651  0.702754  \n",
       "Single no dependents              0.168076  0.164182  0.165997  0.167845  \n",
       "\n",
       "[4 rows x 21 columns]"
      ]
     },
     "execution_count": 83,
     "metadata": {},
     "output_type": "execute_result"
    }
   ],
   "source": [
    "marital_dependent_dept_cross"
   ]
  },
  {
   "cell_type": "markdown",
   "id": "0c856c11",
   "metadata": {},
   "source": [
    "#### 'Married with dependents' dominates by region at 70% followed by 'Single no dependents' with 16% of sales\n",
    "#### Across regions, each category shows very little variance for each marital_dependents group."
   ]
  },
  {
   "cell_type": "code",
   "execution_count": 84,
   "id": "6294d9da",
   "metadata": {},
   "outputs": [],
   "source": [
    "# Copy marital_dependent_cross to clipboard to paste to Excel\n",
    "marital_dependent_dept_cross.to_clipboard()"
   ]
  },
  {
   "cell_type": "markdown",
   "id": "7bec70db",
   "metadata": {},
   "source": [
    "### Marital / Dependents (marital_dependent) vs Department (department_id) plot"
   ]
  },
  {
   "cell_type": "code",
   "execution_count": 138,
   "id": "c91143f3",
   "metadata": {},
   "outputs": [
    {
     "data": {
      "image/png": "[encoded data removed]",
      "text/plain": [
       "<Figure size 640x480 with 1 Axes>"
      ]
     },
     "metadata": {},
     "output_type": "display_data"
    }
   ],
   "source": [
    "# Marital status / dependents by department\n",
    "marital_dependent_dept_cross_bar = marital_dependent_dept_cross.plot.barh(rot=0, legend=None)"
   ]
  },
  {
   "cell_type": "code",
   "execution_count": 139,
   "id": "924f0181",
   "metadata": {},
   "outputs": [],
   "source": [
    "# Save bar chart as png\n",
    "marital_dependent_dept_cross_bar.figure.savefig(os.path.join(path, '04 Analysis', 'Visualizations', 'marital_dependent_dept_cross_bar.png'))"
   ]
  },
  {
   "cell_type": "markdown",
   "id": "18499719",
   "metadata": {},
   "source": [
    "### Cross - Income (income_category) vs Department (department_id)"
   ]
  },
  {
   "cell_type": "code",
   "execution_count": 85,
   "id": "1355c36f",
   "metadata": {},
   "outputs": [],
   "source": [
    "# Create a crosstab - 'marital_dependents' and 'region', with column percentages\n",
    "income_dept_cross = pd.crosstab(df_ords_prods_high_act_cust['income_category'], df_ords_prods_high_act_cust['department_id'], normalize = 'columns')"
   ]
  },
  {
   "cell_type": "code",
   "execution_count": 91,
   "id": "fbbc9cfe",
   "metadata": {},
   "outputs": [
    {
     "data": {
      "text/html": [
       "<div>\n",
       "<style scoped>\n",
       "    .dataframe tbody tr th:only-of-type {\n",
       "        vertical-align: middle;\n",
       "    }\n",
       "\n",
       "    .dataframe tbody tr th {\n",
       "        vertical-align: top;\n",
       "    }\n",
       "\n",
       "    .dataframe thead th {\n",
       "        text-align: right;\n",
       "    }\n",
       "</style>\n",
       "<table border=\"1\" class=\"dataframe\">\n",
       "  <thead>\n",
       "    <tr style=\"text-align: right;\">\n",
       "      <th>department_id</th>\n",
       "      <th>1</th>\n",
       "      <th>2</th>\n",
       "      <th>3</th>\n",
       "      <th>4</th>\n",
       "      <th>5</th>\n",
       "      <th>6</th>\n",
       "      <th>7</th>\n",
       "      <th>8</th>\n",
       "      <th>9</th>\n",
       "      <th>10</th>\n",
       "      <th>...</th>\n",
       "      <th>12</th>\n",
       "      <th>13</th>\n",
       "      <th>14</th>\n",
       "      <th>15</th>\n",
       "      <th>16</th>\n",
       "      <th>17</th>\n",
       "      <th>18</th>\n",
       "      <th>19</th>\n",
       "      <th>20</th>\n",
       "      <th>21</th>\n",
       "    </tr>\n",
       "    <tr>\n",
       "      <th>income_category</th>\n",
       "      <th></th>\n",
       "      <th></th>\n",
       "      <th></th>\n",
       "      <th></th>\n",
       "      <th></th>\n",
       "      <th></th>\n",
       "      <th></th>\n",
       "      <th></th>\n",
       "      <th></th>\n",
       "      <th></th>\n",
       "      <th></th>\n",
       "      <th></th>\n",
       "      <th></th>\n",
       "      <th></th>\n",
       "      <th></th>\n",
       "      <th></th>\n",
       "      <th></th>\n",
       "      <th></th>\n",
       "      <th></th>\n",
       "      <th></th>\n",
       "      <th></th>\n",
       "    </tr>\n",
       "  </thead>\n",
       "  <tbody>\n",
       "    <tr>\n",
       "      <th>High Medium income</th>\n",
       "      <td>0.007826</td>\n",
       "      <td>0.011828</td>\n",
       "      <td>0.009403</td>\n",
       "      <td>0.004388</td>\n",
       "      <td>0.032311</td>\n",
       "      <td>0.006254</td>\n",
       "      <td>0.007859</td>\n",
       "      <td>0.015603</td>\n",
       "      <td>0.006713</td>\n",
       "      <td>0.000688</td>\n",
       "      <td>...</td>\n",
       "      <td>0.007511</td>\n",
       "      <td>0.007288</td>\n",
       "      <td>0.008131</td>\n",
       "      <td>0.007145</td>\n",
       "      <td>0.007019</td>\n",
       "      <td>0.013096</td>\n",
       "      <td>0.004159</td>\n",
       "      <td>0.006746</td>\n",
       "      <td>0.006033</td>\n",
       "      <td>0.004153</td>\n",
       "    </tr>\n",
       "    <tr>\n",
       "      <th>High income</th>\n",
       "      <td>0.001531</td>\n",
       "      <td>0.001860</td>\n",
       "      <td>0.001842</td>\n",
       "      <td>0.001052</td>\n",
       "      <td>0.010053</td>\n",
       "      <td>0.001703</td>\n",
       "      <td>0.001730</td>\n",
       "      <td>0.004631</td>\n",
       "      <td>0.001659</td>\n",
       "      <td>0.000120</td>\n",
       "      <td>...</td>\n",
       "      <td>0.001617</td>\n",
       "      <td>0.001618</td>\n",
       "      <td>0.001601</td>\n",
       "      <td>0.001836</td>\n",
       "      <td>0.001539</td>\n",
       "      <td>0.003374</td>\n",
       "      <td>0.000967</td>\n",
       "      <td>0.001550</td>\n",
       "      <td>0.001247</td>\n",
       "      <td>0.000741</td>\n",
       "    </tr>\n",
       "    <tr>\n",
       "      <th>Low Medium income</th>\n",
       "      <td>0.679547</td>\n",
       "      <td>0.668391</td>\n",
       "      <td>0.684096</td>\n",
       "      <td>0.688579</td>\n",
       "      <td>0.649422</td>\n",
       "      <td>0.694079</td>\n",
       "      <td>0.636047</td>\n",
       "      <td>0.677692</td>\n",
       "      <td>0.699984</td>\n",
       "      <td>0.642671</td>\n",
       "      <td>...</td>\n",
       "      <td>0.727549</td>\n",
       "      <td>0.686237</td>\n",
       "      <td>0.642859</td>\n",
       "      <td>0.699410</td>\n",
       "      <td>0.682268</td>\n",
       "      <td>0.653989</td>\n",
       "      <td>0.715177</td>\n",
       "      <td>0.582583</td>\n",
       "      <td>0.675123</td>\n",
       "      <td>0.673882</td>\n",
       "    </tr>\n",
       "    <tr>\n",
       "      <th>Lower income</th>\n",
       "      <td>0.311096</td>\n",
       "      <td>0.317922</td>\n",
       "      <td>0.304659</td>\n",
       "      <td>0.305980</td>\n",
       "      <td>0.308214</td>\n",
       "      <td>0.297964</td>\n",
       "      <td>0.354364</td>\n",
       "      <td>0.302074</td>\n",
       "      <td>0.291644</td>\n",
       "      <td>0.356521</td>\n",
       "      <td>...</td>\n",
       "      <td>0.263324</td>\n",
       "      <td>0.304858</td>\n",
       "      <td>0.347409</td>\n",
       "      <td>0.291609</td>\n",
       "      <td>0.309173</td>\n",
       "      <td>0.329542</td>\n",
       "      <td>0.279696</td>\n",
       "      <td>0.409120</td>\n",
       "      <td>0.317597</td>\n",
       "      <td>0.321223</td>\n",
       "    </tr>\n",
       "  </tbody>\n",
       "</table>\n",
       "<p>4 rows × 21 columns</p>\n",
       "</div>"
      ],
      "text/plain": [
       "department_id             1         2         3         4         5   \\\n",
       "income_category                                                        \n",
       "High Medium income  0.007826  0.011828  0.009403  0.004388  0.032311   \n",
       "High income         0.001531  0.001860  0.001842  0.001052  0.010053   \n",
       "Low Medium income   0.679547  0.668391  0.684096  0.688579  0.649422   \n",
       "Lower income        0.311096  0.317922  0.304659  0.305980  0.308214   \n",
       "\n",
       "department_id             6         7         8         9         10  ...  \\\n",
       "income_category                                                       ...   \n",
       "High Medium income  0.006254  0.007859  0.015603  0.006713  0.000688  ...   \n",
       "High income         0.001703  0.001730  0.004631  0.001659  0.000120  ...   \n",
       "Low Medium income   0.694079  0.636047  0.677692  0.699984  0.642671  ...   \n",
       "Lower income        0.297964  0.354364  0.302074  0.291644  0.356521  ...   \n",
       "\n",
       "department_id             12        13        14        15        16  \\\n",
       "income_category                                                        \n",
       "High Medium income  0.007511  0.007288  0.008131  0.007145  0.007019   \n",
       "High income         0.001617  0.001618  0.001601  0.001836  0.001539   \n",
       "Low Medium income   0.727549  0.686237  0.642859  0.699410  0.682268   \n",
       "Lower income        0.263324  0.304858  0.347409  0.291609  0.309173   \n",
       "\n",
       "department_id             17        18        19        20        21  \n",
       "income_category                                                       \n",
       "High Medium income  0.013096  0.004159  0.006746  0.006033  0.004153  \n",
       "High income         0.003374  0.000967  0.001550  0.001247  0.000741  \n",
       "Low Medium income   0.653989  0.715177  0.582583  0.675123  0.673882  \n",
       "Lower income        0.329542  0.279696  0.409120  0.317597  0.321223  \n",
       "\n",
       "[4 rows x 21 columns]"
      ]
     },
     "execution_count": 91,
     "metadata": {},
     "output_type": "execute_result"
    }
   ],
   "source": [
    "income_dept_cross"
   ]
  },
  {
   "cell_type": "markdown",
   "id": "72a43165",
   "metadata": {},
   "source": [
    "#### 'Low Medium income' (75k-200k) dominates our customer with 67% followed by 'Lower income' (<75k) with 32% of our customers\n",
    "#### 'High income' (>400k) and 'High Medium income' (200k-400k) are not strongly represented in our customers"
   ]
  },
  {
   "cell_type": "code",
   "execution_count": 87,
   "id": "6f184008",
   "metadata": {},
   "outputs": [],
   "source": [
    "# Copy income_category_cross to clipboard to paste to Excel\n",
    "income_category_cross.to_clipboard()"
   ]
  },
  {
   "cell_type": "markdown",
   "id": "b8313613",
   "metadata": {},
   "source": [
    "### Income (income_category) vs Department (department_id) plot"
   ]
  },
  {
   "cell_type": "code",
   "execution_count": 140,
   "id": "14b882f9",
   "metadata": {},
   "outputs": [
    {
     "data": {
      "image/png": "[encoded data removed]",
      "text/plain": [
       "<Figure size 640x480 with 1 Axes>"
      ]
     },
     "metadata": {},
     "output_type": "display_data"
    }
   ],
   "source": [
    "# Marital status / dependents by department\n",
    "income_dept_cross_bar = income_dept_cross.plot.barh(rot=0, legend=None)"
   ]
  },
  {
   "cell_type": "code",
   "execution_count": 141,
   "id": "6884cbc7",
   "metadata": {},
   "outputs": [],
   "source": [
    "# Save bar chart as png\n",
    "income_dept_cross_bar.figure.savefig(os.path.join(path, '04 Analysis', 'Visualizations', 'income_dept_cross_bar.png'))"
   ]
  },
  {
   "cell_type": "markdown",
   "id": "d7e0ae60",
   "metadata": {},
   "source": [
    "### Cross - Department (department_id) vs Department (department_id)"
   ]
  },
  {
   "cell_type": "markdown",
   "id": "c308a488",
   "metadata": {},
   "source": [
    "#### Although department was a profile listed above, a cross with itself will yield no usable statistics so it will be omitted."
   ]
  },
  {
   "cell_type": "markdown",
   "id": "574608ed",
   "metadata": {},
   "source": [
    "### Cross - Region (region_of_state) vs Department (department_id)"
   ]
  },
  {
   "cell_type": "code",
   "execution_count": 61,
   "id": "710cb121",
   "metadata": {},
   "outputs": [],
   "source": [
    "# Create a crosstab - 'marital_dependents' and 'region', with column percentages\n",
    "region_dept_cross = pd.crosstab(df_ords_prods_high_act_cust['region_of_state'], df_ords_prods_high_act_cust['department_id'], normalize = 'columns')"
   ]
  },
  {
   "cell_type": "code",
   "execution_count": 62,
   "id": "4644f034",
   "metadata": {},
   "outputs": [
    {
     "data": {
      "text/html": [
       "<div>\n",
       "<style scoped>\n",
       "    .dataframe tbody tr th:only-of-type {\n",
       "        vertical-align: middle;\n",
       "    }\n",
       "\n",
       "    .dataframe tbody tr th {\n",
       "        vertical-align: top;\n",
       "    }\n",
       "\n",
       "    .dataframe thead th {\n",
       "        text-align: right;\n",
       "    }\n",
       "</style>\n",
       "<table border=\"1\" class=\"dataframe\">\n",
       "  <thead>\n",
       "    <tr style=\"text-align: right;\">\n",
       "      <th>department_id</th>\n",
       "      <th>1</th>\n",
       "      <th>2</th>\n",
       "      <th>3</th>\n",
       "      <th>4</th>\n",
       "      <th>5</th>\n",
       "      <th>6</th>\n",
       "      <th>7</th>\n",
       "      <th>8</th>\n",
       "      <th>9</th>\n",
       "      <th>10</th>\n",
       "      <th>...</th>\n",
       "      <th>12</th>\n",
       "      <th>13</th>\n",
       "      <th>14</th>\n",
       "      <th>15</th>\n",
       "      <th>16</th>\n",
       "      <th>17</th>\n",
       "      <th>18</th>\n",
       "      <th>19</th>\n",
       "      <th>20</th>\n",
       "      <th>21</th>\n",
       "    </tr>\n",
       "    <tr>\n",
       "      <th>region_of_state</th>\n",
       "      <th></th>\n",
       "      <th></th>\n",
       "      <th></th>\n",
       "      <th></th>\n",
       "      <th></th>\n",
       "      <th></th>\n",
       "      <th></th>\n",
       "      <th></th>\n",
       "      <th></th>\n",
       "      <th></th>\n",
       "      <th></th>\n",
       "      <th></th>\n",
       "      <th></th>\n",
       "      <th></th>\n",
       "      <th></th>\n",
       "      <th></th>\n",
       "      <th></th>\n",
       "      <th></th>\n",
       "      <th></th>\n",
       "      <th></th>\n",
       "      <th></th>\n",
       "    </tr>\n",
       "  </thead>\n",
       "  <tbody>\n",
       "    <tr>\n",
       "      <th>Region1 (Northeast)</th>\n",
       "      <td>0.174591</td>\n",
       "      <td>0.182151</td>\n",
       "      <td>0.177815</td>\n",
       "      <td>0.175455</td>\n",
       "      <td>0.172976</td>\n",
       "      <td>0.174530</td>\n",
       "      <td>0.179995</td>\n",
       "      <td>0.190565</td>\n",
       "      <td>0.174931</td>\n",
       "      <td>0.167379</td>\n",
       "      <td>...</td>\n",
       "      <td>0.175718</td>\n",
       "      <td>0.175425</td>\n",
       "      <td>0.175753</td>\n",
       "      <td>0.174825</td>\n",
       "      <td>0.176663</td>\n",
       "      <td>0.178042</td>\n",
       "      <td>0.177177</td>\n",
       "      <td>0.178265</td>\n",
       "      <td>0.177717</td>\n",
       "      <td>0.177742</td>\n",
       "    </tr>\n",
       "    <tr>\n",
       "      <th>Region2 (Midwest)</th>\n",
       "      <td>0.234820</td>\n",
       "      <td>0.231990</td>\n",
       "      <td>0.233535</td>\n",
       "      <td>0.235054</td>\n",
       "      <td>0.235385</td>\n",
       "      <td>0.236985</td>\n",
       "      <td>0.232893</td>\n",
       "      <td>0.229508</td>\n",
       "      <td>0.235318</td>\n",
       "      <td>0.237033</td>\n",
       "      <td>...</td>\n",
       "      <td>0.234535</td>\n",
       "      <td>0.235784</td>\n",
       "      <td>0.232772</td>\n",
       "      <td>0.234626</td>\n",
       "      <td>0.234199</td>\n",
       "      <td>0.238609</td>\n",
       "      <td>0.233292</td>\n",
       "      <td>0.233206</td>\n",
       "      <td>0.233568</td>\n",
       "      <td>0.240288</td>\n",
       "    </tr>\n",
       "    <tr>\n",
       "      <th>Region3 (South)</th>\n",
       "      <td>0.334588</td>\n",
       "      <td>0.336491</td>\n",
       "      <td>0.331558</td>\n",
       "      <td>0.333449</td>\n",
       "      <td>0.337510</td>\n",
       "      <td>0.330672</td>\n",
       "      <td>0.334157</td>\n",
       "      <td>0.321395</td>\n",
       "      <td>0.331834</td>\n",
       "      <td>0.334220</td>\n",
       "      <td>...</td>\n",
       "      <td>0.332137</td>\n",
       "      <td>0.331942</td>\n",
       "      <td>0.332670</td>\n",
       "      <td>0.333432</td>\n",
       "      <td>0.332810</td>\n",
       "      <td>0.328726</td>\n",
       "      <td>0.339946</td>\n",
       "      <td>0.331397</td>\n",
       "      <td>0.332346</td>\n",
       "      <td>0.336385</td>\n",
       "    </tr>\n",
       "    <tr>\n",
       "      <th>Region4 (West)</th>\n",
       "      <td>0.256000</td>\n",
       "      <td>0.249368</td>\n",
       "      <td>0.257091</td>\n",
       "      <td>0.256042</td>\n",
       "      <td>0.254130</td>\n",
       "      <td>0.257814</td>\n",
       "      <td>0.252955</td>\n",
       "      <td>0.258532</td>\n",
       "      <td>0.257917</td>\n",
       "      <td>0.261367</td>\n",
       "      <td>...</td>\n",
       "      <td>0.257610</td>\n",
       "      <td>0.256849</td>\n",
       "      <td>0.258805</td>\n",
       "      <td>0.257117</td>\n",
       "      <td>0.256329</td>\n",
       "      <td>0.254623</td>\n",
       "      <td>0.249586</td>\n",
       "      <td>0.257131</td>\n",
       "      <td>0.256369</td>\n",
       "      <td>0.245584</td>\n",
       "    </tr>\n",
       "  </tbody>\n",
       "</table>\n",
       "<p>4 rows × 21 columns</p>\n",
       "</div>"
      ],
      "text/plain": [
       "department_id              1         2         3         4         5   \\\n",
       "region_of_state                                                         \n",
       "Region1 (Northeast)  0.174591  0.182151  0.177815  0.175455  0.172976   \n",
       "Region2 (Midwest)    0.234820  0.231990  0.233535  0.235054  0.235385   \n",
       "Region3 (South)      0.334588  0.336491  0.331558  0.333449  0.337510   \n",
       "Region4 (West)       0.256000  0.249368  0.257091  0.256042  0.254130   \n",
       "\n",
       "department_id              6         7         8         9         10  ...  \\\n",
       "region_of_state                                                        ...   \n",
       "Region1 (Northeast)  0.174530  0.179995  0.190565  0.174931  0.167379  ...   \n",
       "Region2 (Midwest)    0.236985  0.232893  0.229508  0.235318  0.237033  ...   \n",
       "Region3 (South)      0.330672  0.334157  0.321395  0.331834  0.334220  ...   \n",
       "Region4 (West)       0.257814  0.252955  0.258532  0.257917  0.261367  ...   \n",
       "\n",
       "department_id              12        13        14        15        16  \\\n",
       "region_of_state                                                         \n",
       "Region1 (Northeast)  0.175718  0.175425  0.175753  0.174825  0.176663   \n",
       "Region2 (Midwest)    0.234535  0.235784  0.232772  0.234626  0.234199   \n",
       "Region3 (South)      0.332137  0.331942  0.332670  0.333432  0.332810   \n",
       "Region4 (West)       0.257610  0.256849  0.258805  0.257117  0.256329   \n",
       "\n",
       "department_id              17        18        19        20        21  \n",
       "region_of_state                                                        \n",
       "Region1 (Northeast)  0.178042  0.177177  0.178265  0.177717  0.177742  \n",
       "Region2 (Midwest)    0.238609  0.233292  0.233206  0.233568  0.240288  \n",
       "Region3 (South)      0.328726  0.339946  0.331397  0.332346  0.336385  \n",
       "Region4 (West)       0.254623  0.249586  0.257131  0.256369  0.245584  \n",
       "\n",
       "[4 rows x 21 columns]"
      ]
     },
     "execution_count": 62,
     "metadata": {},
     "output_type": "execute_result"
    }
   ],
   "source": [
    "region_dept_cross"
   ]
  },
  {
   "cell_type": "markdown",
   "id": "dad1b665",
   "metadata": {},
   "source": [
    "#### Sales across departments within each region remain relatively consistent\n",
    "#### Sales across regions shows different activity\n",
    "#### Region3 South ~ 34%\n",
    "#### Region4 West and Region2 Midwest ~ 25%\n",
    "#### Region1 Northeast ~ 17%"
   ]
  },
  {
   "cell_type": "code",
   "execution_count": 90,
   "id": "dd086df4",
   "metadata": {},
   "outputs": [],
   "source": [
    "# Copy income_category_cross to clipboard to paste to Excel\n",
    "region_dept_cross.to_clipboard()"
   ]
  },
  {
   "cell_type": "markdown",
   "id": "f746af82",
   "metadata": {},
   "source": [
    "### Region (region_of_state) vs Department (department_id) plot"
   ]
  },
  {
   "cell_type": "code",
   "execution_count": 63,
   "id": "730aeb91",
   "metadata": {},
   "outputs": [
    {
     "data": {
      "image/png": "[encoded data removed]",
      "text/plain": [
       "<Figure size 640x480 with 1 Axes>"
      ]
     },
     "metadata": {},
     "output_type": "display_data"
    }
   ],
   "source": [
    "# Region by department\n",
    "region_dept_cross_bar = region_dept_cross.plot.barh(rot=0, legend=None)"
   ]
  },
  {
   "cell_type": "code",
   "execution_count": 64,
   "id": "3a02d248",
   "metadata": {},
   "outputs": [],
   "source": [
    "# Save bar chart as png\n",
    "region_dept_cross_bar.figure.savefig(os.path.join(path, '04 Analysis', 'Visualizations', 'region_dept_cross_bar.png'))"
   ]
  },
  {
   "cell_type": "markdown",
   "id": "8a2c8012",
   "metadata": {},
   "source": [
    "## Additional cross comparisons"
   ]
  },
  {
   "cell_type": "markdown",
   "id": "2e0ac225",
   "metadata": {},
   "source": [
    "### Cross - Loyalty (loyalty_flag) and Age category (age_category)"
   ]
  },
  {
   "cell_type": "code",
   "execution_count": 45,
   "id": "f30f0257",
   "metadata": {},
   "outputs": [],
   "source": [
    "# Create a crosstab - 'loyalty' and 'age', with column percentages\n",
    "loyalty_age_cross = pd.crosstab(df_ords_prods_high_act_cust['loyalty_flag'], df_ords_prods_high_act_cust['age_category'], normalize = 'columns')"
   ]
  },
  {
   "cell_type": "code",
   "execution_count": 35,
   "id": "f73300b8",
   "metadata": {},
   "outputs": [
    {
     "data": {
      "text/html": [
       "<div>\n",
       "<style scoped>\n",
       "    .dataframe tbody tr th:only-of-type {\n",
       "        vertical-align: middle;\n",
       "    }\n",
       "\n",
       "    .dataframe tbody tr th {\n",
       "        vertical-align: top;\n",
       "    }\n",
       "\n",
       "    .dataframe thead th {\n",
       "        text-align: right;\n",
       "    }\n",
       "</style>\n",
       "<table border=\"1\" class=\"dataframe\">\n",
       "  <thead>\n",
       "    <tr style=\"text-align: right;\">\n",
       "      <th>age</th>\n",
       "      <th>18</th>\n",
       "      <th>19</th>\n",
       "      <th>20</th>\n",
       "      <th>21</th>\n",
       "      <th>22</th>\n",
       "      <th>23</th>\n",
       "      <th>24</th>\n",
       "      <th>25</th>\n",
       "      <th>26</th>\n",
       "      <th>27</th>\n",
       "      <th>...</th>\n",
       "      <th>72</th>\n",
       "      <th>73</th>\n",
       "      <th>74</th>\n",
       "      <th>75</th>\n",
       "      <th>76</th>\n",
       "      <th>77</th>\n",
       "      <th>78</th>\n",
       "      <th>79</th>\n",
       "      <th>80</th>\n",
       "      <th>81</th>\n",
       "    </tr>\n",
       "    <tr>\n",
       "      <th>loyalty_flag</th>\n",
       "      <th></th>\n",
       "      <th></th>\n",
       "      <th></th>\n",
       "      <th></th>\n",
       "      <th></th>\n",
       "      <th></th>\n",
       "      <th></th>\n",
       "      <th></th>\n",
       "      <th></th>\n",
       "      <th></th>\n",
       "      <th></th>\n",
       "      <th></th>\n",
       "      <th></th>\n",
       "      <th></th>\n",
       "      <th></th>\n",
       "      <th></th>\n",
       "      <th></th>\n",
       "      <th></th>\n",
       "      <th></th>\n",
       "      <th></th>\n",
       "      <th></th>\n",
       "    </tr>\n",
       "  </thead>\n",
       "  <tbody>\n",
       "    <tr>\n",
       "      <th>Loyal customer</th>\n",
       "      <td>0.318444</td>\n",
       "      <td>0.332015</td>\n",
       "      <td>0.310943</td>\n",
       "      <td>0.356267</td>\n",
       "      <td>0.362960</td>\n",
       "      <td>0.348925</td>\n",
       "      <td>0.313377</td>\n",
       "      <td>0.304611</td>\n",
       "      <td>0.318783</td>\n",
       "      <td>0.33522</td>\n",
       "      <td>...</td>\n",
       "      <td>0.322809</td>\n",
       "      <td>0.347040</td>\n",
       "      <td>0.321933</td>\n",
       "      <td>0.356073</td>\n",
       "      <td>0.307551</td>\n",
       "      <td>0.312291</td>\n",
       "      <td>0.315661</td>\n",
       "      <td>0.348946</td>\n",
       "      <td>0.361100</td>\n",
       "      <td>0.324034</td>\n",
       "    </tr>\n",
       "    <tr>\n",
       "      <th>New customer</th>\n",
       "      <td>0.160443</td>\n",
       "      <td>0.148263</td>\n",
       "      <td>0.158528</td>\n",
       "      <td>0.150750</td>\n",
       "      <td>0.147254</td>\n",
       "      <td>0.153821</td>\n",
       "      <td>0.161620</td>\n",
       "      <td>0.161979</td>\n",
       "      <td>0.154624</td>\n",
       "      <td>0.15219</td>\n",
       "      <td>...</td>\n",
       "      <td>0.157136</td>\n",
       "      <td>0.154567</td>\n",
       "      <td>0.159642</td>\n",
       "      <td>0.157172</td>\n",
       "      <td>0.153087</td>\n",
       "      <td>0.168249</td>\n",
       "      <td>0.155655</td>\n",
       "      <td>0.146590</td>\n",
       "      <td>0.144759</td>\n",
       "      <td>0.157255</td>\n",
       "    </tr>\n",
       "    <tr>\n",
       "      <th>Regular customer</th>\n",
       "      <td>0.521113</td>\n",
       "      <td>0.519722</td>\n",
       "      <td>0.530529</td>\n",
       "      <td>0.492983</td>\n",
       "      <td>0.489785</td>\n",
       "      <td>0.497254</td>\n",
       "      <td>0.525004</td>\n",
       "      <td>0.533410</td>\n",
       "      <td>0.526594</td>\n",
       "      <td>0.51259</td>\n",
       "      <td>...</td>\n",
       "      <td>0.520055</td>\n",
       "      <td>0.498393</td>\n",
       "      <td>0.518425</td>\n",
       "      <td>0.486755</td>\n",
       "      <td>0.539361</td>\n",
       "      <td>0.519459</td>\n",
       "      <td>0.528684</td>\n",
       "      <td>0.504465</td>\n",
       "      <td>0.494141</td>\n",
       "      <td>0.518711</td>\n",
       "    </tr>\n",
       "  </tbody>\n",
       "</table>\n",
       "<p>3 rows × 64 columns</p>\n",
       "</div>"
      ],
      "text/plain": [
       "age                     18        19        20        21        22        23  \\\n",
       "loyalty_flag                                                                   \n",
       "Loyal customer    0.318444  0.332015  0.310943  0.356267  0.362960  0.348925   \n",
       "New customer      0.160443  0.148263  0.158528  0.150750  0.147254  0.153821   \n",
       "Regular customer  0.521113  0.519722  0.530529  0.492983  0.489785  0.497254   \n",
       "\n",
       "age                     24        25        26       27  ...        72  \\\n",
       "loyalty_flag                                             ...             \n",
       "Loyal customer    0.313377  0.304611  0.318783  0.33522  ...  0.322809   \n",
       "New customer      0.161620  0.161979  0.154624  0.15219  ...  0.157136   \n",
       "Regular customer  0.525004  0.533410  0.526594  0.51259  ...  0.520055   \n",
       "\n",
       "age                     73        74        75        76        77        78  \\\n",
       "loyalty_flag                                                                   \n",
       "Loyal customer    0.347040  0.321933  0.356073  0.307551  0.312291  0.315661   \n",
       "New customer      0.154567  0.159642  0.157172  0.153087  0.168249  0.155655   \n",
       "Regular customer  0.498393  0.518425  0.486755  0.539361  0.519459  0.528684   \n",
       "\n",
       "age                     79        80        81  \n",
       "loyalty_flag                                    \n",
       "Loyal customer    0.348946  0.361100  0.324034  \n",
       "New customer      0.146590  0.144759  0.157255  \n",
       "Regular customer  0.504465  0.494141  0.518711  \n",
       "\n",
       "[3 rows x 64 columns]"
      ]
     },
     "execution_count": 35,
     "metadata": {},
     "output_type": "execute_result"
    }
   ],
   "source": [
    "loyalty_age_cross"
   ]
  },
  {
   "cell_type": "markdown",
   "id": "73cadee7",
   "metadata": {},
   "source": [
    "### Loyalty (loyalty_flag) and Age (age)loyalty_age_cross plot"
   ]
  },
  {
   "cell_type": "code",
   "execution_count": 57,
   "id": "c77aa0d3",
   "metadata": {},
   "outputs": [
    {
     "data": {
      "image/png": "[encoded data removed]",
      "text/plain": [
       "<Figure size 640x480 with 1 Axes>"
      ]
     },
     "metadata": {},
     "output_type": "display_data"
    }
   ],
   "source": [
    "# loyalty by age\n",
    "loyalty_age_cross_bar = loyalty_age_cross.plot.bar(rot=0)"
   ]
  },
  {
   "cell_type": "code",
   "execution_count": 58,
   "id": "4ecee033",
   "metadata": {},
   "outputs": [],
   "source": [
    "# Save bar chart as png\n",
    "loyalty_age_cross_bar.figure.savefig(os.path.join(path, '04 Analysis', 'Visualizations', 'loyalty_age_cross_bar.png'))"
   ]
  },
  {
   "cell_type": "markdown",
   "id": "00315a6e",
   "metadata": {},
   "source": [
    "### Cross - Loyalty (loyalty_flag) and Income category (income_category)"
   ]
  },
  {
   "cell_type": "code",
   "execution_count": 42,
   "id": "ad005489",
   "metadata": {},
   "outputs": [],
   "source": [
    "# Create a crosstab - 'loyalty' and 'income', with column percentages\n",
    "loyalty_income_cross = pd.crosstab(df_ords_prods_high_act_cust['loyalty_flag'], df_ords_prods_high_act_cust['income_category'], normalize = 'columns')"
   ]
  },
  {
   "cell_type": "code",
   "execution_count": 43,
   "id": "c5859ed5",
   "metadata": {},
   "outputs": [
    {
     "data": {
      "text/html": [
       "<div>\n",
       "<style scoped>\n",
       "    .dataframe tbody tr th:only-of-type {\n",
       "        vertical-align: middle;\n",
       "    }\n",
       "\n",
       "    .dataframe tbody tr th {\n",
       "        vertical-align: top;\n",
       "    }\n",
       "\n",
       "    .dataframe thead th {\n",
       "        text-align: right;\n",
       "    }\n",
       "</style>\n",
       "<table border=\"1\" class=\"dataframe\">\n",
       "  <thead>\n",
       "    <tr style=\"text-align: right;\">\n",
       "      <th>income_category</th>\n",
       "      <th>High Medium income</th>\n",
       "      <th>High income</th>\n",
       "      <th>Low Medium income</th>\n",
       "      <th>Lower income</th>\n",
       "    </tr>\n",
       "    <tr>\n",
       "      <th>loyalty_flag</th>\n",
       "      <th></th>\n",
       "      <th></th>\n",
       "      <th></th>\n",
       "      <th></th>\n",
       "    </tr>\n",
       "  </thead>\n",
       "  <tbody>\n",
       "    <tr>\n",
       "      <th>Loyal customer</th>\n",
       "      <td>0.400457</td>\n",
       "      <td>0.351392</td>\n",
       "      <td>0.333898</td>\n",
       "      <td>0.326880</td>\n",
       "    </tr>\n",
       "    <tr>\n",
       "      <th>New customer</th>\n",
       "      <td>0.085365</td>\n",
       "      <td>0.081603</td>\n",
       "      <td>0.151395</td>\n",
       "      <td>0.164796</td>\n",
       "    </tr>\n",
       "    <tr>\n",
       "      <th>Regular customer</th>\n",
       "      <td>0.514178</td>\n",
       "      <td>0.567006</td>\n",
       "      <td>0.514707</td>\n",
       "      <td>0.508323</td>\n",
       "    </tr>\n",
       "  </tbody>\n",
       "</table>\n",
       "</div>"
      ],
      "text/plain": [
       "income_category   High Medium income  High income  Low Medium income  \\\n",
       "loyalty_flag                                                           \n",
       "Loyal customer              0.400457     0.351392           0.333898   \n",
       "New customer                0.085365     0.081603           0.151395   \n",
       "Regular customer            0.514178     0.567006           0.514707   \n",
       "\n",
       "income_category   Lower income  \n",
       "loyalty_flag                    \n",
       "Loyal customer        0.326880  \n",
       "New customer          0.164796  \n",
       "Regular customer      0.508323  "
      ]
     },
     "execution_count": 43,
     "metadata": {},
     "output_type": "execute_result"
    }
   ],
   "source": [
    "loyalty_income_cross"
   ]
  },
  {
   "cell_type": "markdown",
   "id": "21c0ad51",
   "metadata": {},
   "source": [
    "### Loyalty (loyalty_flag) and Income (income) plot"
   ]
  },
  {
   "cell_type": "code",
   "execution_count": 68,
   "id": "77320198",
   "metadata": {},
   "outputs": [
    {
     "data": {
      "image/png": "[encoded data removed]",
      "text/plain": [
       "<Figure size 640x480 with 1 Axes>"
      ]
     },
     "metadata": {},
     "output_type": "display_data"
    }
   ],
   "source": [
    "# loyalty by income\n",
    "loyalty_income_cross_bar = loyalty_income_cross.plot.bar(rot=0)"
   ]
  },
  {
   "cell_type": "code",
   "execution_count": 51,
   "id": "7b1f2fa9",
   "metadata": {},
   "outputs": [],
   "source": [
    "# Save bar chart as png\n",
    "loyalty_income_cross_bar.figure.savefig(os.path.join(path, '04 Analysis', 'Visualizations', 'loyalty_income_cross_bar.png'))"
   ]
  },
  {
   "cell_type": "markdown",
   "id": "d236710d",
   "metadata": {},
   "source": [
    "### Cross - Loyalty (loyalty_flag) and Marital / Dependents (marital_dependent)"
   ]
  },
  {
   "cell_type": "code",
   "execution_count": 70,
   "id": "b1da3163",
   "metadata": {},
   "outputs": [],
   "source": [
    "# Create a crosstab - 'loyalty' and 'marital / dependents', with column percentages\n",
    "loyalty_marital_dep_cross = pd.crosstab(df_ords_prods_high_act_cust['loyalty_flag'], df_ords_prods_high_act_cust['marital_dependents'], normalize = 'columns')"
   ]
  },
  {
   "cell_type": "code",
   "execution_count": 71,
   "id": "582ec6c5",
   "metadata": {},
   "outputs": [
    {
     "data": {
      "text/html": [
       "<div>\n",
       "<style scoped>\n",
       "    .dataframe tbody tr th:only-of-type {\n",
       "        vertical-align: middle;\n",
       "    }\n",
       "\n",
       "    .dataframe tbody tr th {\n",
       "        vertical-align: top;\n",
       "    }\n",
       "\n",
       "    .dataframe thead th {\n",
       "        text-align: right;\n",
       "    }\n",
       "</style>\n",
       "<table border=\"1\" class=\"dataframe\">\n",
       "  <thead>\n",
       "    <tr style=\"text-align: right;\">\n",
       "      <th>marital_dependents</th>\n",
       "      <th>Divorced/Widow no dependents</th>\n",
       "      <th>Friends/Siblings with dependents</th>\n",
       "      <th>Married with dependents</th>\n",
       "      <th>Single no dependents</th>\n",
       "    </tr>\n",
       "    <tr>\n",
       "      <th>loyalty_flag</th>\n",
       "      <th></th>\n",
       "      <th></th>\n",
       "      <th></th>\n",
       "      <th></th>\n",
       "    </tr>\n",
       "  </thead>\n",
       "  <tbody>\n",
       "    <tr>\n",
       "      <th>Loyal customer</th>\n",
       "      <td>0.333698</td>\n",
       "      <td>0.332675</td>\n",
       "      <td>0.331245</td>\n",
       "      <td>0.334901</td>\n",
       "    </tr>\n",
       "    <tr>\n",
       "      <th>New customer</th>\n",
       "      <td>0.152643</td>\n",
       "      <td>0.149732</td>\n",
       "      <td>0.155477</td>\n",
       "      <td>0.156541</td>\n",
       "    </tr>\n",
       "    <tr>\n",
       "      <th>Regular customer</th>\n",
       "      <td>0.513659</td>\n",
       "      <td>0.517593</td>\n",
       "      <td>0.513278</td>\n",
       "      <td>0.508558</td>\n",
       "    </tr>\n",
       "  </tbody>\n",
       "</table>\n",
       "</div>"
      ],
      "text/plain": [
       "marital_dependents  Divorced/Widow no dependents  \\\n",
       "loyalty_flag                                       \n",
       "Loyal customer                          0.333698   \n",
       "New customer                            0.152643   \n",
       "Regular customer                        0.513659   \n",
       "\n",
       "marital_dependents  Friends/Siblings with dependents  Married with dependents  \\\n",
       "loyalty_flag                                                                    \n",
       "Loyal customer                              0.332675                 0.331245   \n",
       "New customer                                0.149732                 0.155477   \n",
       "Regular customer                            0.517593                 0.513278   \n",
       "\n",
       "marital_dependents  Single no dependents  \n",
       "loyalty_flag                              \n",
       "Loyal customer                  0.334901  \n",
       "New customer                    0.156541  \n",
       "Regular customer                0.508558  "
      ]
     },
     "execution_count": 71,
     "metadata": {},
     "output_type": "execute_result"
    }
   ],
   "source": [
    "loyalty_marital_dep_cross"
   ]
  },
  {
   "cell_type": "markdown",
   "id": "a68be359",
   "metadata": {},
   "source": [
    " ### Loyalty (loyalty_flag) and Marital / Dependents (marital_dependent) plot"
   ]
  },
  {
   "cell_type": "code",
   "execution_count": 73,
   "id": "ca546386",
   "metadata": {},
   "outputs": [
    {
     "data": {
      "image/png": "[encoded data removed]",
      "text/plain": [
       "<Figure size 640x480 with 1 Axes>"
      ]
     },
     "metadata": {},
     "output_type": "display_data"
    }
   ],
   "source": [
    "# loyalty by marital / dependents\n",
    "loyalty_marital_dep_cross_bar = loyalty_marital_dep_cross.plot.bar(rot=0)"
   ]
  },
  {
   "cell_type": "code",
   "execution_count": 52,
   "id": "d1489f44",
   "metadata": {},
   "outputs": [],
   "source": [
    "# Save bar chart as png\n",
    "loyalty_marital_dep_cross_bar.figure.savefig(os.path.join(path, '04 Analysis', 'Visualizations', 'loyalty_marital_dep_cross_bar.png'))"
   ]
  },
  {
   "cell_type": "markdown",
   "id": "abe8e175",
   "metadata": {},
   "source": [
    "### Cross - Loyalty (loyalty_flag) and Region (region_of_state)"
   ]
  },
  {
   "cell_type": "code",
   "execution_count": 28,
   "id": "8ea34cd1",
   "metadata": {},
   "outputs": [],
   "source": [
    "# Create a crosstab - 'loyalty' and 'region', with column percentages\n",
    "loyalty_region_cross = pd.crosstab(df_ords_prods_high_act_cust['loyalty_flag'], df_ords_prods_high_act_cust['region_of_state'], normalize = 'columns')"
   ]
  },
  {
   "cell_type": "code",
   "execution_count": 29,
   "id": "714320ab",
   "metadata": {},
   "outputs": [
    {
     "data": {
      "text/html": [
       "<div>\n",
       "<style scoped>\n",
       "    .dataframe tbody tr th:only-of-type {\n",
       "        vertical-align: middle;\n",
       "    }\n",
       "\n",
       "    .dataframe tbody tr th {\n",
       "        vertical-align: top;\n",
       "    }\n",
       "\n",
       "    .dataframe thead th {\n",
       "        text-align: right;\n",
       "    }\n",
       "</style>\n",
       "<table border=\"1\" class=\"dataframe\">\n",
       "  <thead>\n",
       "    <tr style=\"text-align: right;\">\n",
       "      <th>region_of_state</th>\n",
       "      <th>Region1 (Northeast)</th>\n",
       "      <th>Region2 (Midwest)</th>\n",
       "      <th>Region3 (South)</th>\n",
       "      <th>Region4 (West)</th>\n",
       "    </tr>\n",
       "    <tr>\n",
       "      <th>loyalty_flag</th>\n",
       "      <th></th>\n",
       "      <th></th>\n",
       "      <th></th>\n",
       "      <th></th>\n",
       "    </tr>\n",
       "  </thead>\n",
       "  <tbody>\n",
       "    <tr>\n",
       "      <th>Loyal customer</th>\n",
       "      <td>0.337034</td>\n",
       "      <td>0.326898</td>\n",
       "      <td>0.330307</td>\n",
       "      <td>0.335892</td>\n",
       "    </tr>\n",
       "    <tr>\n",
       "      <th>New customer</th>\n",
       "      <td>0.154109</td>\n",
       "      <td>0.156546</td>\n",
       "      <td>0.154558</td>\n",
       "      <td>0.155302</td>\n",
       "    </tr>\n",
       "    <tr>\n",
       "      <th>Regular customer</th>\n",
       "      <td>0.508857</td>\n",
       "      <td>0.516556</td>\n",
       "      <td>0.515135</td>\n",
       "      <td>0.508806</td>\n",
       "    </tr>\n",
       "  </tbody>\n",
       "</table>\n",
       "</div>"
      ],
      "text/plain": [
       "region_of_state   Region1 (Northeast)  Region2 (Midwest)  Region3 (South)  \\\n",
       "loyalty_flag                                                                \n",
       "Loyal customer               0.337034           0.326898         0.330307   \n",
       "New customer                 0.154109           0.156546         0.154558   \n",
       "Regular customer             0.508857           0.516556         0.515135   \n",
       "\n",
       "region_of_state   Region4 (West)  \n",
       "loyalty_flag                      \n",
       "Loyal customer          0.335892  \n",
       "New customer            0.155302  \n",
       "Regular customer        0.508806  "
      ]
     },
     "execution_count": 29,
     "metadata": {},
     "output_type": "execute_result"
    }
   ],
   "source": [
    "loyalty_region_cross"
   ]
  },
  {
   "cell_type": "markdown",
   "id": "a9fa544d",
   "metadata": {},
   "source": [
    " ### Loyalty (loyalty_flag) and Region (region_of_state) plot"
   ]
  },
  {
   "cell_type": "code",
   "execution_count": 74,
   "id": "1b79cd8a",
   "metadata": {},
   "outputs": [
    {
     "data": {
      "image/png": "[encoded data removed]",
      "text/plain": [
       "<Figure size 640x480 with 1 Axes>"
      ]
     },
     "metadata": {},
     "output_type": "display_data"
    }
   ],
   "source": [
    "# loyalty by region\n",
    "loyalty_region_cross_bar = loyalty_region_cross.plot.bar(rot=0)"
   ]
  },
  {
   "cell_type": "code",
   "execution_count": 54,
   "id": "dea11783",
   "metadata": {},
   "outputs": [],
   "source": [
    "# Save bar chart as png\n",
    "loyalty_region_cross_bar.figure.savefig(os.path.join(path, '04 Analysis', 'Visualizations', 'loyalty_region_cross_bar.png'))"
   ]
  },
  {
   "cell_type": "markdown",
   "id": "2ae005a0",
   "metadata": {},
   "source": [
    "## Export final data set"
   ]
  },
  {
   "cell_type": "code",
   "execution_count": 144,
   "id": "3e584fd3",
   "metadata": {},
   "outputs": [],
   "source": [
    "# Export df_ords_prods_high_act_cust.pkl\n",
    "df_ords_prods_high_act_cust.to_pickle(os.path.join(path, '02 Data', 'Prepared Data', 'df_ords_prods_high_act_cust_final.pkl'))"
   ]
  },
  {
   "cell_type": "code",
   "execution_count": null,
   "id": "9505fb6f",
   "metadata": {},
   "outputs": [],
   "source": []
  }
 ],
 "metadata": {
  "kernelspec": {
   "display_name": "Python 3 (ipykernel)",
   "language": "python",
   "name": "python3"
  },
  "language_info": {
   "codemirror_mode": {
    "name": "ipython",
    "version": 3
   },
   "file_extension": ".py",
   "mimetype": "text/x-python",
   "name": "python",
   "nbconvert_exporter": "python",
   "pygments_lexer": "ipython3",
   "version": "3.9.16"
  }
 },
 "nbformat": 4,
 "nbformat_minor": 5
}

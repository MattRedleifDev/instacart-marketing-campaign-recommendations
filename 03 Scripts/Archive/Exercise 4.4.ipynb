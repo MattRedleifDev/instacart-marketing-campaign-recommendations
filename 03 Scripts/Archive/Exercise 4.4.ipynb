{
 "cells": [
  {
   "cell_type": "markdown",
   "id": "a6385a46",
   "metadata": {},
   "source": [
    "# Exercise 4.4"
   ]
  },
  {
   "cell_type": "code",
   "execution_count": 3,
   "id": "bde4b0bc",
   "metadata": {},
   "outputs": [],
   "source": [
    "# Import libraries\n",
    "import pandas as pd\n",
    "import numpy as np\n",
    "import os"
   ]
  },
  {
   "cell_type": "markdown",
   "id": "b1d937d0",
   "metadata": {},
   "source": [
    "# Scripts"
   ]
  },
  {
   "cell_type": "code",
   "execution_count": 4,
   "id": "0c5968c5",
   "metadata": {},
   "outputs": [],
   "source": [
    "path = r'C:\\Users\\XLT2\\CFProjects\\2023-04-07InstacartBasketAnalysis\\02Data\\OriginalData'"
   ]
  },
  {
   "cell_type": "code",
   "execution_count": 5,
   "id": "f690fcff",
   "metadata": {},
   "outputs": [],
   "source": [
    "df_ord = pd.read_csv(os.path.join(path, 'orders.csv'), index_col = False)"
   ]
  },
  {
   "cell_type": "code",
   "execution_count": 6,
   "id": "28505c86",
   "metadata": {},
   "outputs": [],
   "source": [
    "df_prod = pd.read_csv(os.path.join(path, 'products.csv'), index_col = False)"
   ]
  },
  {
   "cell_type": "code",
   "execution_count": null,
   "id": "f293228b",
   "metadata": {},
   "outputs": [],
   "source": []
  }
 ],
 "metadata": {
  "kernelspec": {
   "display_name": "Python 3 (ipykernel)",
   "language": "python",
   "name": "python3"
  },
  "language_info": {
   "codemirror_mode": {
    "name": "ipython",
    "version": 3
   },
   "file_extension": ".py",
   "mimetype": "text/x-python",
   "name": "python",
   "nbconvert_exporter": "python",
   "pygments_lexer": "ipython3",
   "version": "3.9.16"
  }
 },
 "nbformat": 4,
 "nbformat_minor": 5
}
